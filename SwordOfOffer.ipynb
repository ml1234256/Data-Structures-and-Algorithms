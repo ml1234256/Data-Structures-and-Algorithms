{
 "cells": [
  {
   "cell_type": "markdown",
   "metadata": {},
   "source": [
    "## 剑指offer\n",
    "刷题网址：https://www.nowcode.com/ta/coding-interviews"
   ]
  },
  {
   "cell_type": "markdown",
   "metadata": {},
   "source": [
    "### 3.数组中重复的数字\n",
    "在一个长度为n的数组里的所有数字都在0到n-1的范围内。 数组中某些数字是重复的，但不知道有几个数字是重复的。也不知道每个数字重复几次。请找出数组中任意一个重复的数字。 例如，如果输入长度为7的数组{2,3,1,0,2,5,3}，那么对应的输出是第一个重复的数字2。"
   ]
  },
  {
   "cell_type": "code",
   "execution_count": 1,
   "metadata": {},
   "outputs": [],
   "source": [
    "# -*- coding:utf-8 -*-\n",
    "class Solution:\n",
    "    # 这里要特别注意~找到任意重复的一个值并赋值到duplication[0]\n",
    "    # 函数返回True/False\n",
    "    def duplicate(self, numbers, duplication):\n",
    "        # write code here\n",
    "        if len(numbers)<1:\n",
    "            return False\n",
    "        \n",
    "        hash_list = []\n",
    "        for num in numbers:\n",
    "            if num in hash_list:\n",
    "                duplication[0] = num\n",
    "                return True\n",
    "            else:\n",
    "                hash_list.append(num)\n",
    "        return False  "
   ]
  },
  {
   "cell_type": "markdown",
   "metadata": {},
   "source": [
    "### 4. 二维数组中的查找\n",
    "在一个二维数组中（每个一维数组的长度相同），每一行都按照从左到右递增的顺序排序，每一列都按照从上到下递增的顺序排序。请完成一个函数，输入这样的一个二维数组和一个整数，判断数组中是否含有该整数。<br>\n",
    "思路：从二维数组右上角开始对比，若target更大，则向下走一格，删除一行，若target更小，则向左走一格，删除一列"
   ]
  },
  {
   "cell_type": "code",
   "execution_count": 8,
   "metadata": {},
   "outputs": [],
   "source": [
    "# -*- coding:utf-8 -*-\n",
    "class Solution(object):\n",
    "    # array 二维列表\n",
    "    def Find(self, target, array):\n",
    "        # write code here\n",
    "        if array == None:\n",
    "            return False\n",
    "        \n",
    "        m = len(array)\n",
    "        n = len(array[0])\n",
    "        row = 0\n",
    "        col = n-1\n",
    "        \n",
    "        while row < m and col >= 0:\n",
    "            if target > array[row][col]:\n",
    "                row += 1\n",
    "            elif target < array[row][col]:\n",
    "                col -= 1\n",
    "            else:\n",
    "                return True\n",
    "            \n",
    "        return False"
   ]
  },
  {
   "cell_type": "markdown",
   "metadata": {},
   "source": [
    "### 5.替换空格\n",
    "题目：请实现一个函数，把字符串中的每个空格替换成\"%20\"。例如，输入\"We are happy.\"，则输出\"We%20are%20happy.\"。  \n",
    "解题思路：1.计空格的个数 2.新开一块足够的存储空间 3.从后向前(或从前向后）的依次替换空格(算法时间效率O(n))"
   ]
  },
  {
   "cell_type": "code",
   "execution_count": 38,
   "metadata": {},
   "outputs": [
    {
     "data": {
      "text/plain": [
       "'We%20are%20happy'"
      ]
     },
     "execution_count": 38,
     "metadata": {},
     "output_type": "execute_result"
    }
   ],
   "source": [
    "# -*- coding:utf-8 -*-\n",
    "class Solution:\n",
    "    # s 源字符串\n",
    "    def replaceSpace(self, s):\n",
    "        # write code here\n",
    "        # method 1:\n",
    "        # return '%20'.join(s.split(' '))\n",
    "        # method2:\n",
    "        # return s.replace(' ', '%20')\n",
    "        \n",
    "        origin_s = list(s)\n",
    "        origin_length = len(origin_s)\n",
    "        number_of_blank = 0\n",
    "        for i in origin_s:\n",
    "            if i == ' ':\n",
    "                number_of_blank += 1\n",
    "        new_length = origin_length + 2 * number_of_blank\n",
    "        new_s = [None] * new_length\n",
    "        \n",
    "        origin_idx = 0\n",
    "        new_idx = 0\n",
    "        while origin_idx < origin_length:\n",
    "            if origin_s[origin_idx] == ' ':\n",
    "                for n in ['%', '2', '0']:\n",
    "                    new_s[new_idx] = n\n",
    "                    new_idx += 1\n",
    "            else:\n",
    "                new_s[new_idx] = origin_s[origin_idx]\n",
    "                new_idx += 1\n",
    "            origin_idx += 1\n",
    "        return ''.join(new_s)\n",
    "\n",
    "s = 'We are happy'\n",
    "Solution().replaceSpace(s)"
   ]
  },
  {
   "cell_type": "markdown",
   "metadata": {},
   "source": [
    "### 6. 从尾到头打印链表\n",
    "题目：输入一个链表的头节点，从尾到头反过来打印出每个节点的值。  \n",
    "解题思路：利用栈的先进后出特性存储链表然后再输出(或者利用递归函数)"
   ]
  },
  {
   "cell_type": "code",
   "execution_count": 53,
   "metadata": {},
   "outputs": [
    {
     "name": "stdout",
     "output_type": "stream",
     "text": [
      "0\n",
      "1\n",
      "2\n",
      "3\n",
      "4\n"
     ]
    },
    {
     "data": {
      "text/plain": [
       "[4, 3, 2, 1, 0]"
      ]
     },
     "execution_count": 53,
     "metadata": {},
     "output_type": "execute_result"
    }
   ],
   "source": [
    "# -*- coding:utf-8 -*-\n",
    "class ListNode:\n",
    "    def __init__(self, x):\n",
    "        self.val = x\n",
    "        self.next = None\n",
    "\n",
    "class Solution:\n",
    "    # 返回从尾部到头部的列表值序列，例如[1,2,3]\n",
    "    def printListFromTailToHead(self, listNode):\n",
    "        # write code here\n",
    "        # method2: 递归函数\n",
    "#         if listNode == None:\n",
    "#             return []\n",
    "#         else:\n",
    "#             return self.printListFromTailToHead(listNode.next) + [listNode.val]  \n",
    "        data_list = []\n",
    "        if listNode == None:\n",
    "            return data_list\n",
    "        pNode = listNode\n",
    "        while pNode != None:\n",
    "            data_list.append(pNode.val)\n",
    "            pNode = pNode.next\n",
    "        # method 2: 利用栈（stark)\n",
    "        # data_list.reverse()\n",
    "        # return data_list\n",
    "        return data_list[::-1]\n",
    "\n",
    "while head != None:\n",
    "    head = head.next\n",
    "head = ListNode(0)\n",
    "tail = head\n",
    "for i in range(1,5):\n",
    "    tail.next = ListNode(i)\n",
    "    tail = tail.next\n",
    "prob = head\n",
    "while prob != None:\n",
    "    print(prob.val)\n",
    "    prob = prob.next\n",
    "Solution().printListFromTailToHead(head)"
   ]
  },
  {
   "cell_type": "markdown",
   "metadata": {},
   "source": [
    "### 7.重建二叉树\n",
    "题目：输入某二叉树的前序遍历和中序遍历的结果，请重建该二叉树。假设输入的前序遍历和中序遍历的结果中都不含重复数字。例如输入前序遍历序列{1,2,4,7,3,5,6,8}和中序遍历序列{4,7,2,1,5,3,8,6}，则重建二叉树并返回。"
   ]
  },
  {
   "cell_type": "code",
   "execution_count": null,
   "metadata": {},
   "outputs": [],
   "source": [
    "# -*- coding:utf-8 -*-\n",
    "class TreeNode:\n",
    "    def __init__(self, x):\n",
    "        self.val = x\n",
    "        self.left = None\n",
    "        self.right = None\n",
    "        \n",
    "class Solution:\n",
    "    # 返回构造的TreeNode根节点\n",
    "    def reConstructBinaryTree(self, pre, tin):\n",
    "        # write code here\n",
    "        if not pre or not tin:\n",
    "            return None\n",
    "        \n",
    "        root = TreeNode(pre[0])\n",
    "        root_inorder_idx = tin.index(pre[0])\n",
    "        \n",
    "        root.left = self.reConstructBinaryTree(pre[1:root_inorder_idx+1], tin[:root_inorder_idx])\n",
    "        root.right = self.reConstructBinaryTree(pre[root_inorder_idx+1:], tin[root_inorder_idx+1:])\n",
    "        return root"
   ]
  },
  {
   "cell_type": "markdown",
   "metadata": {},
   "source": [
    "###  8.二叉树的下一个节点\n",
    "题目：给定一颗二叉树和其中的一个节点，如何找出中序遍历序列的下一个节点？树中的节点除了有两个分别指向左、右子节点的指针，还有一个指向父节点的指针。"
   ]
  },
  {
   "cell_type": "code",
   "execution_count": 59,
   "metadata": {},
   "outputs": [],
   "source": [
    "# -*- coding:utf-8 -*-\n",
    "# class TreeLinkNode:\n",
    "#     def __init__(self, x):\n",
    "#         self.val = x\n",
    "#         self.left = None\n",
    "#         self.right = None\n",
    "#         self.next = None\n",
    "class Solution:\n",
    "    def GetNext(self, pNode):\n",
    "        # write code here\n",
    "        pNext = None\n",
    "        if not pNode:\n",
    "            return None\n",
    "        # 如果pNode有右子树，则下一结点是右子树中的左结点\n",
    "        if pNode.right != None:\n",
    "            pNext = pNode.right\n",
    "            while pNext.left != None:\n",
    "                pNext = pNext.left\n",
    "        # 如果pNode没有右子树，且pNode是其父结点的右结点\n",
    "        elif pNode.next != None:\n",
    "             # 如果pNode没有右子树，且pNode是其父结点的右结点\n",
    "            pCurrent = pNode\n",
    "            pParent = pNode.next\n",
    "            while pParent != None and pCurrent == pParent.right:\n",
    "                pCurrent = pParent\n",
    "                pParent = pParent.next\n",
    "            # 如果pNode是其父结点的左结点，则直接返回其父结点\n",
    "            pNext = pParent\n",
    "        return pNext"
   ]
  },
  {
   "cell_type": "markdown",
   "metadata": {},
   "source": [
    "### 9.用两个栈实现队列\n",
    "\n",
    "题目：用两个栈来实现一个队列，完成队列的Push和Pop操作。 队列中的元素为int类型。  \n",
    "解题思路：利用栈A入队，如果stackB为空，则将stackA中数据倒压在stackB中，再stackB.pop()，如果stackB不为空，则直接stackB.pop()"
   ]
  },
  {
   "cell_type": "code",
   "execution_count": 1,
   "metadata": {},
   "outputs": [],
   "source": [
    "# -*- coding:utf-8 -*-\n",
    "class Solution:\n",
    "    def __init__(self):\n",
    "        self.stackA = []\n",
    "        self.stackB = []\n",
    "        \n",
    "    def push(self, node):\n",
    "        # write code here\n",
    "        self.stackA.append(node)\n",
    "        \n",
    "    def pop(self):\n",
    "        # return xx\n",
    "        # 如果stackB为空，则将stackA中数据倒压在stackB中，再stackB.pop()\n",
    "        if not self.stackB:\n",
    "            while self.stackA:\n",
    "                self.stackB.append(self.stackA.pop())\n",
    "        # 如果stackB不为空，则直接stackB.pop()\n",
    "        return self.stackB.pop()"
   ]
  },
  {
   "cell_type": "markdown",
   "metadata": {},
   "source": [
    "题目拓展：用两个队列实现一个栈"
   ]
  },
  {
   "cell_type": "code",
   "execution_count": 4,
   "metadata": {},
   "outputs": [],
   "source": [
    "class Solution:\n",
    "    def __init__(self):\n",
    "        self.queueA=[]\n",
    "        self.queueB=[]\n",
    "\n",
    "    def push(self,node):\n",
    "        self.queueA.insert(0,node)\n",
    "    \n",
    "    def pop(self):\n",
    "        if not self.queueA:\n",
    "            return None\n",
    "\n",
    "        while len(self.queueA)!=1:\n",
    "            self.queueB.insert(0,self.queueA.pop())\n",
    "        self.queueA,self.queueB=self.queueB,self.queueA\n",
    "        return self.queueB.pop()"
   ]
  },
  {
   "cell_type": "markdown",
   "metadata": {},
   "source": [
    "### 10.斐波拉契数列¶\n",
    "\n",
    "斐波那契数列（Fibonacci sequence）指的是这样一个数列：1、1、2、3、5、8、13、21、34、……,以如下被以递推的方法定义：F(1)=1，F(2)=1, F(n)=F(n-1)+F(n-2)（n>=3，n∈N*），现在要求输入一个整数n，请你输出斐波那契数列的第n项（从0开始，第0项为0）。 n<=39 \n",
    "\n",
    "解题思路：可以用递归的方式来实现，但算法效率低，使用循环来代替递归会更好\n"
   ]
  },
  {
   "cell_type": "code",
   "execution_count": null,
   "metadata": {},
   "outputs": [],
   "source": [
    "# -*- coding:utf-8 -*-\n",
    "class Solution:\n",
    "    def Fibonacci(self, n):\n",
    "        # write code here\n",
    "        fibo = [0, 1]\n",
    "        while len(fibo) <= n:\n",
    "            fibo.append(fibo[-1] + fibo[-2])\n",
    "        return fibo[n]\n",
    "\n",
    "Solution().Fibonacci(5)"
   ]
  },
  {
   "cell_type": "markdown",
   "metadata": {},
   "source": [
    "题目拓展：：青蛙跳台阶问题\n",
    "一只青蛙一次可以跳上一级台阶，也可以跳上2级台阶。求该青蛙跳上一个n级台阶总共有多少种跳法。 \n",
    "\n",
    "解题思路：f(1) = 1, f(2) = 2, 一般情况，先跳一级，剩余还有f(n-1)种方法，先跳2级，剩余还有f(n-2)种方法，所以f(n) = f(n-1) + f(n-2)，因此与斐波拉契数列相似"
   ]
  },
  {
   "cell_type": "code",
   "execution_count": 8,
   "metadata": {},
   "outputs": [],
   "source": [
    "class Solution:\n",
    "    \"\"\"青蛙台阶问题、矩形覆盖问题\"\"\"\n",
    "    def jumpFloor(self, number):\n",
    "        pass"
   ]
  },
  {
   "cell_type": "markdown",
   "metadata": {},
   "source": [
    "### 11.旋转数组中的最小数字\n",
    "\n",
    "把一个数组最开始的若干个元素搬到数组的末尾，我们称之为数组的旋转。 输入一个非减排序的数组的一个旋转，输出旋转数组的最小元素。 例如数组{3,4,5,1,2}为{1,2,3,4,5}的一个旋转，该数组的最小值为1。 NOTE：给出的所有元素都大于0，若数组大小为0，请返回0  \n",
    "解题思路：旋转后的排序数组是由两个已排好序的子数组组成，利用对撞指针的二分查找法逐步缩小查找范围，但若遇上大量重复数字时，需要遍历子数组进行查找\n"
   ]
  },
  {
   "cell_type": "code",
   "execution_count": 10,
   "metadata": {},
   "outputs": [],
   "source": [
    "# -*- coding:utf-8 -*-\n",
    "class Solution:\n",
    "    def minNumberInRotateArray(self, rotateArray):\n",
    "        # write code here\n",
    "        if len(rotateArray) == 0:\n",
    "            return 0\n",
    "        \n",
    "        if len(rotateArray) == 1:\n",
    "            return rotateArray[0]\n",
    "        \n",
    "        for i in range(len(rotateArray)-1):\n",
    "            if rotateArray[i] > rotateArray[i+1]:\n",
    "                return rotateArray[i+1]\n",
    "#         method2:\n",
    "#         for n in rotateArray:\n",
    "#             if n < rotateArray[0]:\n",
    "#                 return n \n",
    "            "
   ]
  },
  {
   "cell_type": "code",
   "execution_count": null,
   "metadata": {},
   "outputs": [],
   "source": []
  }
 ],
 "metadata": {
  "kernelspec": {
   "display_name": "Python 3",
   "language": "python",
   "name": "python3"
  },
  "language_info": {
   "codemirror_mode": {
    "name": "ipython",
    "version": 3
   },
   "file_extension": ".py",
   "mimetype": "text/x-python",
   "name": "python",
   "nbconvert_exporter": "python",
   "pygments_lexer": "ipython3",
   "version": "3.7.1"
  }
 },
 "nbformat": 4,
 "nbformat_minor": 2
}
