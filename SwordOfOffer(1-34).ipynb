{
 "cells": [
  {
   "cell_type": "markdown",
   "metadata": {},
   "source": [
    "## 剑指offer\n",
    "刷题网址：https://www.nowcode.com/ta/coding-interviews  \n",
    "参考: https://www.cnblogs.com/yanmk/p/9130681.html\n",
    "#### 算法部分\n",
    "- 二分搜索 Binary Search \n",
    "- 分治 Divide Conquer \n",
    "- 宽度优先搜索 Breadth First Search \n",
    "- 深度优先搜索 Depth First Search\n",
    "- 回溯法 Backtracking \n",
    "- 双指针 Two Pointers \n",
    "- 动态规划 Dynamic Programming \n",
    "- 扫描线 Scan-line algorithm\n",
    "- 快排 Quick Sort\n",
    "\n",
    "#### 数据结构部分\n",
    "- 栈 Stack\n",
    "- 队列 Queue\n",
    "- 链表 Linked List \n",
    "- 数组 Array \n",
    "- 哈希表 Hash Table\n",
    "- 二叉树 Binary Tree  \n",
    "- 堆 Heap\n",
    "- 并查集 Union Find\n",
    "- 字典树 Trie"
   ]
  },
  {
   "cell_type": "markdown",
   "metadata": {},
   "source": [
    "### 3.数组中重复的数字\n",
    "在一个长度为n的数组里的所有数字都在0到n-1的范围内。 数组中某些数字是重复的，但不知道有几个数字是重复的。也不知道每个数字重复几次。请找出数组中任意一个重复的数字。 例如，如果输入长度为7的数组{2,3,1,0,2,5,3}，那么对应的输出是第一个重复的数字2。"
   ]
  },
  {
   "cell_type": "code",
   "execution_count": 1,
   "metadata": {},
   "outputs": [],
   "source": [
    "# -*- coding:utf-8 -*-\n",
    "class Solution:\n",
    "    # 这里要特别注意~找到任意重复的一个值并赋值到duplication[0]\n",
    "    # 函数返回True/False\n",
    "    def duplicate(self, numbers, duplication):\n",
    "        # write code here\n",
    "        if len(numbers)<1:\n",
    "            return False\n",
    "        \n",
    "        hash_list = []\n",
    "        for num in numbers:\n",
    "            if num in hash_list:\n",
    "                duplication[0] = num\n",
    "                return True\n",
    "            else:\n",
    "                hash_list.append(num)\n",
    "        return False  "
   ]
  },
  {
   "cell_type": "markdown",
   "metadata": {},
   "source": [
    "### 4. 二维数组中的查找\n",
    "在一个二维数组中（每个一维数组的长度相同），每一行都按照从左到右递增的顺序排序，每一列都按照从上到下递增的顺序排序。请完成一个函数，输入这样的一个二维数组和一个整数，判断数组中是否含有该整数。<br>\n",
    "思路：从二维数组右上角开始对比，若target更大，则向下走一格，删除一行，若target更小，则向左走一格，删除一列"
   ]
  },
  {
   "cell_type": "code",
   "execution_count": 8,
   "metadata": {},
   "outputs": [],
   "source": [
    "# -*- coding:utf-8 -*-\n",
    "class Solution(object):\n",
    "    # array 二维列表\n",
    "    def Find(self, target, array):\n",
    "        # write code here\n",
    "        if array == None:\n",
    "            return False\n",
    "        \n",
    "        m = len(array)\n",
    "        n = len(array[0])\n",
    "        row = 0\n",
    "        col = n-1\n",
    "        \n",
    "        while row < m and col >= 0:\n",
    "            if target > array[row][col]:\n",
    "                row += 1\n",
    "            elif target < array[row][col]:\n",
    "                col -= 1\n",
    "            else:\n",
    "                return True\n",
    "            \n",
    "        return False"
   ]
  },
  {
   "cell_type": "markdown",
   "metadata": {},
   "source": [
    "### 5.替换空格\n",
    "题目：请实现一个函数，把字符串中的每个空格替换成\"%20\"。例如，输入\"We are happy.\"，则输出\"We%20are%20happy.\"。  \n",
    "解题思路：1.计空格的个数 2.新开一块足够的存储空间 3.从后向前(或从前向后）的依次替换空格(算法时间效率O(n))"
   ]
  },
  {
   "cell_type": "code",
   "execution_count": 38,
   "metadata": {},
   "outputs": [
    {
     "data": {
      "text/plain": [
       "'We%20are%20happy'"
      ]
     },
     "execution_count": 38,
     "metadata": {},
     "output_type": "execute_result"
    }
   ],
   "source": [
    "# -*- coding:utf-8 -*-\n",
    "class Solution:\n",
    "    # s 源字符串\n",
    "    def replaceSpace(self, s):\n",
    "        # write code here\n",
    "        # method 1:\n",
    "        # return '%20'.join(s.split(' '))\n",
    "        # method2:\n",
    "        # return s.replace(' ', '%20')\n",
    "        \n",
    "        origin_s = list(s)\n",
    "        origin_length = len(origin_s)\n",
    "        number_of_blank = 0\n",
    "        for i in origin_s:\n",
    "            if i == ' ':\n",
    "                number_of_blank += 1\n",
    "        new_length = origin_length + 2 * number_of_blank\n",
    "        new_s = [None] * new_length\n",
    "        \n",
    "        origin_idx = 0\n",
    "        new_idx = 0\n",
    "        while origin_idx < origin_length:\n",
    "            if origin_s[origin_idx] == ' ':\n",
    "                for n in ['%', '2', '0']:\n",
    "                    new_s[new_idx] = n\n",
    "                    new_idx += 1\n",
    "            else:\n",
    "                new_s[new_idx] = origin_s[origin_idx]\n",
    "                new_idx += 1\n",
    "            origin_idx += 1\n",
    "        return ''.join(new_s)\n",
    "\n",
    "s = 'We are happy'\n",
    "Solution().replaceSpace(s)"
   ]
  },
  {
   "cell_type": "code",
   "execution_count": 21,
   "metadata": {},
   "outputs": [
    {
     "name": "stdout",
     "output_type": "stream",
     "text": [
      "list(s):  ['W', 'e', ' ', 'a', 'r', 'e', ' ', 'h', 'a', 'p', 'p', 'y']\n",
      "[s[2:]]:  [' are happy']\n",
      "s.split():  ['We', 'are', 'happy']\n"
     ]
    },
    {
     "data": {
      "text/plain": [
       "'We are happy'"
      ]
     },
     "execution_count": 21,
     "metadata": {},
     "output_type": "execute_result"
    }
   ],
   "source": [
    "# trick\n",
    "s = 'We are happy'\n",
    "print('list(s): ', list(s))\n",
    "print('[s[2:]]: ', [s[2:]])\n",
    "print('s.split(): ', s.split())\n",
    "s = s.split()\n",
    "' '.join(s)"
   ]
  },
  {
   "cell_type": "markdown",
   "metadata": {},
   "source": [
    "### 6. 从尾到头打印链表\n",
    "题目：输入一个链表的头节点，从尾到头反过来打印出每个节点的值。  \n",
    "解题思路：利用栈的先进后出特性存储链表然后再输出(或者利用递归函数)"
   ]
  },
  {
   "cell_type": "code",
   "execution_count": 53,
   "metadata": {},
   "outputs": [
    {
     "name": "stdout",
     "output_type": "stream",
     "text": [
      "0\n",
      "1\n",
      "2\n",
      "3\n",
      "4\n"
     ]
    },
    {
     "data": {
      "text/plain": [
       "[4, 3, 2, 1, 0]"
      ]
     },
     "execution_count": 53,
     "metadata": {},
     "output_type": "execute_result"
    }
   ],
   "source": [
    "# -*- coding:utf-8 -*-\n",
    "class ListNode:\n",
    "    def __init__(self, x):\n",
    "        self.val = x\n",
    "        self.next = None\n",
    "\n",
    "class Solution:\n",
    "    # 返回从尾部到头部的列表值序列，例如[1,2,3]\n",
    "    def printListFromTailToHead(self, listNode):\n",
    "        # write code here\n",
    "        # method2: 递归函数\n",
    "#         if listNode == None:\n",
    "#             return []\n",
    "#         else:\n",
    "#             return self.printListFromTailToHead(listNode.next) + [listNode.val]  \n",
    "        data_list = []\n",
    "        if listNode == None:\n",
    "            return data_list\n",
    "        pNode = listNode\n",
    "        while pNode != None:\n",
    "            data_list.append(pNode.val)\n",
    "            pNode = pNode.next\n",
    "        # method 2: 利用栈（stark)\n",
    "        # data_list.reverse()\n",
    "        # return data_list\n",
    "        return data_list[::-1]\n",
    "\n",
    "# clear linked\n",
    "while head != None:\n",
    "    head = head.next\n",
    "# create linked\n",
    "head = ListNode(0)\n",
    "tail = head\n",
    "for i in range(1,5):\n",
    "    tail.next = ListNode(i)\n",
    "    tail = tail.next\n",
    "# print linked\n",
    "prob = head\n",
    "while prob != None:\n",
    "    print(prob.val)\n",
    "    prob = prob.next\n",
    "    \n",
    "Solution().printListFromTailToHead(head)"
   ]
  },
  {
   "cell_type": "markdown",
   "metadata": {},
   "source": [
    "### 7.重建二叉树\n",
    "题目：输入某二叉树的前序遍历和中序遍历的结果，请重建该二叉树。假设输入的前序遍历和中序遍历的结果中都不含重复数字。例如输入前序遍历序列{1,2,4,7,3,5,6,8}和中序遍历序列{4,7,2,1,5,3,8,6}，则重建二叉树并返回。  \n",
    "递归"
   ]
  },
  {
   "cell_type": "code",
   "execution_count": null,
   "metadata": {},
   "outputs": [],
   "source": [
    "# -*- coding:utf-8 -*-\n",
    "class TreeNode:\n",
    "    def __init__(self, x):\n",
    "        self.val = x\n",
    "        self.left = None\n",
    "        self.right = None\n",
    "        \n",
    "class Solution:\n",
    "    # 返回构造的TreeNode根节点\n",
    "    def reConstructBinaryTree(self, pre, tin):\n",
    "        # write code here\n",
    "        if not pre or not tin:\n",
    "            return None\n",
    "        \n",
    "        root = TreeNode(pre[0])\n",
    "        root_inorder_idx = tin.index(pre[0])\n",
    "        \n",
    "        root.left = self.reConstructBinaryTree(pre[1:root_inorder_idx+1], tin[:root_inorder_idx])\n",
    "        root.right = self.reConstructBinaryTree(pre[root_inorder_idx+1:], tin[root_inorder_idx+1:])\n",
    "        return root"
   ]
  },
  {
   "cell_type": "markdown",
   "metadata": {},
   "source": [
    "###  8.二叉树的下一个节点\n",
    "题目：给定一颗二叉树和其中的一个节点，如何找出中序遍历序列的下一个节点？树中的节点除了有两个分别指向左、右子节点的指针，还有一个指向父节点的指针。"
   ]
  },
  {
   "cell_type": "code",
   "execution_count": 59,
   "metadata": {},
   "outputs": [],
   "source": [
    "# -*- coding:utf-8 -*-\n",
    "# class TreeLinkNode:\n",
    "#     def __init__(self, x):\n",
    "#         self.val = x\n",
    "#         self.left = None\n",
    "#         self.right = None\n",
    "#         self.next = None\n",
    "class Solution:\n",
    "    def GetNext(self, pNode):\n",
    "        # write code here\n",
    "        pNext = None\n",
    "        if not pNode:\n",
    "            return None\n",
    "        # 如果pNode有右子树，则下一结点是右子树中的左结点\n",
    "        if pNode.right != None:\n",
    "            pNext = pNode.right\n",
    "            while pNext.left != None:\n",
    "                pNext = pNext.left\n",
    "        # 如果pNode没有右子树，且pNode是其父结点的右结点\n",
    "        elif pNode.next != None:\n",
    "             # 如果pNode没有右子树，且pNode是其父结点的右结点\n",
    "            pCurrent = pNode\n",
    "            pParent = pNode.next\n",
    "            while pParent != None and pCurrent == pParent.right:\n",
    "                pCurrent = pParent\n",
    "                pParent = pParent.next\n",
    "            # 如果pNode是其父结点的左结点，则直接返回其父结点\n",
    "            pNext = pParent\n",
    "        return pNext"
   ]
  },
  {
   "cell_type": "markdown",
   "metadata": {},
   "source": [
    "### 9.用两个栈实现队列\n",
    "\n",
    "题目：用两个栈来实现一个队列，完成队列的Push和Pop操作。 队列中的元素为int类型。  \n",
    "解题思路：利用栈A入队，如果stackB为空，则将stackA中数据倒压在stackB中，再stackB.pop()，如果stackB不为空，则直接stackB.pop()"
   ]
  },
  {
   "cell_type": "code",
   "execution_count": 1,
   "metadata": {},
   "outputs": [],
   "source": [
    "# -*- coding:utf-8 -*-\n",
    "class Solution:\n",
    "    def __init__(self):\n",
    "        self.stackA = []\n",
    "        self.stackB = []\n",
    "        \n",
    "    def push(self, node):\n",
    "        # write code here\n",
    "        self.stackA.append(node)\n",
    "        \n",
    "    def pop(self):\n",
    "        # return xx\n",
    "        # 如果stackB为空，则将stackA中数据倒压在stackB中，再stackB.pop()\n",
    "        if not self.stackB:\n",
    "            while self.stackA:\n",
    "                self.stackB.append(self.stackA.pop())\n",
    "        # 如果stackB不为空，则直接stackB.pop()\n",
    "        return self.stackB.pop()"
   ]
  },
  {
   "cell_type": "markdown",
   "metadata": {},
   "source": [
    "题目拓展：用两个队列实现一个栈"
   ]
  },
  {
   "cell_type": "code",
   "execution_count": 4,
   "metadata": {},
   "outputs": [],
   "source": [
    "class Solution:\n",
    "    def __init__(self):\n",
    "        self.queueA=[]\n",
    "        self.queueB=[]\n",
    "\n",
    "    def push(self,node):\n",
    "        self.queueA.insert(0,node)\n",
    "    \n",
    "    def pop(self):\n",
    "        if not self.queueA:\n",
    "            return None\n",
    "\n",
    "        while len(self.queueA)!=1:\n",
    "            self.queueB.insert(0,self.queueA.pop())\n",
    "        self.queueA,self.queueB=self.queueB,self.queueA\n",
    "        return self.queueB.pop()"
   ]
  },
  {
   "cell_type": "markdown",
   "metadata": {},
   "source": [
    "### 10.斐波拉契数列¶\n",
    "\n",
    "斐波那契数列（Fibonacci sequence）指的是这样一个数列：1、1、2、3、5、8、13、21、34、……,以如下被以递推的方法定义：F(1)=1，F(2)=1, F(n)=F(n-1)+F(n-2)（n>=3，n∈N*），现在要求输入一个整数n，请你输出斐波那契数列的第n项（从0开始，第0项为0）。 n<=39 \n",
    "\n",
    "解题思路：可以用递归的方式来实现，但算法效率低，使用循环来代替递归会更好\n"
   ]
  },
  {
   "cell_type": "code",
   "execution_count": 14,
   "metadata": {},
   "outputs": [
    {
     "data": {
      "text/plain": [
       "5"
      ]
     },
     "execution_count": 14,
     "metadata": {},
     "output_type": "execute_result"
    }
   ],
   "source": [
    "# -*- coding:utf-8 -*-\n",
    "class Solution:\n",
    "    def Fibonacci(self, n):\n",
    "        # write code here\n",
    "#         method2:递归\n",
    "#         if n == 0:\n",
    "#             return 0\n",
    "#         if n == 1:\n",
    "#             return 1\n",
    "#         else:\n",
    "#             return self.Fibonacci(n-1) + self.Fibonacci(n-2)\n",
    "        fibo = [0, 1]\n",
    "        while len(fibo) <= n:\n",
    "            fibo.append(fibo[-1] + fibo[-2])\n",
    "        return fibo[n]\n",
    "    \n",
    "\n",
    "Solution().Fibonacci(5)"
   ]
  },
  {
   "cell_type": "markdown",
   "metadata": {},
   "source": [
    "#### 跳台阶\n",
    "一只青蛙一次可以跳上一级台阶，也可以跳上2级台阶。求该青蛙跳上一个n级台阶总共有多少种跳法。 \n",
    "\n",
    "解题思路：f(1) = 1, f(2) = 2, 一般情况，先跳一级，剩余还有f(n-1)种方法，先跳2级，剩余还有f(n-2)种方法，所以f(n) = f(n-1) + f(n-2)，因此与斐波拉契数列相似"
   ]
  },
  {
   "cell_type": "code",
   "execution_count": 8,
   "metadata": {},
   "outputs": [],
   "source": [
    "class Solution:\n",
    "    \"\"\"青蛙台阶问题、矩形覆盖问题\"\"\"\n",
    "    def jumpFloor(self, number):\n",
    "#         if number == 1:\n",
    "#             return 1\n",
    "#         if number == 2:\n",
    "#             return 2\n",
    "#         else:\n",
    "#             return self.jumpFloor(number -1) + self.jumpFloor(number-2)\n",
    "        fibo = [0, 1, 2]\n",
    "        while len(fibo) <= number:\n",
    "            fibo.append(fibo[-1] + fibo[-2])\n",
    "        return fibo[number]"
   ]
  },
  {
   "cell_type": "markdown",
   "metadata": {},
   "source": [
    "#### 变态跳台阶\n",
    "一只青蛙一次可以跳上1级台阶，也可以跳上2级……它也可以跳上n级。求该青蛙跳上一个n级的台阶总共有多少种跳法。"
   ]
  },
  {
   "cell_type": "code",
   "execution_count": 16,
   "metadata": {},
   "outputs": [
    {
     "data": {
      "text/plain": [
       "8"
      ]
     },
     "execution_count": 16,
     "metadata": {},
     "output_type": "execute_result"
    }
   ],
   "source": [
    "# -*- coding:utf-8 -*-\n",
    "class Solution:\n",
    "    def jumpFloorII(self, number):\n",
    "        # write code here\n",
    "        fibo = [0, 1, 2]\n",
    "        while len(fibo) <= number:\n",
    "            fibo.append(sum(fibo)+1)\n",
    "        return fibo[number]\n",
    "#         method2:\n",
    "#         return 2 ** (number-1)\n",
    "\n",
    "Solution().jumpFloorII(4)"
   ]
  },
  {
   "cell_type": "markdown",
   "metadata": {},
   "source": [
    "### 矩形覆盖\n",
    "我们可以用2x1的小矩形横着或者竖着去覆盖更大的矩形。请问用n个2x1的小矩形无重叠地覆盖一个2xn的大矩形，总共有多少种方法？"
   ]
  },
  {
   "cell_type": "code",
   "execution_count": null,
   "metadata": {},
   "outputs": [],
   "source": [
    "# -*- coding:utf-8 -*-\n",
    "class Solution:\n",
    "    def rectCover(self, number):\n",
    "        # write code here\n",
    "        fibo = [0, 1, 2]\n",
    "        while len(fibo) <= number:\n",
    "            fibo.append(fibo[-1] + fibo[-2])\n",
    "        return fibo[number]"
   ]
  },
  {
   "cell_type": "markdown",
   "metadata": {},
   "source": [
    "### 11.旋转数组中的最小数字\n",
    "\n",
    "把一个数组最开始的若干个元素搬到数组的末尾，我们称之为数组的旋转。 输入一个非减排序的数组的一个旋转，输出旋转数组的最小元素。 例如数组{3,4,5,1,2}为{1,2,3,4,5}的一个旋转，该数组的最小值为1。 NOTE：给出的所有元素都大于0，若数组大小为0，请返回0  \n",
    "解题思路：旋转后的排序数组是由两个已排好序的子数组组成，利用对撞指针的二分查找法逐步缩小查找范围，但若遇上大量重复数字时，需要遍历子数组进行查找\n"
   ]
  },
  {
   "cell_type": "code",
   "execution_count": 10,
   "metadata": {},
   "outputs": [],
   "source": [
    "# -*- coding:utf-8 -*-\n",
    "class Solution:\n",
    "    def minNumberInRotateArray(self, rotateArray):\n",
    "        # write code here\n",
    "        if len(rotateArray) == 0:\n",
    "            return 0\n",
    "        \n",
    "        if len(rotateArray) == 1:\n",
    "            return rotateArray[0]\n",
    "        \n",
    "        for i in range(len(rotateArray)-1):\n",
    "            if rotateArray[i] > rotateArray[i+1]:\n",
    "                return rotateArray[i+1]\n",
    "#         method2:\n",
    "#         for n in rotateArray:\n",
    "#             if n < rotateArray[0]:\n",
    "#                 return n \n",
    "            "
   ]
  },
  {
   "cell_type": "markdown",
   "metadata": {},
   "source": [
    "### 12.矩阵中的路径\n",
    "请设计一个函数，用来判断在一个矩阵中是否存在一条包含某字符串所有字符的路径。路径可以从矩阵中的任意一个格子开始，每一步可以在矩阵中向左，向右，向上，向下移动一个格子。如果一条路径经过了矩阵中的某一个格子，则该路径不能再进入该格子。如   \n",
    "a b c e   \n",
    "s f c s  \n",
    "a d e e  \n",
    "矩阵中包含一条字符串\"bcced\"的路径，但是矩阵中不包含\"abcb\"路径，因为字符串的第一个字符b占据了矩阵中的第一行第二个格子之后，路径不能再次进入该格子。  \n",
    "解题思路：回溯算法，递归"
   ]
  },
  {
   "cell_type": "code",
   "execution_count": 35,
   "metadata": {},
   "outputs": [],
   "source": [
    "# -*- coding:utf-8 -*-\n",
    "class Solution:\n",
    "    def hasPath(self, matrix, rows, cols, word):\n",
    "        # input example: \n",
    "        # matrix = 'ABCESFCSADEE'\n",
    "        # rows = 3, cols = 4, strs = 'ABCB'               \n",
    "        if not matrix:\n",
    "            return False\n",
    "        if not word:\n",
    "            return True\n",
    "        # 构建输入矩阵\n",
    "        m = [list(matrix[i:i+cols]) for i in range(0, len(matrix), cols)]\n",
    "        # visited = [[False]*clos]*rows\n",
    "        # 这样构造矩阵，其行将会是第一行的浅拷贝，修改任一元素，将引起整列元素同时被改，因此采用下面的循环进行构造\n",
    "        # isited = [[False]*cols for _ in range(rows)]\n",
    "        for i in range(rows):\n",
    "            for j in range(cols):\n",
    "                if self.hasPathCore(m,i,j,word):\n",
    "                    return True\n",
    "        return False\n",
    "    \n",
    "    def hasPathCore(self, matrix, i, j, word):\n",
    "        # 递归调用自己，探索每一个节点\n",
    "        if not word:\n",
    "            return True\n",
    "        # 如果索引溢出或matrix[i][i]不等于word的第一个数则返回False\n",
    "        if i >= len(matrix) or i < 0 or j >= len(matrix[0]) or j < 0 or matrix[i][j] != word[0]:\n",
    "            return False\n",
    "        tmp = matrix[i][j]\n",
    "        # 走过的的格子置为'.'\n",
    "        matrix[i][j] = '.'\n",
    "        if self.hasPathCore(matrix, i-1, j, word[1:]) or self.hasPathCore(matrix, i+1, j, word[1:]) or \\\n",
    "        self.hasPathCore(matrix, i, j-1, word[1:]) or self.hasPathCore(matrix, i, j+1, word[1:]):\n",
    "            return True\n",
    "        # 若走不通则返回上一步\n",
    "        matrix[i][j] = tmp      \n",
    "        return False"
   ]
  },
  {
   "cell_type": "code",
   "execution_count": 59,
   "metadata": {},
   "outputs": [
    {
     "name": "stdout",
     "output_type": "stream",
     "text": [
      "[m[i:i+cols] for i in range(0, len(m), cols)]:  ['ABCD', 'EFGH', 'IFFE']\n",
      "[list(m[i:i+cols]) for i in range(0, len(m), cols)]:  [['A', 'B', 'C', 'D'], ['E', 'F', 'G', 'H'], ['I', 'F', 'F', 'E']]\n"
     ]
    }
   ],
   "source": [
    "# trick\n",
    "m = 'ABCDEFGHIFFE'\n",
    "rows = 3\n",
    "cols = 4\n",
    "print('[m[i:i+cols] for i in range(0, len(m), cols)]: ', [m[i:i+cols] for i in range(0, len(m), cols)])\n",
    "print('[list(m[i:i+cols]) for i in range(0, len(m), cols)]: ', [list(m[i:i+cols]) for i in range(0, len(m), cols)])"
   ]
  },
  {
   "cell_type": "markdown",
   "metadata": {},
   "source": [
    "### 13.机器人的运动范围¶\n",
    "地上有一个m行和n列的方格。一个机器人从坐标0,0的格子开始移动，每一次只能向左，右，上，下四个方向移动一格，但是不能进入行坐标和列坐标的数位之和大于k的格子。 例如，当k为18时，机器人能够进入方格（35,37），因为3+5+3+7 = 18。但是，它不能进入方格（35,38），因为3+5+3+8 = 19。请问该机器人能够达到多少个格子？"
   ]
  },
  {
   "cell_type": "code",
   "execution_count": 60,
   "metadata": {},
   "outputs": [
    {
     "data": {
      "text/plain": [
       "9"
      ]
     },
     "execution_count": 60,
     "metadata": {},
     "output_type": "execute_result"
    }
   ],
   "source": [
    "# -*- coding:utf-8 -*-\n",
    "class Solution:\n",
    "    def movingCount(self, threshold, rows, cols):\n",
    "        # write code here\n",
    "        if threshold < 0:\n",
    "            return 0\n",
    "        if threshold == 0:\n",
    "            return 1\n",
    "        self.rows = rows\n",
    "        self.cols = cols\n",
    "        self.dict = set()\n",
    "        self.search(0, 0, threshold)\n",
    "        return len(self.dict)\n",
    "        \n",
    "    def judge(self, i, j, threshold):\n",
    "        return sum(map(int, list(str(i)))) + sum(map(int, list(str(j)))) <= threshold\n",
    "    \n",
    "    def search(self, i, j, threshold):\n",
    "        if not self.judge(i, j ,threshold) or (i,j) in self.dict:\n",
    "            return\n",
    "        self.dict.add((i, j))\n",
    "        #print(i, j)\n",
    "        if i != self.rows-1:\n",
    "            self.search(i+1, j, threshold)\n",
    "        if j != self.cols-1:\n",
    "            self.search(i, j+1, threshold)\n",
    "\n",
    "Solution().movingCount(18, 3, 3)"
   ]
  },
  {
   "cell_type": "code",
   "execution_count": 92,
   "metadata": {},
   "outputs": [
    {
     "name": "stdout",
     "output_type": "stream",
     "text": [
      "86\n",
      "[False, False, True, True]\n"
     ]
    }
   ],
   "source": [
    "# trick\n",
    "# map() 根据提供的函数对指定序列做映射\n",
    "def square(x):\n",
    "    return x**2\n",
    "a = [3,4,5,6]\n",
    "b = map(square, a)\n",
    "print(sum(b))\n",
    "\n",
    "b = map(lambda x: x>=5, a)\n",
    "print(list(b))"
   ]
  },
  {
   "cell_type": "markdown",
   "metadata": {},
   "source": [
    "### 14.剪绳子\n",
    "给你一根长度为n的绳子，请把绳子剪成m段(m,n都是整数，n>1并且m>1)，每段绳子的长度记为k[0],k[1],...,k[m]。请问k[0]k[1]...*k[m]可能的最大乘积是多少？例如，当绳子的长度为8时，我们把他剪成长度分别为2,3,3的三段，此时得到的最大乘积是18.  \n",
    "解题思路：因为是最优化问题，且问题可分，可考虑使用动态规划或者贪婪法"
   ]
  },
  {
   "cell_type": "code",
   "execution_count": 13,
   "metadata": {},
   "outputs": [
    {
     "name": "stdout",
     "output_type": "stream",
     "text": [
      "18\n"
     ]
    }
   ],
   "source": [
    "class Solution:\n",
    "    def cutRope(self, n):\n",
    "        # 贪婪算法，因为当n>=5时,3*(n-3)>=2*(n-2)>n,\n",
    "        # 所以每次减长度为3，剩下部分减长度为2，\n",
    "        # 即timesOf3 = n//3,\n",
    "        # 余数为0时，减的长度全部为3，没有长度为2的（timesOf2 = 0)\n",
    "        # 余数为1时，少减一段长度为3的（timesOf3 -= 1), 剩下的减两段长度为2（timesOf2 = 2)\n",
    "        # 余数为2时，正好剩下一段长度为2（timesOf2 = 1)\n",
    "        if n < 2:\n",
    "            return 0\n",
    "        if n == 2:\n",
    "            return 1\n",
    "        if n == 3:\n",
    "            return 2\n",
    "        \n",
    "        timesOf3 = n // 3\n",
    "        \n",
    "#         res = n - timesOf3 * 3\n",
    "#         if res == 0:\n",
    "#             timesOf2 = 0\n",
    "#         elif res == 1:\n",
    "#             timesOf3 -= 1\n",
    "#             timesOf2 = 2\n",
    "#         else:\n",
    "#             timesOf2 = 1\n",
    "\n",
    "        if n - timesOf3 * 3 == 1:\n",
    "            timesOf3 -= 1\n",
    "        timesOf2 = (n - timesOf3 * 3) // 2\n",
    "        return (3 ** timesOf3) * (2 ** timesOf2)\n",
    "    \n",
    "    def MaxProductAfterCut2(self, n):\n",
    "        # 动态规划\n",
    "\n",
    "n = 8\n",
    "print(Solution().MaxProductAfterCut1(n))"
   ]
  },
  {
   "cell_type": "markdown",
   "metadata": {},
   "source": [
    "### 15.二进制中1的个数\n",
    "输入一个整数，输出该数二进制表示中1的个数。其中负数用补码表示。例如，把9表示成二进制是1001，有2位是1，因此，输入9，则函数输出2.\n",
    "原码补码反码资料：https://www.jianshu.com/p/ffc97c4d2306"
   ]
  },
  {
   "cell_type": "code",
   "execution_count": null,
   "metadata": {},
   "outputs": [],
   "source": [
    "class Solution:\n",
    "    def NumberOf1(self, n):\n",
    "        # write code here\n",
    "#         method2:\n",
    "#         f = 1\n",
    "#         count = 0\n",
    "#         for _ in range(32):\n",
    "#             if f&n >= 1:\n",
    "#                 count += 1\n",
    "#             f = f << 1\n",
    "#         return count\n",
    "#         method3:\n",
    "#         return bin(n&0xffffffff).count(\"1\")\n",
    "        \n",
    "        count = 0\n",
    "        if n<0:\n",
    "            n = n & 0xffffffff\n",
    "        while n:\n",
    "            n = n & (n-1)\n",
    "            count += 1\n",
    "        return count"
   ]
  },
  {
   "cell_type": "code",
   "execution_count": 105,
   "metadata": {},
   "outputs": [
    {
     "name": "stdout",
     "output_type": "stream",
     "text": [
      "-0b10\n",
      "0b11111111111111111111111111111110\n",
      "31\n"
     ]
    }
   ],
   "source": [
    "# trick\n",
    "print(bin(-2))\n",
    "a = -2 & 0xffffffff\n",
    "print(bin(a))\n",
    "print(bin(a).count('1'))"
   ]
  },
  {
   "cell_type": "markdown",
   "metadata": {},
   "source": [
    "### 16.数值的整数次方\n",
    "给定一个double类型的浮点数base和int类型的整数exponent。求base的exponent次方。 \n",
    "\n",
    "保证base和exponent不同时为0 "
   ]
  },
  {
   "cell_type": "code",
   "execution_count": null,
   "metadata": {},
   "outputs": [],
   "source": [
    "# -*- coding:utf-8 -*-\n",
    "class Solution:\n",
    "    def Power(self, base, exponent):\n",
    "        # write code here\n",
    "        res = 1\n",
    "        if base == 0:\n",
    "            return 0\n",
    "        if exponent == 0:\n",
    "            return 1\n",
    "        if exponent < 0:\n",
    "            for i in range(-exponent):\n",
    "                res *= base\n",
    "            return 1/res\n",
    "        for i in range(exponent):\n",
    "            res *= base\n",
    "        return res\n",
    "            "
   ]
  },
  {
   "cell_type": "markdown",
   "metadata": {},
   "source": [
    "### 17.打印从1到最大的n位数\n",
    "\n",
    "输入数字n,按顺序打印出从1到最大的n位十进制数，比如输入3，则打印出1、2、3一直到最大的3位数999."
   ]
  },
  {
   "cell_type": "code",
   "execution_count": null,
   "metadata": {},
   "outputs": [],
   "source": [
    "class Solution:\n",
    "    def "
   ]
  },
  {
   "cell_type": "markdown",
   "metadata": {},
   "source": [
    "### 18.删除链表中的节点\n",
    "\n",
    "题一：在O(1)时间内删除链表节点。给定单向链表的头指针和一个节点指针，定义一个函数在O(1)时间内删除该节点。\n",
    "解题思路：要删除节点i,把i的下一个节点j的内容复制到i,然后把i的指针指向节点j的下一个节点,若要删除尾节点，则只能遍历再删除。平均时间复杂度[(n-1)*O(1)+O(n)]/n=O(1)"
   ]
  },
  {
   "cell_type": "code",
   "execution_count": null,
   "metadata": {},
   "outputs": [],
   "source": [
    "class ListNode:\n",
    "    def __init__(self):\n",
    "        self.value = None\n",
    "        self.next = None\n",
    "\n",
    "class Solution:\n",
    "    def delete_node(self, pHead, pDelete):\n",
    "        if not pHeadr not pDelete:\n",
    "            return\n",
    "        \n",
    "        # 若删除结点不是最后一个结点\n",
    "        if pDelete.next:\n",
    "            pNext = pDelete.next\n",
    "            pDelete.val = pNext.val\n",
    "            pDelete.next = pNext.next\n",
    "        \n",
    "        # 若只有一个结点\n",
    "        elif pHead == pDelete:\n",
    "            pHead.val = None\n",
    "            pHead.next = None\n",
    "            \n",
    "        # 若有多个结点且删除结点为最后一个结点\n",
    "        else:\n",
    "            prob = pHead\n",
    "            while prob.next != pDelete:\n",
    "                prob = prob.next\n",
    "            prob.next = None\n",
    "        \n",
    "        return pHead "
   ]
  },
  {
   "cell_type": "markdown",
   "metadata": {},
   "source": [
    "题二：删除链表中重复的节点。\n",
    "在一个排序的链表中，存在重复的结点，请删除该链表中重复的结点，重复的结点不保留，返回链表头指针。 例如，链表1->2->3->3->4->4->5 处理后为 1->2->5"
   ]
  },
  {
   "cell_type": "code",
   "execution_count": 12,
   "metadata": {},
   "outputs": [
    {
     "name": "stdout",
     "output_type": "stream",
     "text": [
      "1\n",
      "2\n",
      "3\n",
      "3\n",
      "4\n",
      "4\n",
      "5\n",
      "1\n",
      "2\n",
      "5\n"
     ]
    }
   ],
   "source": [
    "# -*- coding:utf-8 -*-\n",
    "class ListNode:\n",
    "    def __init__(self, x):\n",
    "        self.val = x\n",
    "        self.next = None\n",
    "\n",
    "# method1:把所有节点的值放到一个列表中，再筛选出值数量为1的值,再新建一个链表返回\n",
    "class Solution:\n",
    "    def deleteDuplication(self, pHead):\n",
    "        # write code here\n",
    "        if not pHead or not pHead.next:\n",
    "            return None\n",
    "        res = []\n",
    "        while pHead:\n",
    "            res.append(pHead.val)\n",
    "            pHead = pHead.next\n",
    "        res = list(filter(lambda x: res.count(x) == 1, res))\n",
    "        dummy = ListNode(0)\n",
    "        prob = dummy\n",
    "        for i in res:\n",
    "            prob.next = ListNode(i)\n",
    "            prob = prob.next\n",
    "        return dummy.next\n",
    "    \n",
    "class Solution:\n",
    "    def deleteDuplication1(self, pHead):\n",
    "        # write code here\n",
    "        if not pHead or not pHead.next:\n",
    "            return pHead\n",
    "        new_head = ListNode(-1)\n",
    "        new_head.next = pHead\n",
    "        pPre = new_head\n",
    "        prob = pHead\n",
    "        #pNext = pHead.next\n",
    "        pNext = None\n",
    "\n",
    "        while prob and prob.next:\n",
    "            pNext = prob.next\n",
    "            if prob.val == pNext.val :\n",
    "                while pNext != None and prob.val == pNext.val:\n",
    "                    pNext = pNext.next\n",
    "                pPre.next = pNext\n",
    "                prob = pNext\n",
    "                #pNext = pNrxt.next\n",
    "            else:\n",
    "                pPre = prob\n",
    "                prob = pNext\n",
    "                #pNext = pNext.next\n",
    "                \n",
    "        return new_head.next\n",
    "\n",
    "      \n",
    "    \n",
    "head = ListNode(1)\n",
    "tail = head\n",
    "for i in [2,3,3,4,4,5]:\n",
    "    tail.next = ListNode(i)\n",
    "    tail = tail.next\n",
    "    \n",
    "prob = head\n",
    "while prob:\n",
    "    print(prob.val)\n",
    "    prob = prob.next\n",
    "    \n",
    "head = Solution().deleteDuplication1(head)\n",
    "prob = head\n",
    "while prob:\n",
    "    print(prob.val)\n",
    "    prob = prob.next"
   ]
  },
  {
   "cell_type": "code",
   "execution_count": 14,
   "metadata": {},
   "outputs": [
    {
     "name": "stdout",
     "output_type": "stream",
     "text": [
      "[1, 2, 5]\n",
      "[5, 4, 3]\n",
      "Hello haha\n"
     ]
    }
   ],
   "source": [
    "res = [1,2,3,3,4,4,5]\n",
    "res = list(filter(lambda x: res.count(x) == 1, res))\n",
    "print(res)\n",
    "\n",
    "a = 'Hello haha'\n",
    "b = [5,4,3]\n",
    "print(a and b)\n",
    "print(b and a)"
   ]
  },
  {
   "cell_type": "markdown",
   "metadata": {},
   "source": [
    "### 19.正则表达式匹配\n",
    "请实现一个函数用来匹配包括'.'和'\\*'的正则表达式。模式中的字符'.'表示任意一个字符，而'\\*'表示它前面的字符可以出现任意次（包含0次）。 在本题中，匹配是指字符串的所有字符匹配整个模式。例如，字符串\"aaa\"与模式\"a.a\"和\"ab\\*ac\\*a\"匹配，但是与\"aa.a\"和\"ab\n",
    "*a\"均不匹配"
   ]
  },
  {
   "cell_type": "code",
   "execution_count": null,
   "metadata": {},
   "outputs": [],
   "source": [
    "# -*- coding:utf-8 -*-\n",
    "class Solution:\n",
    "    # s, pattern都是字符串\n",
    "    def match(self, s, pattern):\n",
    "        # write code here"
   ]
  },
  {
   "cell_type": "markdown",
   "metadata": {},
   "source": [
    "### 20.表示数值的字符串\n",
    "请实现一个函数用来判断字符串是否表示数值（包括整数和小数）。例如，字符串\"+100\",\"5e2\",\"-123\",\"3.1416\"和\"-1E-16\"都表示数值。 但是\"12e\",\"1a3.14\",\"1.2.3\",\"+-5\"和\"12e+4.3\"都不是。"
   ]
  },
  {
   "cell_type": "code",
   "execution_count": 38,
   "metadata": {},
   "outputs": [],
   "source": [
    "# -*- coding:utf-8 -*-\n",
    "# method1: 如果可以用float转换，则合法\n",
    "# class Solution:\n",
    "#     # s字符串\n",
    "#     def isNumeric(self, s):\n",
    "#         # write code here\n",
    "#         try :\n",
    "#             return float(s)\n",
    "#         except:\n",
    "#             return 0\n",
    "\n",
    "# method2: 如果存在e,则e后面必须有数字且必须是整数,如果不存在e,则判断是否是普通数字\n",
    "class Solution:\n",
    "    def isNumeric(self, s):\n",
    "        if not s or len(s)<=0:\n",
    "            return False\n",
    "        sList = [i.lower() for i in s] # sList = list(map(lambda x: x.lower(), s))\n",
    "        if 'e' in sList:\n",
    "            eIndex = sList.index('e')\n",
    "            front = sList[:eIndex]\n",
    "            behind = sList[eIndex + 1 :]\n",
    "            if '.' in behind or len(behind) == 0:\n",
    "                return False\n",
    "            isfront = self.isDigit(front)\n",
    "            isbehind = self.isDigit(behind)\n",
    "            return isfront and isbehind\n",
    "        else:\n",
    "            return self.isDigit(sList)\n",
    "            \n",
    "    def isDigit(self, sList):\n",
    "        dotNum = 0\n",
    "        allowNum = ['0', '1', '2', '3', '4', '5', '6', '7', '8', '9', '+', '-', '.']\n",
    "        for i in range(len(sList)):\n",
    "            if sList[i] not in allowNum:\n",
    "                return False\n",
    "            if sList[i] == '.': # can not use: if sList[i] is '.'\n",
    "                                # can use: if sList[i] in '.'\n",
    "                dotNum += 1\n",
    "            if sList[i] in '+-' and i != 0:\n",
    "                return  False\n",
    "        if dotNum > 1:\n",
    "            return False\n",
    "        return True"
   ]
  },
  {
   "cell_type": "code",
   "execution_count": 58,
   "metadata": {},
   "outputs": [
    {
     "name": "stdout",
     "output_type": "stream",
     "text": [
      "['+', '1', '0', '0']\n",
      "['+', '1', '0', '0']\n",
      "['+', '1', '0', '0']\n",
      "True\n",
      "False\n",
      "True\n",
      "2\n"
     ]
    },
    {
     "ename": "AttributeError",
     "evalue": "'Solution' object has no attribute 'isNumeric'",
     "output_type": "error",
     "traceback": [
      "\u001b[1;31m---------------------------------------------------------------------------\u001b[0m",
      "\u001b[1;31mAttributeError\u001b[0m                            Traceback (most recent call last)",
      "\u001b[1;32m<ipython-input-58-08954c0f27a0>\u001b[0m in \u001b[0;36m<module>\u001b[1;34m\u001b[0m\n\u001b[0;32m     12\u001b[0m \u001b[0mprint\u001b[0m\u001b[1;33m(\u001b[0m\u001b[1;34m'.'\u001b[0m \u001b[1;32mis\u001b[0m \u001b[1;34m'.'\u001b[0m\u001b[1;33m)\u001b[0m\u001b[1;33m\u001b[0m\u001b[1;33m\u001b[0m\u001b[0m\n\u001b[0;32m     13\u001b[0m \u001b[0mprint\u001b[0m\u001b[1;33m(\u001b[0m\u001b[1;36m1\u001b[0m \u001b[1;33m+\u001b[0m\u001b[1;33m+\u001b[0m \u001b[1;36m1\u001b[0m\u001b[1;33m)\u001b[0m\u001b[1;33m\u001b[0m\u001b[1;33m\u001b[0m\u001b[0m\n\u001b[1;32m---> 14\u001b[1;33m \u001b[0mSolution\u001b[0m\u001b[1;33m(\u001b[0m\u001b[1;33m)\u001b[0m\u001b[1;33m.\u001b[0m\u001b[0misNumeric\u001b[0m\u001b[1;33m(\u001b[0m\u001b[0ms\u001b[0m\u001b[1;33m)\u001b[0m\u001b[1;33m\u001b[0m\u001b[1;33m\u001b[0m\u001b[0m\n\u001b[0m\u001b[0;32m     15\u001b[0m \u001b[1;33m\u001b[0m\u001b[0m\n\u001b[0;32m     16\u001b[0m \u001b[0ms\u001b[0m \u001b[1;33m=\u001b[0m \u001b[1;34m'1.1.1'\u001b[0m\u001b[1;33m\u001b[0m\u001b[1;33m\u001b[0m\u001b[0m\n",
      "\u001b[1;31mAttributeError\u001b[0m: 'Solution' object has no attribute 'isNumeric'"
     ]
    }
   ],
   "source": [
    "# trick\n",
    "s = '+100'\n",
    "sList = [i.lower() for i in s]\n",
    "print(sList)\n",
    "sList = list(map(lambda x: x.lower(), s))\n",
    "print(sList)\n",
    "sList = list(filter(lambda x: x.lower(), s))\n",
    "print(sList)\n",
    "\n",
    "print('+' in '-+')\n",
    "print('+-' in '-+')\n",
    "print('.' is '.')\n",
    "print(1 ++ 1)\n",
    "Solution().isNumeric(s)\n",
    "\n",
    "s = '1.1.1'\n",
    "sList = list(map(lambda x: x.lower(), s))\n",
    "for i in sList:\n",
    "    print(i)\n",
    "    if i is '.':\n",
    "        print(i)\n",
    "sList[1] is '.'"
   ]
  },
  {
   "cell_type": "markdown",
   "metadata": {},
   "source": [
    "### 21.调整数组顺序使奇数位于偶数前面\n",
    "\n",
    "输入一个整数数组，实现一个函数来调整该数组中数字的顺序，使得所有的奇数位于数组的前半部分，所有的偶数位于数组的后半部分，并保证奇数和奇数，偶数和偶数之间的相对位置不变。\n"
   ]
  },
  {
   "cell_type": "code",
   "execution_count": 57,
   "metadata": {},
   "outputs": [
    {
     "data": {
      "text/plain": [
       "[1, 3, 5, 2, 4]"
      ]
     },
     "execution_count": 57,
     "metadata": {},
     "output_type": "execute_result"
    }
   ],
   "source": [
    "# -*- coding:utf-8 -*-\n",
    "class Solution:\n",
    "    def reOrderArray(self, array):\n",
    "        # write code here\n",
    "        a1 = []\n",
    "        a2 = []\n",
    "        for n in array:\n",
    "            if n%2:\n",
    "                a1.append(n)\n",
    "            else:\n",
    "                a2.append(n)\n",
    "        return a1 + a2\n",
    "a = [1,2,3,4,5]\n",
    "Solution().reOrderArray(a)"
   ]
  },
  {
   "cell_type": "code",
   "execution_count": 56,
   "metadata": {},
   "outputs": [
    {
     "name": "stdout",
     "output_type": "stream",
     "text": [
      "1\n",
      "None\n"
     ]
    }
   ],
   "source": [
    "print(11%2)\n",
    "a = [1,2,3]\n",
    "b = [4,5,6]\n",
    "print(a.extend(b))"
   ]
  },
  {
   "cell_type": "markdown",
   "metadata": {},
   "source": [
    "### 22.链表中倒数第k个结点\n",
    "\n",
    "输入一个链表，输出该链表中倒数第k个结点。为了符合大多数人的习惯，本题从1开始计数，即链表的尾节点是倒数第一个节点。例如，一个链表有6个节点，从头结点开始，它们的值依次是1,2,3,4,5,6。这个链表的倒数第三个节点是值为4的节点。\n"
   ]
  },
  {
   "cell_type": "code",
   "execution_count": 66,
   "metadata": {},
   "outputs": [
    {
     "name": "stdout",
     "output_type": "stream",
     "text": [
      "0\n",
      "1\n",
      "2\n",
      "3\n",
      "4\n"
     ]
    },
    {
     "data": {
      "text/plain": [
       "4"
      ]
     },
     "execution_count": 66,
     "metadata": {},
     "output_type": "execute_result"
    }
   ],
   "source": [
    "# 解题思路：为了实现只遍历链表一次就能找到倒数第k个节点，我们可以定义两个指针。让第一个指针先向前走k-1步，\n",
    "# 第二个指针保持不动；从第k步开始，第二个指针也开始从链表的头指针开始遍历。由于两个指针的距离保持在k-1,当\n",
    "# 第一个指针到达链表的尾节点时，第二个指针刚好到达倒数第k个节点。\n",
    "# -*- coding:utf-8 -*-\n",
    "class ListNode:\n",
    "    def __init__(self, x):\n",
    "        self.val = x\n",
    "        self.next = None\n",
    "        \n",
    "class Solution:\n",
    "    def FindKthToTail(self, head, k):\n",
    "        if head == None or k <= 0:\n",
    "            return None\n",
    "        pAhead = head\n",
    "        pBhead = head\n",
    "        for i in range(k-1):\n",
    "            if pBhead.next:\n",
    "                pBhead = pBhead.next\n",
    "            else:\n",
    "                return None\n",
    "        while pBhead.next:\n",
    "            pAhead = pAhead.next\n",
    "            pBhead = pBhead.next\n",
    "        return pAhead\n",
    "\n",
    "while head != None:\n",
    "    head = head.next\n",
    "# 创建linked\n",
    "head = ListNode(0)\n",
    "tail = head\n",
    "for i in range(1, 5):\n",
    "    tail.next = ListNode(i)\n",
    "    tail = tail.next\n",
    "prob = head\n",
    "while prob != None:\n",
    "    print(prob.val)\n",
    "    prob = prob.next\n",
    "a = Solution().FindKthToTail(head, 1)\n",
    "a.val"
   ]
  },
  {
   "cell_type": "markdown",
   "metadata": {},
   "source": [
    "### 23.链表中环的入口节点\n",
    "\n",
    "题目：如果一个链表中包含环，如何找出环的入口节点？例如在如图3.8所示的链表中，环的入口节点是3\n",
    "1->2->3->4->5->6 and 6->3"
   ]
  },
  {
   "cell_type": "code",
   "execution_count": null,
   "metadata": {},
   "outputs": [],
   "source": [
    "# -*- coding:utf-8 -*-\n",
    "# class ListNode:\n",
    "#     def __init__(self, x):\n",
    "#         self.val = x\n",
    "#         self.next = None\n",
    "\n",
    "# method1：快慢指针法\n",
    "class Solution:\n",
    "    def EntryNodeOfLoop(self, pHead):\n",
    "        # write code here\n",
    "        if not pHead or not pHead.next:\n",
    "            return None\n",
    "        pFast = pHead\n",
    "        pSlow = pHead\n",
    "        while pFast.next.next and pSlow.next:\n",
    "            pFast = pFast.next.next\n",
    "            pSlow = pSlow.next\n",
    "            if pFast == pSlow:\n",
    "                prob = pHead\n",
    "                while prob != pFast:\n",
    "                    prob = prob.next\n",
    "                    pFast = pFast.next\n",
    "                return prob\n",
    "        return None\n",
    "\n",
    "# method2: hash\n",
    "class Solution:\n",
    "    def EntryNodeOfLoop(self, pHead):\n",
    "        # write code here\n",
    "        if not pHead or not pHead.next:\n",
    "            return None\n",
    "        Hash = set()\n",
    "        prob = pHead\n",
    "        while prob:\n",
    "            if prob not in Hash:\n",
    "                Hash.add(prob)\n",
    "                prob = prob.next\n",
    "            else:\n",
    "                return prob\n",
    "        return None\n",
    "           "
   ]
  },
  {
   "cell_type": "code",
   "execution_count": 6,
   "metadata": {},
   "outputs": [
    {
     "name": "stdout",
     "output_type": "stream",
     "text": [
      "{1}\n",
      "[1]\n"
     ]
    },
    {
     "data": {
      "text/plain": [
       "True"
      ]
     },
     "execution_count": 6,
     "metadata": {},
     "output_type": "execute_result"
    }
   ],
   "source": [
    "# set and list\n",
    "a = set()\n",
    "a.add(1)\n",
    "print(a)\n",
    "a = list()\n",
    "a.append(1)\n",
    "print(a)\n",
    "1<=2"
   ]
  },
  {
   "cell_type": "markdown",
   "metadata": {},
   "source": [
    "### 24.反转链表\n",
    "\n",
    "输入一个链表，反转链表后，输出新链表的表头。\n"
   ]
  },
  {
   "cell_type": "code",
   "execution_count": null,
   "metadata": {},
   "outputs": [],
   "source": [
    "class ListNode:\n",
    "    def __init__(self, x):\n",
    "        self.val = x\n",
    "        self.next = None\n",
    "        \n",
    "class Solution:\n",
    "    # 返回ListNode\n",
    "    def ReverseList(self, pHead):\n",
    "        # write code here\n",
    "        if not pHead or not pHead.next:\n",
    "            return pHead\n",
    "        pre = None\n",
    "        prob = pHead\n",
    "        nex = pHead.next\n",
    "        while nex:\n",
    "            prob.next = pre\n",
    "            pre = prob\n",
    "            prob = nex\n",
    "            nex = nex.next\n",
    "        prob.next = pre\n",
    "        return prob\n",
    "\n",
    "class Solution:\n",
    "    # 返回ListNode\n",
    "    def ReverseList(self, pHead):\n",
    "        # write code here\n",
    "        pReverseHead = None\n",
    "        pPrev = None\n",
    "        pNode = pHead\n",
    "        while pNode:\n",
    "            pNext = pNode.next\n",
    "            if pNext is None:\n",
    "                pReverseHead = pNode\n",
    "            pNode.next = pPrev\n",
    "            pPrev = pNode\n",
    "            pNode = pNext\n",
    "        return pReverseHead      "
   ]
  },
  {
   "cell_type": "markdown",
   "metadata": {},
   "source": [
    "### 25.合并两个排序的链表\n",
    "输入两个单调递增的链表，输出两个链表合成后的链表，当然我们需要合成后的链表满足单调不减规则。"
   ]
  },
  {
   "cell_type": "code",
   "execution_count": null,
   "metadata": {},
   "outputs": [],
   "source": [
    "-*- coding:utf-8 -*-\n",
    "class ListNode:\n",
    "    def __init__(self, x):\n",
    "        self.val = x\n",
    "        self.next = None\n",
    "        \n",
    "class Solution:\n",
    "    # 返回合并后列表\n",
    "    def Merge(self, pHead1, pHead2):\n",
    "        # write code here\n",
    "        if not pHead1:\n",
    "            return pHead2\n",
    "        if not pHead2:\n",
    "            return pHead1\n",
    "        pHead = ListNode(-1)\n",
    "        prob = pHead\n",
    "        prob1 = pHead1\n",
    "        prob2 = pHead2\n",
    "        while prob1 and prob2:\n",
    "            if prob1.val <= prob2.val:\n",
    "                prob.next = ListNode(prob1.val)\n",
    "                prob1 = prob1.next\n",
    "            else:\n",
    "                prob.next = ListNode(prob2.val)\n",
    "                prob2 = prob2.next\n",
    "            prob = prob.next\n",
    "        if prob1 == None:\n",
    "            while prob2:\n",
    "                prob.next = ListNode(prob2.val)\n",
    "                prob = prob.next\n",
    "                prob2 = prob2.next\n",
    "        if prob2 == None:\n",
    "            while prob1:\n",
    "                prob.next = ListNode(prob1.val)\n",
    "                prob = prob.next\n",
    "                prob1 = prob1.next\n",
    "        return pHead.next\n",
    "\n",
    "# 递归 \n",
    "class Solution:\n",
    "    # 返回合并后列表\n",
    "    def Merge(self, pHead1, pHead2):\n",
    "        # write code here\n",
    "        if not pHead1:\n",
    "            return pHead2\n",
    "        if not pHead2:\n",
    "            return pHead1\n",
    "        pHead = None\n",
    "        if pHead1.val < pHead2.val:\n",
    "            pHead = pHead1\n",
    "            pHead.next = self.Merge(pHead1.next, pHead2)\n",
    "        else:\n",
    "            pHead = pHead2\n",
    "            pHead.next = self.Merge(pHead1, pHead2.next)\n",
    "        return pHead"
   ]
  },
  {
   "cell_type": "markdown",
   "metadata": {},
   "source": [
    "### 26.树的子结构\n",
    "输入两棵二叉树A，B，判断B是不是A的子结构。（ps：我们约定空树不是任意一个树的子结构）  \n",
    "\n",
    "DoesTree1haveTree2()函数中的两个 if 判断语句不能颠倒顺序,如果颠倒了顺序，会先判断pRoot1 是否为None, 这个时候，pRoot1,的节点已经遍历完成确认相等了，但是这个时候会返回 False，判断错误。  \n",
    "\n",
    "如果树节点的val值是double的时候，需要自定义一个equal函数，当num1和num2相差小于1e-07时即可认为是相等的"
   ]
  },
  {
   "cell_type": "code",
   "execution_count": null,
   "metadata": {},
   "outputs": [],
   "source": [
    "# -*- coding:utf-8 -*-\n",
    "class TreeNode:\n",
    "    def __init__(self, x):\n",
    "        self.val = x\n",
    "        self.left = None\n",
    "        self.right = None\n",
    "        \n",
    "class Solution:\n",
    "    def HasSubtree(self, pRoot1, pRoot2):\n",
    "        # write code here\n",
    "        if not pRoot1 or not pRoot2:\n",
    "            return False\n",
    "        res = False\n",
    "        if pRoot1.val == pRoot2.val:\n",
    "            res = self.DoesTree1hasTree2(pRoot1, pRoot2)\n",
    "        if not res:\n",
    "            res = self.HasSubtree(pRoot1.left, pRoot2)\n",
    "        if not res:\n",
    "            res = self.HasSubtree(pRoot1.right, pRoot2)\n",
    "        return res\n",
    "            \n",
    "    def DoesTree1hasTree2(self, pRoot1, pRoot2):\n",
    "        if pRoot2 == None:\n",
    "            return True\n",
    "        if pRoot1 == None:\n",
    "            return False\n",
    "        if pRoot1.val != pRoot2.val:\n",
    "            return False\n",
    "        return self.DoesTree1hasTree2(pRoot1.left, pRoot2.left) and self.DoesTree1hasTree2(pRoot1.right, pRoot2.right)\n",
    "        "
   ]
  },
  {
   "cell_type": "markdown",
   "metadata": {},
   "source": [
    "### 27.二叉树的镜像\n",
    "操作给定的二叉树，将其变换为源二叉树的镜像。  \n",
    "输入描述:\n",
    "```\n",
    "二叉树的镜像定义：\n",
    "   \n",
    "         源二叉树   \n",
    "    \t    8  \n",
    "    \t   /  \\     \n",
    "    \t  6   10  \n",
    "    \t / \\  / \\\n",
    "    \t5  7 9 11  \n",
    "        \n",
    "    \t镜像二叉树  \n",
    "    \t    8  \n",
    "    \t   /  \\  \n",
    "    \t  10   6  \n",
    "    \t / \\  / \\  \n",
    "    \t11 9 7  5  \n",
    "```"
   ]
  },
  {
   "cell_type": "code",
   "execution_count": 1,
   "metadata": {},
   "outputs": [],
   "source": [
    "# -*- coding:utf-8 -*-\n",
    "class TreeNode:\n",
    "    def __init__(self, x):\n",
    "        self.val = x\n",
    "        self.left = None\n",
    "        self.right = None\n",
    "        \n",
    "class Solution:\n",
    "    # 返回镜像树的根节点\n",
    "    def Mirror(self,root):\n",
    "        # write code here\n",
    "        if not root:\n",
    "            return root\n",
    "        root.left, root.right = self.Mirror(root.right), self.Mirror(root.left) \n",
    "        # 不可写成: root.left = self.Mirror(root.right) root.right会改变\n",
    "        #           root.right = self.Mirror(root.left)\n",
    "        # 不可写成: left = root.left\n",
    "        #           root.left = self.Mirror(root.right) \n",
    "        #           root.right = left\n",
    "        \n",
    "        return root\n",
    "\n",
    "class Solution:\n",
    "    # 返回镜像树的根节点\n",
    "    def Mirror1(self, root):\n",
    "        # write code here\n",
    "        if not root:\n",
    "            return root\n",
    "        root.left, root.right = root.right, root.left\n",
    "        self.Mirror(root.left)\n",
    "        self.Mirror(root.right)\n",
    "        return root"
   ]
  },
  {
   "cell_type": "markdown",
   "metadata": {},
   "source": [
    "### 28.对称的二叉树题：\n",
    "请实现一个函数，用来判断一颗二叉树是不是对称的。注意，如果一个二叉树同此二叉树的镜像是同样的，定义其为对称的"
   ]
  },
  {
   "cell_type": "code",
   "execution_count": null,
   "metadata": {},
   "outputs": [],
   "source": [
    "# -*- coding:utf-8 -*-\n",
    "class TreeNode:\n",
    "    def __init__(self, x):\n",
    "        self.val = x\n",
    "        self.left = None\n",
    "        self.right = None\n",
    "        \n",
    "class Solution:\n",
    "    def isSymmetrical(self, pRoot):\n",
    "        # write code here\n",
    "        if not pRoot:\n",
    "            return True\n",
    "        return self.compare(pRoot.left, pRoot.right)\n",
    "    \n",
    "    def compare(self, pRoot1, pRoot2):\n",
    "        if not pRoot1 and not pRoot2:\n",
    "            return True\n",
    "        if not pRoot1 or not pRoot2:\n",
    "            return False\n",
    "        if pRoot1.val == pRoot2.val:\n",
    "            return self.compare(pRoot1.left, pRoot2.right) and self.compare(pRoot1.right, pRoot2.left)\n",
    "        return False"
   ]
  },
  {
   "cell_type": "markdown",
   "metadata": {},
   "source": [
    "### 29.顺时针打印矩阵\n",
    "输入一个矩阵，按照从外向里以顺时针的顺序依次打印出每一个数字，例如，如果输入如下4 X 4矩阵： \n",
    "$$\\begin{bmatrix}1 & 2 & 3 & 4 \\\\ 5 & 6 & 7 &8 \\\\ 9 & 10 & 11 & 12 \\\\ 13 & 14 & 15 & 16\\end{bmatrix}$$\n",
    "则依次打印出数字1,2,3,4,8,12,16,15,14,13,9,5,6,7,11,10."
   ]
  },
  {
   "cell_type": "code",
   "execution_count": 3,
   "metadata": {},
   "outputs": [
    {
     "data": {
      "text/plain": [
       "[1, 2, 3, 4, 8, 12, 16, 15, 14, 13, 9, 5, 6, 7, 11, 10]"
      ]
     },
     "execution_count": 3,
     "metadata": {},
     "output_type": "execute_result"
    }
   ],
   "source": [
    "# -*- coding:utf-8 -*-\n",
    "class Solution:\n",
    "    # matrix类型为二维列表，需要返回列表\n",
    "    def printMatrix(self, matrix):\n",
    "        # write code here\n",
    "        res = []\n",
    "        while matrix:\n",
    "            res += matrix.pop(0)\n",
    "            if matrix:\n",
    "                matrix = self.rotate(matrix)\n",
    "        return res\n",
    "    \n",
    "    def rotate(self, matrix):\n",
    "        row = len(matrix)\n",
    "        col = len(matrix[0])\n",
    "        rotate_matrix = []\n",
    "        for i in range(col-1, -1, -1):\n",
    "            r = []\n",
    "            for j in range(row):\n",
    "                r.append(matrix[j][i])\n",
    "            rotate_matrix.append(r)\n",
    "        return rotate_matrix\n",
    "\n",
    "a = [[1,2,3,4],\n",
    "    [5,6,7,8],\n",
    "    [9,10,11,12],\n",
    "    [13,14,15,16]]\n",
    "Solution().printMatrix(a)"
   ]
  },
  {
   "cell_type": "code",
   "execution_count": 19,
   "metadata": {},
   "outputs": [],
   "source": [
    "# method2\n",
    "class Solution:\n",
    "    # matrix类型为二维列表，需要返回列表\n",
    "    def printMatrix(self, matrix):\n",
    "        # write code here\n",
    "        res = []\n",
    "        while matrix:\n",
    "            res += matrix.pop(0)\n",
    "            if matrix and matrix[0]:\n",
    "                for row in matrix:\n",
    "                    res.append(row.pop())\n",
    "            if matrix:\n",
    "                res += matrix.pop()[::-1]\n",
    "            if matrix and matrix[0]:\n",
    "                for row in matrix[::-1]:\n",
    "                    res.append(row.pop(0))\n",
    "        return res\n"
   ]
  },
  {
   "cell_type": "code",
   "execution_count": 23,
   "metadata": {},
   "outputs": [
    {
     "name": "stdout",
     "output_type": "stream",
     "text": [
      "[4, 3, 2, 1]\n",
      "[2, 4]\n",
      "[3, 2, 1]\n",
      "[3, 1]\n"
     ]
    }
   ],
   "source": [
    "# trick\n",
    "a = [1,2,3,4]\n",
    "print(a[::-1])\n",
    "print(a[1::2])\n",
    "print(a[2::-1])\n",
    "print(a[2::-2]) # list[a::b]从list[a]开始间隔b"
   ]
  },
  {
   "cell_type": "markdown",
   "metadata": {},
   "source": [
    "### 30.含min函数的栈\n",
    "定义栈的数据结构，请在该类型中实现一个能够得到栈中所含最小元素的min函数（时间复杂度应为O（1））。 \n",
    "思路：把每次的最小元素保存起来放在另一个辅助栈里。"
   ]
  },
  {
   "cell_type": "code",
   "execution_count": 18,
   "metadata": {},
   "outputs": [],
   "source": [
    "# -*- coding:utf-8 -*-\n",
    "class Solution:\n",
    "    def __init__(self):\n",
    "        self.stack = []\n",
    "        self.minstack = []\n",
    "        \n",
    "    def push(self, node):\n",
    "        # write code here\n",
    "        self.stack.append(node)\n",
    "        if len(self.minstack) == 0 or node < self.minstack[-1]:\n",
    "            self.minstack.append(node)\n",
    "        else:\n",
    "            self.minstack.append(self.minstack[-1])\n",
    "\n",
    "    def pop(self):\n",
    "        if len(self.stack) == 0 or len(self.minstack) == 0:\n",
    "            return None\n",
    "        self.stack.pop()\n",
    "        self.minstack.pop()\n",
    "        \n",
    "        # write code here\n",
    "    def top(self):\n",
    "        # write code here\n",
    "        return self.stack[-1]\n",
    "    \n",
    "    def min(self):\n",
    "        # write code here\n",
    "        return self.minstack[-1]"
   ]
  },
  {
   "cell_type": "markdown",
   "metadata": {},
   "source": [
    "### 32.从上往下打印二叉树\n",
    "从上往下打印出二叉树的每个节点，同层节点从左至右打印。  \n",
    "思路：\n",
    "```\n",
    "/* 层序遍历：使用队列 */\n",
    "/* (1)根结点入队 */\n",
    "/* (2)从队列中取出一个元素 */\n",
    "/* (3)访问该元素所指结点 */\n",
    "/* (4)若该元素所指结点的左、右子结点非空，则将其左、右子结点的指针顺序入队 */\n",
    "```"
   ]
  },
  {
   "cell_type": "code",
   "execution_count": 1,
   "metadata": {},
   "outputs": [],
   "source": [
    "# -*- coding:utf-8 -*-\n",
    "# class TreeNode:\n",
    "#     def __init__(self, x):\n",
    "#         self.val = x\n",
    "#         self.left = None\n",
    "#         self.right = None\n",
    "class Solution:\n",
    "    # 返回从上到下每个节点值列表，例：[1,2,3]\n",
    "    def PrintFromTopToBottom(self, root):\n",
    "        # write code here\n",
    "        if not root:\n",
    "            return []\n",
    "        queue = [root]\n",
    "        res = []\n",
    "        while queue:\n",
    "            pop_node = queue.pop(0)\n",
    "            res.append(pop_node.val)\n",
    "            if pop_node.left:\n",
    "                queue.append(pop_node.left)\n",
    "            if pop_node.right:\n",
    "                queue.append(pop_node.right)\n",
    "        return res"
   ]
  },
  {
   "cell_type": "markdown",
   "metadata": {},
   "source": [
    "### 扩展1：把二叉树打印成多行（从上到下分行打印二叉树）\n",
    "从上到下按层打印二叉树，同一层结点从左至右输出。每一层输出一行  \n",
    "思路：与上题类似，多加两个变量：toBePrint：当前层还没打印的结点数，nextLevel:下一层结点数"
   ]
  },
  {
   "cell_type": "code",
   "execution_count": null,
   "metadata": {},
   "outputs": [],
   "source": [
    "# -*- coding:utf-8 -*-\n",
    "class TreeNode:\n",
    "    def __init__(self, x):\n",
    "        self.val = x\n",
    "        self.left = None\n",
    "        self.right = None\n",
    "        \n",
    "class Solution:\n",
    "    # 返回二维列表[[1,2],[4,5]]\n",
    "    def Print(self, pRoot):\n",
    "        # write code here\n",
    "        if not pRoot:\n",
    "            return []\n",
    "        queue = [pRoot]\n",
    "        res = []\n",
    "        line = []\n",
    "        nextLevel = 0\n",
    "        toBePrint = 1\n",
    "        while queue:\n",
    "            pNode = queue.pop(0)\n",
    "            line.append(pNode.val)\n",
    "            toBePrint -= 1\n",
    "            if pNode.left:\n",
    "                queue.append(pNode.left)\n",
    "                nextLevel += 1\n",
    "            if pNode.right:\n",
    "                queue.append(pNode.right)\n",
    "                nextLevel += 1\n",
    "            if toBePrint == 0:\n",
    "                res.append(line)\n",
    "                line = []\n",
    "                toBePrint = nextLevel\n",
    "                nextLevel = 0\n",
    "        return res\n",
    "            \n",
    "    "
   ]
  },
  {
   "cell_type": "markdown",
   "metadata": {},
   "source": [
    "### 扩展2：按之字形打印二叉树\n",
    "请实现一个函数按照之字形打印二叉树，即第一行按照从左到右的顺序打印，第二层按照从右至左的顺序打印，第三行按照从左到右的顺序打印，其他行以此类推  \n",
    "思路：与上题一样，加一个变量i表示当前处于第几层，奇数层从左到右打印，偶数层从右到左打印"
   ]
  },
  {
   "cell_type": "code",
   "execution_count": null,
   "metadata": {},
   "outputs": [],
   "source": [
    "# -*- coding:utf-8 -*-\n",
    "class TreeNode:\n",
    "    def __init__(self, x):\n",
    "        self.val = x\n",
    "        self.left = None\n",
    "        self.right = None\n",
    "        \n",
    "class Solution:\n",
    "    # 返回二维列表[[1,2],[4,5]]\n",
    "    def Print(self, pRoot):\n",
    "        # write code here\n",
    "        if not pRoot:\n",
    "            return []\n",
    "        queue = [pRoot]\n",
    "        res = []\n",
    "        line = []\n",
    "        nextLevel = 0\n",
    "        toBePrint = 1\n",
    "        i = 0\n",
    "        while queue:\n",
    "            pNode = queue.pop(0)\n",
    "            line.append(pNode.val)\n",
    "            toBePrint -= 1\n",
    "            if pNode.left:\n",
    "                queue.append(pNode.left)\n",
    "                nextLevel += 1\n",
    "            if pNode.right:\n",
    "                queue.append(pNode.right)\n",
    "                nextLevel += 1\n",
    "            if toBePrint == 0:\n",
    "                i += 1\n",
    "                if i%2==1:\n",
    "                    res.append(line)\n",
    "                if i%2==0:\n",
    "                    res.append(line[::-1])\n",
    "                toBePrint = nextLevel\n",
    "                nextLevel = 0\n",
    "                line = []   \n",
    "        return res"
   ]
  },
  {
   "cell_type": "markdown",
   "metadata": {},
   "source": [
    "### 33.二叉搜索树的后序遍历\n",
    "输入一个整数数组，判断该数组是不是某二叉搜索树的后序遍历的结果。如果是则输出Yes,否则输出No。假设输入的数组的任意两个数字都互不相同。"
   ]
  },
  {
   "cell_type": "code",
   "execution_count": 9,
   "metadata": {},
   "outputs": [
    {
     "name": "stdout",
     "output_type": "stream",
     "text": [
      "False\n"
     ]
    },
    {
     "data": {
      "text/plain": [
       "[2]"
      ]
     },
     "execution_count": 9,
     "metadata": {},
     "output_type": "execute_result"
    }
   ],
   "source": [
    "# -*- coding:utf-8 -*-\n",
    "class Solution:\n",
    "    def VerifySquenceOfBST(self, sequence):\n",
    "        # write code here\n",
    "        if not sequence or len(sequence)==0:\n",
    "            return False\n",
    "        length = len(sequence)\n",
    "        root = sequence[-1]\n",
    "        \n",
    "        for i in range(length):\n",
    "            if sequence[i]>root:\n",
    "                break\n",
    "        for j in range(i+1, length):\n",
    "            if sequence[j]<root:\n",
    "                return False\n",
    "        left = True\n",
    "        \n",
    "        # 判断左子树是否为二叉搜索树的后序遍历\n",
    "        if i>0:\n",
    "            left = self.VerifySquenceOfBST(sequence[:i])\n",
    "        \n",
    "        # 判断右子树是否为二叉搜索树的后序遍历\n",
    "        right = True\n",
    "        if i <length-1:\n",
    "            right = self.VerifySquenceOfBST(sequence[i:-1])\n",
    "        \n",
    "        return left and right\n",
    "            \n",
    "a = [7,4,6,5]\n",
    "print(Solution().VerifySquenceOfBST(a))\n",
    "a = [1,2,3]\n",
    "a[1:-1]"
   ]
  },
  {
   "cell_type": "markdown",
   "metadata": {},
   "source": [
    "### 34.二叉树中和为某一值的路径\n",
    "输入一颗二叉树的根节点和一个整数，打印出二叉树中结点值的和为输入整数的所有路径。路径定义为从树的根结点开始往下一直到叶结点所经过的结点形成一条路径。(注意: 在返回值的list中，数组长度大的数组靠前)"
   ]
  },
  {
   "cell_type": "code",
   "execution_count": null,
   "metadata": {},
   "outputs": [],
   "source": [
    "# -*- coding:utf-8 -*-\n",
    "class TreeNode:\n",
    "    def __init__(self, x):\n",
    "        self.val = x\n",
    "        self.left = None\n",
    "        self.right = None\n",
    "        \n",
    "class Solution:\n",
    "    # 返回二维列表，内部每个列表表示找到的路径\n",
    "    def FindPath(self, root, expectNumber):\n",
    "        # write code here\n",
    "        if not root:\n",
    "            return []\n",
    "        \n",
    "        result = []\n",
    "        \n",
    "        def FindPathCore(root, path, currentSum):\n",
    "            currentSum += root.val\n",
    "            path.append(root)\n",
    "            isLeaf = root.left == None and root.right == None\n",
    "            if currentSum == expectNumber and isLeaf:\n",
    "                onepath = []\n",
    "                for node in path:\n",
    "                    onepath.append(node.val)\n",
    "                result.append(onepath)\n",
    "            \n",
    "            if currentSum < expectNumber:\n",
    "                if root.left:\n",
    "                    FindPathCore(root.left, path, currentSum)\n",
    "                if root.right:\n",
    "                    FindPathCore(root.right, path, currentSum)\n",
    "            path.pop()\n",
    "        FindPathCore(root, [], 0)\n",
    "        return result\n",
    "        "
   ]
  }
 ],
 "metadata": {
  "kernelspec": {
   "display_name": "Python 3",
   "language": "python",
   "name": "python3"
  },
  "language_info": {
   "codemirror_mode": {
    "name": "ipython",
    "version": 3
   },
   "file_extension": ".py",
   "mimetype": "text/x-python",
   "name": "python",
   "nbconvert_exporter": "python",
   "pygments_lexer": "ipython3",
   "version": "3.7.1"
  }
 },
 "nbformat": 4,
 "nbformat_minor": 2
}
