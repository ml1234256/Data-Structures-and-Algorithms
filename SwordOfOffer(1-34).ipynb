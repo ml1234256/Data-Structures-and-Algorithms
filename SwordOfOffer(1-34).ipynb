{
 "cells": [
  {
   "cell_type": "markdown",
   "metadata": {},
   "source": [
    "## 剑指offer\n",
    "刷题网址：https://www.nowcode.com/ta/coding-interviews\n",
    "#### 算法部分\n",
    "- 二分搜索 Binary Search \n",
    "- 分治 Divide Conquer \n",
    "- 宽度优先搜索 Breadth First Search \n",
    "- 深度优先搜索 Depth First Search\n",
    "- 回溯法 Backtracking \n",
    "- 双指针 Two Pointers \n",
    "- 动态规划 Dynamic Programming \n",
    "- 扫描线 Scan-line algorithm\n",
    "- 快排 Quick Sort\n",
    "\n",
    "#### 数据结构部分\n",
    "- 栈 Stack\n",
    "- 队列 Queue\n",
    "- 链表 Linked List \n",
    "- 数组 Array \n",
    "- 哈希表 Hash Table\n",
    "- 二叉树 Binary Tree  \n",
    "- 堆 Heap\n",
    "- 并查集 Union Find\n",
    "- 字典树 Trie"
   ]
  },
  {
   "cell_type": "markdown",
   "metadata": {},
   "source": [
    "### 3.数组中重复的数字\n",
    "在一个长度为n的数组里的所有数字都在0到n-1的范围内。 数组中某些数字是重复的，但不知道有几个数字是重复的。也不知道每个数字重复几次。请找出数组中任意一个重复的数字。 例如，如果输入长度为7的数组{2,3,1,0,2,5,3}，那么对应的输出是第一个重复的数字2。"
   ]
  },
  {
   "cell_type": "code",
   "execution_count": 1,
   "metadata": {},
   "outputs": [],
   "source": [
    "# -*- coding:utf-8 -*-\n",
    "class Solution:\n",
    "    # 这里要特别注意~找到任意重复的一个值并赋值到duplication[0]\n",
    "    # 函数返回True/False\n",
    "    def duplicate(self, numbers, duplication):\n",
    "        # write code here\n",
    "        if len(numbers)<1:\n",
    "            return False\n",
    "        \n",
    "        hash_list = []\n",
    "        for num in numbers:\n",
    "            if num in hash_list:\n",
    "                duplication[0] = num\n",
    "                return True\n",
    "            else:\n",
    "                hash_list.append(num)\n",
    "        return False  "
   ]
  },
  {
   "cell_type": "markdown",
   "metadata": {},
   "source": [
    "### 4. 二维数组中的查找\n",
    "在一个二维数组中（每个一维数组的长度相同），每一行都按照从左到右递增的顺序排序，每一列都按照从上到下递增的顺序排序。请完成一个函数，输入这样的一个二维数组和一个整数，判断数组中是否含有该整数。<br>\n",
    "思路：从二维数组右上角开始对比，若target更大，则向下走一格，删除一行，若target更小，则向左走一格，删除一列"
   ]
  },
  {
   "cell_type": "code",
   "execution_count": 8,
   "metadata": {},
   "outputs": [],
   "source": [
    "# -*- coding:utf-8 -*-\n",
    "class Solution(object):\n",
    "    # array 二维列表\n",
    "    def Find(self, target, array):\n",
    "        # write code here\n",
    "        if array == None:\n",
    "            return False\n",
    "        \n",
    "        m = len(array)\n",
    "        n = len(array[0])\n",
    "        row = 0\n",
    "        col = n-1\n",
    "        \n",
    "        while row < m and col >= 0:\n",
    "            if target > array[row][col]:\n",
    "                row += 1\n",
    "            elif target < array[row][col]:\n",
    "                col -= 1\n",
    "            else:\n",
    "                return True\n",
    "            \n",
    "        return False"
   ]
  },
  {
   "cell_type": "markdown",
   "metadata": {},
   "source": [
    "### 5.替换空格\n",
    "题目：请实现一个函数，把字符串中的每个空格替换成\"%20\"。例如，输入\"We are happy.\"，则输出\"We%20are%20happy.\"。  \n",
    "解题思路：1.计空格的个数 2.新开一块足够的存储空间 3.从后向前(或从前向后）的依次替换空格(算法时间效率O(n))"
   ]
  },
  {
   "cell_type": "code",
   "execution_count": 38,
   "metadata": {},
   "outputs": [
    {
     "data": {
      "text/plain": [
       "'We%20are%20happy'"
      ]
     },
     "execution_count": 38,
     "metadata": {},
     "output_type": "execute_result"
    }
   ],
   "source": [
    "# -*- coding:utf-8 -*-\n",
    "class Solution:\n",
    "    # s 源字符串\n",
    "    def replaceSpace(self, s):\n",
    "        # write code here\n",
    "        # method 1:\n",
    "        # return '%20'.join(s.split(' '))\n",
    "        # method2:\n",
    "        # return s.replace(' ', '%20')\n",
    "        \n",
    "        origin_s = list(s)\n",
    "        origin_length = len(origin_s)\n",
    "        number_of_blank = 0\n",
    "        for i in origin_s:\n",
    "            if i == ' ':\n",
    "                number_of_blank += 1\n",
    "        new_length = origin_length + 2 * number_of_blank\n",
    "        new_s = [None] * new_length\n",
    "        \n",
    "        origin_idx = 0\n",
    "        new_idx = 0\n",
    "        while origin_idx < origin_length:\n",
    "            if origin_s[origin_idx] == ' ':\n",
    "                for n in ['%', '2', '0']:\n",
    "                    new_s[new_idx] = n\n",
    "                    new_idx += 1\n",
    "            else:\n",
    "                new_s[new_idx] = origin_s[origin_idx]\n",
    "                new_idx += 1\n",
    "            origin_idx += 1\n",
    "        return ''.join(new_s)\n",
    "\n",
    "s = 'We are happy'\n",
    "Solution().replaceSpace(s)"
   ]
  },
  {
   "cell_type": "code",
   "execution_count": 21,
   "metadata": {},
   "outputs": [
    {
     "name": "stdout",
     "output_type": "stream",
     "text": [
      "list(s):  ['W', 'e', ' ', 'a', 'r', 'e', ' ', 'h', 'a', 'p', 'p', 'y']\n",
      "[s[2:]]:  [' are happy']\n",
      "s.split():  ['We', 'are', 'happy']\n"
     ]
    },
    {
     "data": {
      "text/plain": [
       "'We are happy'"
      ]
     },
     "execution_count": 21,
     "metadata": {},
     "output_type": "execute_result"
    }
   ],
   "source": [
    "# trick\n",
    "s = 'We are happy'\n",
    "print('list(s): ', list(s))\n",
    "print('[s[2:]]: ', [s[2:]])\n",
    "print('s.split(): ', s.split())\n",
    "s = s.split()\n",
    "' '.join(s)"
   ]
  },
  {
   "cell_type": "markdown",
   "metadata": {},
   "source": [
    "### 6. 从尾到头打印链表\n",
    "题目：输入一个链表的头节点，从尾到头反过来打印出每个节点的值。  \n",
    "解题思路：利用栈的先进后出特性存储链表然后再输出(或者利用递归函数)"
   ]
  },
  {
   "cell_type": "code",
   "execution_count": 53,
   "metadata": {},
   "outputs": [
    {
     "name": "stdout",
     "output_type": "stream",
     "text": [
      "0\n",
      "1\n",
      "2\n",
      "3\n",
      "4\n"
     ]
    },
    {
     "data": {
      "text/plain": [
       "[4, 3, 2, 1, 0]"
      ]
     },
     "execution_count": 53,
     "metadata": {},
     "output_type": "execute_result"
    }
   ],
   "source": [
    "# -*- coding:utf-8 -*-\n",
    "class ListNode:\n",
    "    def __init__(self, x):\n",
    "        self.val = x\n",
    "        self.next = None\n",
    "\n",
    "class Solution:\n",
    "    # 返回从尾部到头部的列表值序列，例如[1,2,3]\n",
    "    def printListFromTailToHead(self, listNode):\n",
    "        # write code here\n",
    "        # method2: 递归函数\n",
    "#         if listNode == None:\n",
    "#             return []\n",
    "#         else:\n",
    "#             return self.printListFromTailToHead(listNode.next) + [listNode.val]  \n",
    "        data_list = []\n",
    "        if listNode == None:\n",
    "            return data_list\n",
    "        pNode = listNode\n",
    "        while pNode != None:\n",
    "            data_list.append(pNode.val)\n",
    "            pNode = pNode.next\n",
    "        # method 2: 利用栈（stark)\n",
    "        # data_list.reverse()\n",
    "        # return data_list\n",
    "        return data_list[::-1]\n",
    "\n",
    "# clear linked\n",
    "while head != None:\n",
    "    head = head.next\n",
    "# create linked\n",
    "head = ListNode(0)\n",
    "tail = head\n",
    "for i in range(1,5):\n",
    "    tail.next = ListNode(i)\n",
    "    tail = tail.next\n",
    "# print linked\n",
    "prob = head\n",
    "while prob != None:\n",
    "    print(prob.val)\n",
    "    prob = prob.next\n",
    "    \n",
    "Solution().printListFromTailToHead(head)"
   ]
  },
  {
   "cell_type": "markdown",
   "metadata": {},
   "source": [
    "### 7.重建二叉树\n",
    "题目：输入某二叉树的前序遍历和中序遍历的结果，请重建该二叉树。假设输入的前序遍历和中序遍历的结果中都不含重复数字。例如输入前序遍历序列{1,2,4,7,3,5,6,8}和中序遍历序列{4,7,2,1,5,3,8,6}，则重建二叉树并返回。  \n",
    "递归"
   ]
  },
  {
   "cell_type": "code",
   "execution_count": null,
   "metadata": {},
   "outputs": [],
   "source": [
    "# -*- coding:utf-8 -*-\n",
    "class TreeNode:\n",
    "    def __init__(self, x):\n",
    "        self.val = x\n",
    "        self.left = None\n",
    "        self.right = None\n",
    "        \n",
    "class Solution:\n",
    "    # 返回构造的TreeNode根节点\n",
    "    def reConstructBinaryTree(self, pre, tin):\n",
    "        # write code here\n",
    "        if not pre or not tin:\n",
    "            return None\n",
    "        \n",
    "        root = TreeNode(pre[0])\n",
    "        root_inorder_idx = tin.index(pre[0])\n",
    "        \n",
    "        root.left = self.reConstructBinaryTree(pre[1:root_inorder_idx+1], tin[:root_inorder_idx])\n",
    "        root.right = self.reConstructBinaryTree(pre[root_inorder_idx+1:], tin[root_inorder_idx+1:])\n",
    "        return root"
   ]
  },
  {
   "cell_type": "markdown",
   "metadata": {},
   "source": [
    "###  8.二叉树的下一个节点\n",
    "题目：给定一颗二叉树和其中的一个节点，如何找出中序遍历序列的下一个节点？树中的节点除了有两个分别指向左、右子节点的指针，还有一个指向父节点的指针。"
   ]
  },
  {
   "cell_type": "code",
   "execution_count": 59,
   "metadata": {},
   "outputs": [],
   "source": [
    "# -*- coding:utf-8 -*-\n",
    "# class TreeLinkNode:\n",
    "#     def __init__(self, x):\n",
    "#         self.val = x\n",
    "#         self.left = None\n",
    "#         self.right = None\n",
    "#         self.next = None\n",
    "class Solution:\n",
    "    def GetNext(self, pNode):\n",
    "        # write code here\n",
    "        pNext = None\n",
    "        if not pNode:\n",
    "            return None\n",
    "        # 如果pNode有右子树，则下一结点是右子树中的左结点\n",
    "        if pNode.right != None:\n",
    "            pNext = pNode.right\n",
    "            while pNext.left != None:\n",
    "                pNext = pNext.left\n",
    "        # 如果pNode没有右子树，且pNode是其父结点的右结点\n",
    "        elif pNode.next != None:\n",
    "             # 如果pNode没有右子树，且pNode是其父结点的右结点\n",
    "            pCurrent = pNode\n",
    "            pParent = pNode.next\n",
    "            while pParent != None and pCurrent == pParent.right:\n",
    "                pCurrent = pParent\n",
    "                pParent = pParent.next\n",
    "            # 如果pNode是其父结点的左结点，则直接返回其父结点\n",
    "            pNext = pParent\n",
    "        return pNext"
   ]
  },
  {
   "cell_type": "markdown",
   "metadata": {},
   "source": [
    "### 9.用两个栈实现队列\n",
    "\n",
    "题目：用两个栈来实现一个队列，完成队列的Push和Pop操作。 队列中的元素为int类型。  \n",
    "解题思路：利用栈A入队，如果stackB为空，则将stackA中数据倒压在stackB中，再stackB.pop()，如果stackB不为空，则直接stackB.pop()"
   ]
  },
  {
   "cell_type": "code",
   "execution_count": 1,
   "metadata": {},
   "outputs": [],
   "source": [
    "# -*- coding:utf-8 -*-\n",
    "class Solution:\n",
    "    def __init__(self):\n",
    "        self.stackA = []\n",
    "        self.stackB = []\n",
    "        \n",
    "    def push(self, node):\n",
    "        # write code here\n",
    "        self.stackA.append(node)\n",
    "        \n",
    "    def pop(self):\n",
    "        # return xx\n",
    "        # 如果stackB为空，则将stackA中数据倒压在stackB中，再stackB.pop()\n",
    "        if not self.stackB:\n",
    "            while self.stackA:\n",
    "                self.stackB.append(self.stackA.pop())\n",
    "        # 如果stackB不为空，则直接stackB.pop()\n",
    "        return self.stackB.pop()"
   ]
  },
  {
   "cell_type": "markdown",
   "metadata": {},
   "source": [
    "题目拓展：用两个队列实现一个栈"
   ]
  },
  {
   "cell_type": "code",
   "execution_count": 4,
   "metadata": {},
   "outputs": [],
   "source": [
    "class Solution:\n",
    "    def __init__(self):\n",
    "        self.queueA=[]\n",
    "        self.queueB=[]\n",
    "\n",
    "    def push(self,node):\n",
    "        self.queueA.insert(0,node)\n",
    "    \n",
    "    def pop(self):\n",
    "        if not self.queueA:\n",
    "            return None\n",
    "\n",
    "        while len(self.queueA)!=1:\n",
    "            self.queueB.insert(0,self.queueA.pop())\n",
    "        self.queueA,self.queueB=self.queueB,self.queueA\n",
    "        return self.queueB.pop()"
   ]
  },
  {
   "cell_type": "markdown",
   "metadata": {},
   "source": [
    "### 10.斐波拉契数列¶\n",
    "\n",
    "斐波那契数列（Fibonacci sequence）指的是这样一个数列：1、1、2、3、5、8、13、21、34、……,以如下被以递推的方法定义：F(1)=1，F(2)=1, F(n)=F(n-1)+F(n-2)（n>=3，n∈N*），现在要求输入一个整数n，请你输出斐波那契数列的第n项（从0开始，第0项为0）。 n<=39 \n",
    "\n",
    "解题思路：可以用递归的方式来实现，但算法效率低，使用循环来代替递归会更好\n"
   ]
  },
  {
   "cell_type": "code",
   "execution_count": 14,
   "metadata": {},
   "outputs": [
    {
     "data": {
      "text/plain": [
       "5"
      ]
     },
     "execution_count": 14,
     "metadata": {},
     "output_type": "execute_result"
    }
   ],
   "source": [
    "# -*- coding:utf-8 -*-\n",
    "class Solution:\n",
    "    def Fibonacci(self, n):\n",
    "        # write code here\n",
    "#         method2:递归\n",
    "#         if n == 0:\n",
    "#             return 0\n",
    "#         if n == 1:\n",
    "#             return 1\n",
    "#         else:\n",
    "#             return self.Fibonacci(n-1) + self.Fibonacci(n-2)\n",
    "        fibo = [0, 1]\n",
    "        while len(fibo) <= n:\n",
    "            fibo.append(fibo[-1] + fibo[-2])\n",
    "        return fibo[n]\n",
    "    \n",
    "\n",
    "Solution().Fibonacci(5)"
   ]
  },
  {
   "cell_type": "markdown",
   "metadata": {},
   "source": [
    "#### 跳台阶\n",
    "一只青蛙一次可以跳上一级台阶，也可以跳上2级台阶。求该青蛙跳上一个n级台阶总共有多少种跳法。 \n",
    "\n",
    "解题思路：f(1) = 1, f(2) = 2, 一般情况，先跳一级，剩余还有f(n-1)种方法，先跳2级，剩余还有f(n-2)种方法，所以f(n) = f(n-1) + f(n-2)，因此与斐波拉契数列相似"
   ]
  },
  {
   "cell_type": "code",
   "execution_count": 8,
   "metadata": {},
   "outputs": [],
   "source": [
    "class Solution:\n",
    "    \"\"\"青蛙台阶问题、矩形覆盖问题\"\"\"\n",
    "    def jumpFloor(self, number):\n",
    "#         if number == 1:\n",
    "#             return 1\n",
    "#         if number == 2:\n",
    "#             return 2\n",
    "#         else:\n",
    "#             return self.jumpFloor(number -1) + self.jumpFloor(number-2)\n",
    "        fibo = [0, 1, 2]\n",
    "        while len(fibo) <= number:\n",
    "            fibo.append(fibo[-1] + fibo[-2])\n",
    "        return fibo[number]"
   ]
  },
  {
   "cell_type": "markdown",
   "metadata": {},
   "source": [
    "#### 变态跳台阶\n",
    "一只青蛙一次可以跳上1级台阶，也可以跳上2级……它也可以跳上n级。求该青蛙跳上一个n级的台阶总共有多少种跳法。"
   ]
  },
  {
   "cell_type": "code",
   "execution_count": 16,
   "metadata": {},
   "outputs": [
    {
     "data": {
      "text/plain": [
       "8"
      ]
     },
     "execution_count": 16,
     "metadata": {},
     "output_type": "execute_result"
    }
   ],
   "source": [
    "# -*- coding:utf-8 -*-\n",
    "class Solution:\n",
    "    def jumpFloorII(self, number):\n",
    "        # write code here\n",
    "        fibo = [0, 1, 2]\n",
    "        while len(fibo) <= number:\n",
    "            fibo.append(sum(fibo)+1)\n",
    "        return fibo[number]\n",
    "#         method2:\n",
    "#         return 2 ** (number-1)\n",
    "\n",
    "Solution().jumpFloorII(4)"
   ]
  },
  {
   "cell_type": "markdown",
   "metadata": {},
   "source": [
    "### 矩形覆盖\n",
    "我们可以用2x1的小矩形横着或者竖着去覆盖更大的矩形。请问用n个2x1的小矩形无重叠地覆盖一个2xn的大矩形，总共有多少种方法？"
   ]
  },
  {
   "cell_type": "code",
   "execution_count": null,
   "metadata": {},
   "outputs": [],
   "source": [
    "# -*- coding:utf-8 -*-\n",
    "class Solution:\n",
    "    def rectCover(self, number):\n",
    "        # write code here\n",
    "        fibo = [0, 1, 2]\n",
    "        while len(fibo) <= number:\n",
    "            fibo.append(fibo[-1] + fibo[-2])\n",
    "        return fibo[number]"
   ]
  },
  {
   "cell_type": "markdown",
   "metadata": {},
   "source": [
    "### 11.旋转数组中的最小数字\n",
    "\n",
    "把一个数组最开始的若干个元素搬到数组的末尾，我们称之为数组的旋转。 输入一个非减排序的数组的一个旋转，输出旋转数组的最小元素。 例如数组{3,4,5,1,2}为{1,2,3,4,5}的一个旋转，该数组的最小值为1。 NOTE：给出的所有元素都大于0，若数组大小为0，请返回0  \n",
    "解题思路：旋转后的排序数组是由两个已排好序的子数组组成，利用对撞指针的二分查找法逐步缩小查找范围，但若遇上大量重复数字时，需要遍历子数组进行查找\n"
   ]
  },
  {
   "cell_type": "code",
   "execution_count": 10,
   "metadata": {},
   "outputs": [],
   "source": [
    "# -*- coding:utf-8 -*-\n",
    "class Solution:\n",
    "    def minNumberInRotateArray(self, rotateArray):\n",
    "        # write code here\n",
    "        if len(rotateArray) == 0:\n",
    "            return 0\n",
    "        \n",
    "        if len(rotateArray) == 1:\n",
    "            return rotateArray[0]\n",
    "        \n",
    "        for i in range(len(rotateArray)-1):\n",
    "            if rotateArray[i] > rotateArray[i+1]:\n",
    "                return rotateArray[i+1]\n",
    "#         method2:\n",
    "#         for n in rotateArray:\n",
    "#             if n < rotateArray[0]:\n",
    "#                 return n \n",
    "            "
   ]
  },
  {
   "cell_type": "markdown",
   "metadata": {},
   "source": [
    "### 12.矩阵中的路径\n",
    "请设计一个函数，用来判断在一个矩阵中是否存在一条包含某字符串所有字符的路径。路径可以从矩阵中的任意一个格子开始，每一步可以在矩阵中向左，向右，向上，向下移动一个格子。如果一条路径经过了矩阵中的某一个格子，则该路径不能再进入该格子。如   \n",
    "a b c e   \n",
    "s f c s  \n",
    "a d e e  \n",
    "矩阵中包含一条字符串\"bcced\"的路径，但是矩阵中不包含\"abcb\"路径，因为字符串的第一个字符b占据了矩阵中的第一行第二个格子之后，路径不能再次进入该格子。  \n",
    "解题思路：回溯算法，递归"
   ]
  },
  {
   "cell_type": "code",
   "execution_count": 35,
   "metadata": {},
   "outputs": [],
   "source": [
    "# -*- coding:utf-8 -*-\n",
    "class Solution:\n",
    "    def hasPath(self, matrix, rows, cols, word):\n",
    "        # input example: \n",
    "        # matrix = 'ABCESFCSADEE'\n",
    "        # rows = 3, cols = 4, strs = 'ABCB'               \n",
    "        if not matrix:\n",
    "            return False\n",
    "        if not word:\n",
    "            return True\n",
    "        # 构建输入矩阵\n",
    "        m = [list(matrix[i:i+cols]) for i in range(0, len(matrix), cols)]\n",
    "        # visited = [[False]*clos]*rows\n",
    "        # 这样构造矩阵，其行将会是第一行的浅拷贝，修改任一元素，将引起整列元素同时被改，因此采用下面的循环进行构造\n",
    "        # isited = [[False]*cols for _ in range(rows)]\n",
    "        for i in range(rows):\n",
    "            for j in range(cols):\n",
    "                if self.hasPathCore(m,i,j,word):\n",
    "                    return True\n",
    "        return False\n",
    "    \n",
    "    def hasPathCore(self, matrix, i, j, word):\n",
    "        # 递归调用自己，探索每一个节点\n",
    "        if not word:\n",
    "            return True\n",
    "        # 如果索引溢出或matrix[i][i]不等于word的第一个数则返回False\n",
    "        if i >= len(matrix) or i < 0 or j >= len(matrix[0]) or j < 0 or matrix[i][j] != word[0]:\n",
    "            return False\n",
    "        tmp = matrix[i][j]\n",
    "        # 走过的的格子置为'.'\n",
    "        matrix[i][j] = '.'\n",
    "        if self.hasPathCore(matrix, i-1, j, word[1:]) or self.hasPathCore(matrix, i+1, j, word[1:]) or \\\n",
    "        self.hasPathCore(matrix, i, j-1, word[1:]) or self.hasPathCore(matrix, i, j+1, word[1:]):\n",
    "            return True\n",
    "        # 若走不通则返回上一步\n",
    "        matrix[i][j] = tmp      \n",
    "        return False"
   ]
  },
  {
   "cell_type": "code",
   "execution_count": 59,
   "metadata": {},
   "outputs": [
    {
     "name": "stdout",
     "output_type": "stream",
     "text": [
      "[m[i:i+cols] for i in range(0, len(m), cols)]:  ['ABCD', 'EFGH', 'IFFE']\n",
      "[list(m[i:i+cols]) for i in range(0, len(m), cols)]:  [['A', 'B', 'C', 'D'], ['E', 'F', 'G', 'H'], ['I', 'F', 'F', 'E']]\n"
     ]
    }
   ],
   "source": [
    "# trick\n",
    "m = 'ABCDEFGHIFFE'\n",
    "rows = 3\n",
    "cols = 4\n",
    "print('[m[i:i+cols] for i in range(0, len(m), cols)]: ', [m[i:i+cols] for i in range(0, len(m), cols)])\n",
    "print('[list(m[i:i+cols]) for i in range(0, len(m), cols)]: ', [list(m[i:i+cols]) for i in range(0, len(m), cols)])"
   ]
  },
  {
   "cell_type": "markdown",
   "metadata": {},
   "source": [
    "### 13.机器人的运动范围¶\n",
    "地上有一个m行和n列的方格。一个机器人从坐标0,0的格子开始移动，每一次只能向左，右，上，下四个方向移动一格，但是不能进入行坐标和列坐标的数位之和大于k的格子。 例如，当k为18时，机器人能够进入方格（35,37），因为3+5+3+7 = 18。但是，它不能进入方格（35,38），因为3+5+3+8 = 19。请问该机器人能够达到多少个格子？"
   ]
  },
  {
   "cell_type": "code",
   "execution_count": 60,
   "metadata": {},
   "outputs": [
    {
     "data": {
      "text/plain": [
       "9"
      ]
     },
     "execution_count": 60,
     "metadata": {},
     "output_type": "execute_result"
    }
   ],
   "source": [
    "# -*- coding:utf-8 -*-\n",
    "class Solution:\n",
    "    def movingCount(self, threshold, rows, cols):\n",
    "        # write code here\n",
    "        if threshold < 0:\n",
    "            return 0\n",
    "        if threshold == 0:\n",
    "            return 1\n",
    "        self.rows = rows\n",
    "        self.cols = cols\n",
    "        self.dict = set()\n",
    "        self.search(0, 0, threshold)\n",
    "        return len(self.dict)\n",
    "        \n",
    "    def judge(self, i, j, threshold):\n",
    "        return sum(map(int, list(str(i)))) + sum(map(int, list(str(j)))) <= threshold\n",
    "    \n",
    "    def search(self, i, j, threshold):\n",
    "        if not self.judge(i, j ,threshold) or (i,j) in self.dict:\n",
    "            return\n",
    "        self.dict.add((i, j))\n",
    "        #print(i, j)\n",
    "        if i != self.rows-1:\n",
    "            self.search(i+1, j, threshold)\n",
    "        if j != self.cols-1:\n",
    "            self.search(i, j+1, threshold)\n",
    "\n",
    "Solution().movingCount(18, 3, 3)"
   ]
  },
  {
   "cell_type": "code",
   "execution_count": 92,
   "metadata": {},
   "outputs": [
    {
     "name": "stdout",
     "output_type": "stream",
     "text": [
      "86\n",
      "[False, False, True, True]\n"
     ]
    }
   ],
   "source": [
    "# trick\n",
    "# map() 根据提供的函数对指定序列做映射\n",
    "def square(x):\n",
    "    return x**2\n",
    "a = [3,4,5,6]\n",
    "b = map(square, a)\n",
    "print(sum(b))\n",
    "\n",
    "b = map(lambda x: x>=5, a)\n",
    "print(list(b))"
   ]
  },
  {
   "cell_type": "markdown",
   "metadata": {},
   "source": [
    "### 14.剪绳子\n",
    "给你一根长度为n的绳子，请把绳子剪成m段(m,n都是整数，n>1并且m>1)，每段绳子的长度记为k[0],k[1],...,k[m]。请问k[0]k[1]...*k[m]可能的最大乘积是多少？例如，当绳子的长度为8时，我们把他剪成长度分别为2,3,3的三段，此时得到的最大乘积是18.  \n",
    "解题思路：因为是最优化问题，且问题可分，可考虑使用动态规划或者贪婪法"
   ]
  },
  {
   "cell_type": "code",
   "execution_count": null,
   "metadata": {},
   "outputs": [],
   "source": [
    "class Solution:\n",
    "    def MaxProductAfterCut(self, n):"
   ]
  },
  {
   "cell_type": "markdown",
   "metadata": {},
   "source": [
    "### 15.二进制中1的个数\n",
    "输入一个整数，输出该数二进制表示中1的个数。其中负数用补码表示。例如，把9表示成二进制是1001，有2位是1，因此，输入9，则函数输出2.\n",
    "原码补码反码资料：https://www.jianshu.com/p/ffc97c4d2306"
   ]
  },
  {
   "cell_type": "code",
   "execution_count": null,
   "metadata": {},
   "outputs": [],
   "source": [
    "class Solution:\n",
    "    def NumberOf1(self, n):\n",
    "        # write code here\n",
    "#         method2:\n",
    "#         f = 1\n",
    "#         count = 0\n",
    "#         for _ in range(32):\n",
    "#             if f&n >= 1:\n",
    "#                 count += 1\n",
    "#             f = f << 1\n",
    "#         return count\n",
    "#         method3:\n",
    "#         return bin(n&0xffffffff).count(\"1\")\n",
    "        \n",
    "        count = 0\n",
    "        if n<0:\n",
    "            n = n & 0xffffffff\n",
    "        while n:\n",
    "            n = n & (n-1)\n",
    "            count += 1\n",
    "        return count"
   ]
  },
  {
   "cell_type": "code",
   "execution_count": 105,
   "metadata": {},
   "outputs": [
    {
     "name": "stdout",
     "output_type": "stream",
     "text": [
      "-0b10\n",
      "0b11111111111111111111111111111110\n",
      "31\n"
     ]
    }
   ],
   "source": [
    "# trick\n",
    "print(bin(-2))\n",
    "a = -2 & 0xffffffff\n",
    "print(bin(a))\n",
    "print(bin(a).count('1'))"
   ]
  },
  {
   "cell_type": "markdown",
   "metadata": {},
   "source": [
    "### 16.数值的整数次方\n",
    "给定一个double类型的浮点数base和int类型的整数exponent。求base的exponent次方。 \n",
    "\n",
    "保证base和exponent不同时为0 "
   ]
  },
  {
   "cell_type": "code",
   "execution_count": null,
   "metadata": {},
   "outputs": [],
   "source": [
    "# -*- coding:utf-8 -*-\n",
    "class Solution:\n",
    "    def Power(self, base, exponent):\n",
    "        # write code here\n",
    "        res = 1\n",
    "        if base == 0:\n",
    "            return 0\n",
    "        if exponent == 0:\n",
    "            return 1\n",
    "        if exponent < 0:\n",
    "            for i in range(-exponent):\n",
    "                res *= base\n",
    "            return 1/res\n",
    "        for i in range(exponent):\n",
    "            res *= base\n",
    "        return res\n",
    "            "
   ]
  }
 ],
 "metadata": {
  "kernelspec": {
   "display_name": "Python 3",
   "language": "python",
   "name": "python3"
  },
  "language_info": {
   "codemirror_mode": {
    "name": "ipython",
    "version": 3
   },
   "file_extension": ".py",
   "mimetype": "text/x-python",
   "name": "python",
   "nbconvert_exporter": "python",
   "pygments_lexer": "ipython3",
   "version": "3.7.1"
  }
 },
 "nbformat": 4,
 "nbformat_minor": 2
}
