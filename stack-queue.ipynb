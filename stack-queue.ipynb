{
 "cells": [
  {
   "cell_type": "markdown",
   "metadata": {},
   "source": [
    "参考资料：https://mp.weixin.qq.com/s/IyYjs4rLZxNLOJHbArPPHg\n",
    "### 1.栈（stark）\n",
    "后进先出（last-in first-out, LIFO）的线性集合，只能在一端(称为栈顶(top))对数据项进行插入和删除,从栈放入项和从栈删除项的操作分别叫作压入（push）和弹出（pop）\n",
    "![stack](./img/stack1.jpg)\n",
    "#### 1.1 栈的顺序存储实现\n",
    "栈的顺序存储结构通常由一个一维数组和一个纪录栈顶元素位置的变量组成\n",
    "```\n",
    "# def MaxSize <存储数据元素的最大个数>\n",
    "typedef struct SNode *Stack;\n",
    "struct SNode{\n",
    "    ElementType Data[MaxSize];\n",
    "    int Top;\n",
    "}\n",
    "\n",
    "# 入栈\n",
    "void Push(Stack PtrS, ElementType item)\n",
    "{\n",
    "    if(PtrS->Top == MaxSize - 1{\n",
    "        printf(\"堆栈满\"); return;\n",
    "    }\n",
    "    else{\n",
    "        PtrS->Data[++(Ptrs->Top)] = item;\n",
    "        return;\n",
    "    }\n",
    "}\n",
    "\n",
    "# 出栈\n",
    "ElementType Pop(Stack PtrS)\n",
    "{\n",
    "    if(Ptrs->Top == -1){\n",
    "        printf(\"堆栈空\");\n",
    "        return ERROR;\n",
    "    }\n",
    "    else{\n",
    "        return(PtrS->Data[(PtrS->Top)--]);\n",
    "    }\n",
    "}\n",
    "```\n",
    "### 2.队列（queue)\n",
    "先进先出（first-in first-out, FIFO）的线性集合,允许在表的前端（front）进行删除操作，而在表的后端（rear）进行插入操作,队列有两种基本操作，add会在队尾添加一项，pop从队头删除一项\n"
   ]
  },
  {
   "cell_type": "code",
   "execution_count": 1,
   "metadata": {},
   "outputs": [
    {
     "data": {
      "text/plain": [
       "'123'"
      ]
     },
     "execution_count": 1,
     "metadata": {},
     "output_type": "execute_result"
    }
   ],
   "source": [
    "a = '123.jpg'\n",
    "a[:-4]"
   ]
  },
  {
   "cell_type": "code",
   "execution_count": null,
   "metadata": {},
   "outputs": [],
   "source": []
  }
 ],
 "metadata": {
  "kernelspec": {
   "display_name": "Python 3",
   "language": "python",
   "name": "python3"
  },
  "language_info": {
   "codemirror_mode": {
    "name": "ipython",
    "version": 3
   },
   "file_extension": ".py",
   "mimetype": "text/x-python",
   "name": "python",
   "nbconvert_exporter": "python",
   "pygments_lexer": "ipython3",
   "version": "3.7.1"
  }
 },
 "nbformat": 4,
 "nbformat_minor": 2
}
