{
 "cells": [
  {
   "cell_type": "markdown",
   "metadata": {},
   "source": [
    "## 1.递归"
   ]
  },
  {
   "cell_type": "code",
   "execution_count": 2,
   "metadata": {},
   "outputs": [
    {
     "name": "stdout",
     "output_type": "stream",
     "text": [
      "sum(a):  26\n",
      "len(a):  4\n",
      "递归max(a):  11\n",
      "循环max(a):  11\n"
     ]
    }
   ],
   "source": [
    "# 递归计算列表的和\n",
    "def get_sum(arr):\n",
    "    if len(arr) == 0:\n",
    "        return 0\n",
    "    else:\n",
    "        return arr[0] + get_sum(arr[1:])\n",
    "\n",
    "# 递归计算列表长度\n",
    "def get_len(arr):\n",
    "    if len(arr) == 0:\n",
    "        return 0\n",
    "    else:\n",
    "        return 1 + get_len(arr[1:])\n",
    "\n",
    "# 找出列表中最大的数字\n",
    "def get_max1(arr):\n",
    "    # 递归\n",
    "    if len(arr) == 1:\n",
    "        return arr[0]\n",
    "    else:\n",
    "        max_num = arr[0]\n",
    "        if max_num < get_max1(arr[1:]):\n",
    "            max_num = get_max1(arr[1:])\n",
    "        return max_num\n",
    "\n",
    "def get_max2(arr):\n",
    "    # 循环\n",
    "    max_num = arr[0]\n",
    "    for n in arr:\n",
    "        if max_num < n:\n",
    "            max_num = n\n",
    "    return max_num       \n",
    "        \n",
    "a = [11, 4,5,6]\n",
    "print('sum(a): ', get_sum(a))\n",
    "print('len(a): ', get_len(a))\n",
    "print('递归max(a): ', get_max1(a))\n",
    "print('循环max(a): ', get_max2(a))"
   ]
  },
  {
   "cell_type": "code",
   "execution_count": 13,
   "metadata": {},
   "outputs": [
    {
     "data": {
      "text/plain": [
       "{'wa'}"
      ]
     },
     "execution_count": 13,
     "metadata": {},
     "output_type": "execute_result"
    }
   ],
   "source": [
    "states_needed = set([\"mt\", \"wa\", \"or\", \"id\", \"nv\", \"ut\", \"ca\", \"az\"]) \n",
    "states1 = set(['mt', 'wa'])\n",
    "states2 = set(['wa', 'or'])\n",
    "states1 & states_needed & states2"
   ]
  },
  {
   "cell_type": "code",
   "execution_count": 45,
   "metadata": {},
   "outputs": [
    {
     "name": "stdout",
     "output_type": "stream",
     "text": [
      "2.0\n",
      "1.414213562373095\n"
     ]
    }
   ],
   "source": [
    "# 求平方根算法\n",
    "def function(c, x0, n):\n",
    "    x_list = []\n",
    "    x_list.append(x0)\n",
    "    while n > 0:\n",
    "        x_list.append((c/x_list[-1]+x_list[-1])/2)\n",
    "        n -= 1\n",
    "    return x_list\n",
    "# x = function(4, 1, 10)\n",
    "# print(x)\n",
    "# x = function(2, 2, 10)\n",
    "# print(x)  \n",
    "\n",
    "def sqrt(c):\n",
    "    x = 1\n",
    "    for i in range(100):\n",
    "        if x == (c/x+x)/2:\n",
    "            break\n",
    "        x = (c/x+x)/2\n",
    "    return x\n",
    "\n",
    "print(sqrt(4))\n",
    "print(sqrt(2))"
   ]
  },
  {
   "cell_type": "markdown",
   "metadata": {},
   "source": [
    "### 2二分查找（Binary Search)\n",
    "时间复杂度：O(log(n))\n",
    "```\n",
    "C code:\n",
    "List Tb1 为单调递增数组\n",
    "int BinarySearch(List Tb1, ElementType K)\n",
    "{\n",
    "    int left, right, mid, NoFound=-1;\n",
    "    left = 1;       \n",
    "    right = Tb1->Length;\n",
    "    while(left <= right)\n",
    "    {\n",
    "        mid = (left + right)/2;\n",
    "        if(K < Tb1->Element[mid])  right = mid - 1;\n",
    "        else if(K > Tb1->Element[mid])  left = mid+1;\n",
    "        else  return mid;\n",
    "    }\n",
    "    return NotFound\n",
    "}\n",
    "```"
   ]
  },
  {
   "cell_type": "code",
   "execution_count": null,
   "metadata": {},
   "outputs": [],
   "source": []
  }
 ],
 "metadata": {
  "kernelspec": {
   "display_name": "Python 3",
   "language": "python",
   "name": "python3"
  },
  "language_info": {
   "codemirror_mode": {
    "name": "ipython",
    "version": 3
   },
   "file_extension": ".py",
   "mimetype": "text/x-python",
   "name": "python",
   "nbconvert_exporter": "python",
   "pygments_lexer": "ipython3",
   "version": "3.7.1"
  }
 },
 "nbformat": 4,
 "nbformat_minor": 2
}
