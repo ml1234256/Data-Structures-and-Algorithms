{
 "cells": [
  {
   "cell_type": "markdown",
   "metadata": {},
   "source": [
    "### 37.序列化二叉树\n",
    "请实现两个函数，分别用来序列化和反序列化二叉树 \n",
    "\n",
    "二叉树的序列化是指：把一棵二叉树按照某种遍历方式的结果以某种格式保存为字符串，从而使得内存中建立起来的二叉树可以持久保存。序列化可以基于先序、中序、后序、层序的二叉树遍历方式来进行修改，序列化的结果是一个字符串，序列化时通过 某种符号表示空节点（#），以 ！ 表示一个结点值的结束（value!）。\n",
    "\n",
    "二叉树的反序列化是指：根据某种遍历顺序得到的序列化字符串结果str，重构二叉树。\n"
   ]
  },
  {
   "cell_type": "code",
   "execution_count": 63,
   "metadata": {},
   "outputs": [
    {
     "name": "stdout",
     "output_type": "stream",
     "text": [
      "1,2,#,#,3,#,#\n",
      "s:  1,2,#,#,3,#,#\n",
      "1\n",
      "2,#,#,3,#,#\n",
      "\n",
      "s:  2,#,#,3,#,#\n",
      "2\n",
      "#,#,3,#,#\n",
      "\n",
      "s:  #,#,3,#,#\n",
      "#\n",
      "#,3,#,#\n",
      "\n",
      "s:  #,#,3,#,#\n",
      "#\n",
      "#,3,#,#\n",
      "\n",
      "s:  2,#,#,3,#,#\n",
      "2\n",
      "#,#,3,#,#\n",
      "\n",
      "s:  #,#,3,#,#\n",
      "#\n",
      "#,3,#,#\n",
      "\n",
      "s:  #,#,3,#,#\n",
      "#\n",
      "#,3,#,#\n",
      "\n",
      "1,2,#,#,2,#,#\n"
     ]
    }
   ],
   "source": [
    "# 前序遍历序列化\n",
    "# -*- coding:utf-8 -*-\n",
    "class TreeNode:\n",
    "    def __init__(self, x):\n",
    "        self.val = x\n",
    "        self.left = None\n",
    "        self.right = None\n",
    "\n",
    "class Solution:\n",
    "    def Serialize(self, root):\n",
    "        # write code here\n",
    "        if not root:\n",
    "            return '#'\n",
    "        res = str(root.val)\n",
    "        res += ',' + self.Serialize(root.left)\n",
    "        res += ',' + self.Serialize(root.right)\n",
    "        return res\n",
    "\n",
    "    def Deserialize(self, s):\n",
    "        # write code here\n",
    "        if not s:\n",
    "            return None\n",
    "        slist = s.split(',')\n",
    "        head_val = slist.pop(0)\n",
    "        print('s: ', s)\n",
    "        print(head_val)\n",
    "        print(','.join(slist))\n",
    "        print()\n",
    "        if head_val == '#':\n",
    "            return None\n",
    "        pHead = TreeNode(head_val)\n",
    "        pHead.left = self.Deserialize(','.join(slist))\n",
    "        pHead.right = self.Deserialize(','.join(slist)) # 用‘，’连接元素转换成str\n",
    "        return pHead\n",
    "    \n",
    "pHead = TreeNode(1)\n",
    "pHead.left = TreeNode(2)\n",
    "pHead.right = TreeNode(3)\n",
    "string = Solution().Serialize(pHead)\n",
    "print(string)\n",
    "tree = Solution().Deserialize(string)\n",
    "string = Solution().Serialize(tree)\n",
    "print(string)"
   ]
  },
  {
   "cell_type": "code",
   "execution_count": 65,
   "metadata": {
    "scrolled": false
   },
   "outputs": [
    {
     "name": "stdout",
     "output_type": "stream",
     "text": [
      "1,2,#,#,3,#,#\n",
      "1,2,#,#,3,#,#\n"
     ]
    }
   ],
   "source": [
    "class Solution:\n",
    "    def Serialize(self, root):\n",
    "        # write code here\n",
    "        if not root:\n",
    "            return '#'\n",
    "        res = str(root.val)\n",
    "        res += ',' + self.Serialize(root.left)\n",
    "        res += ',' + self.Serialize(root.right)\n",
    "        return res\n",
    "\n",
    "\n",
    "    def Deserialize(self, s):\n",
    "        # write code here\n",
    "        slist = s.split(',')\n",
    "        def des():\n",
    "            if not slist:\n",
    "                return None\n",
    "            head_val = slist.pop(0)\n",
    "#             print('s: ', s)\n",
    "#             print(head_val)\n",
    "#             print(','.join(slist))\n",
    "#             print()\n",
    "            if head_val == '#':\n",
    "                return None\n",
    "            pHead = TreeNode(int(head_val)) # 注意：用int()将str转换成number\n",
    "            pHead.left = des()\n",
    "            pHead.right = des()\n",
    "            return pHead\n",
    "        return des()\n",
    "    \n",
    "pHead = TreeNode(1)\n",
    "pHead.left = TreeNode(2)\n",
    "pHead.right = TreeNode(3)\n",
    "string = Solution().Serialize(pHead)\n",
    "#print(string)\n",
    "\n",
    "tree = Solution().Deserialize(string)\n",
    "string = Solution().Serialize(tree)\n",
    "print(string)\n",
    "tree = Solution().Deserialize(string)\n",
    "string = Solution().Serialize(tree)\n",
    "print(string)"
   ]
  },
  {
   "cell_type": "code",
   "execution_count": 57,
   "metadata": {},
   "outputs": [
    {
     "name": "stdout",
     "output_type": "stream",
     "text": [
      "s:  [1, 2, '#', '#', 3, '#', '#']\n",
      "1\n",
      "[2, '#', '#', 3, '#', '#']\n",
      "\n",
      "s:  [2, '#', '#', 3, '#', '#']\n",
      "2\n",
      "['#', '#', 3, '#', '#']\n",
      "\n",
      "s:  ['#', '#', 3, '#', '#']\n",
      "#\n",
      "['#', 3, '#', '#']\n",
      "\n",
      "s:  ['#', 3, '#', '#']\n",
      "#\n",
      "[3, '#', '#']\n",
      "\n",
      "s:  [3, '#', '#']\n",
      "3\n",
      "['#', '#']\n",
      "\n",
      "s:  ['#', '#']\n",
      "#\n",
      "['#']\n",
      "\n",
      "s:  ['#']\n",
      "#\n",
      "[]\n",
      "\n",
      "[1, 2, '#', '#', 3, '#', '#']\n"
     ]
    }
   ],
   "source": [
    "class Solution:\n",
    "    def Serialize(self, root):\n",
    "        # write code here\n",
    "        if not root:\n",
    "            return ['#']\n",
    "        res = [root.val]\n",
    "        return res + self.Serialize(root.left) + self.Serialize(root.right)\n",
    "\n",
    "    def Deserialize(self, s):\n",
    "        # write code here\n",
    "        if not s:\n",
    "            return None\n",
    "        print('s: ', s)\n",
    "        head_val = s.pop(0)\n",
    "        print(head_val)\n",
    "        print(s)\n",
    "        print()\n",
    "        if head_val == '#':\n",
    "            return None\n",
    "        pHead = TreeNode(head_val)\n",
    "        pHead.left = self.Deserialize(s)\n",
    "        pHead.right = self.Deserialize(s)\n",
    "        return pHead\n",
    "    \n",
    "pHead = TreeNode(1)\n",
    "pHead.left = TreeNode(2)\n",
    "pHead.right = TreeNode(3)\n",
    "string = Solution().Serialize(pHead)\n",
    "#print(string)\n",
    "\n",
    "tree = Solution().Deserialize(string)\n",
    "string = Solution().Serialize(tree)\n",
    "print(string)"
   ]
  },
  {
   "cell_type": "markdown",
   "metadata": {},
   "source": [
    "### 38.字符串的排列\n",
    "输入一个字符串,按字典序打印出该字符串中字符的所有排列。例如输入字符串abc,则打印出由字符a,b,c所能排列出来的所有字符串abc,acb,bac,bca,cab和cba。  \n",
    "输入描述：输入一个字符串,长度不超过9(可能有字符重复),字符只包括大小写字母。"
   ]
  },
  {
   "cell_type": "code",
   "execution_count": null,
   "metadata": {},
   "outputs": [],
   "source": [
    "# -*- coding:utf-8 -*-\n",
    "class Solution:\n",
    "    def Permutation(self, ss):\n",
    "        # write code here\n",
    "        return ss[1]"
   ]
  },
  {
   "cell_type": "code",
   "execution_count": 11,
   "metadata": {},
   "outputs": [
    {
     "data": {
      "text/plain": [
       "'bc'"
      ]
     },
     "execution_count": 11,
     "metadata": {},
     "output_type": "execute_result"
    }
   ],
   "source": [
    "s = 'abc'\n",
    "a = list(s)\n",
    "a[1]+a[2]"
   ]
  },
  {
   "cell_type": "markdown",
   "metadata": {},
   "source": [
    "### 40.最小的k个数\n",
    "输入n个整数，找出其中最小的K个数。例如输入4,5,1,6,2,7,3,8这8个数字，则最小的4个数字是1,2,3,4,。"
   ]
  },
  {
   "cell_type": "code",
   "execution_count": null,
   "metadata": {},
   "outputs": [],
   "source": [
    "# -*- coding:utf-8 -*-\n",
    "# 冒泡排序前k个数\n",
    "class Solution:\n",
    "    def GetLeastNumbers_Solution(self, tinput, k):\n",
    "        # write code here\n",
    "        if k<1 or len(tinput)<1 or k>len(tinput):\n",
    "            return []\n",
    "        for i in range(k):\n",
    "            for j in range(i+1, len(tinput)):\n",
    "                if tinput[i] > tinput[j]:\n",
    "                    temp = tinput[i]\n",
    "                    tinput[i] = tinput[j]\n",
    "                    tinput[j] = temp\n",
    "        return tinput[:k]\n",
    "          "
   ]
  },
  {
   "cell_type": "markdown",
   "metadata": {},
   "source": [
    "### 43.1~n整数中1出现的次数\n",
    "求出1~13的整数中1出现的次数,并算出100~1300的整数中1出现的次数？为此他特别数了一下1~13中包含1的数字有1、10、11、12、13因此共出现6次,但是对于后面问题他就没辙了。ACMer希望你们帮帮他,并把问题更加普遍化,可以很快的求出任意非负整数区间中1出现的次数（从1 到 n 中1出现的次数）。"
   ]
  },
  {
   "cell_type": "code",
   "execution_count": null,
   "metadata": {},
   "outputs": [],
   "source": [
    "# -*- coding:utf-8 -*-\n",
    "# method1:\n",
    "class Solution:\n",
    "    def NumberOf1Between1AndN_Solution(self, n):\n",
    "        # write code here\n",
    "        count = 0\n",
    "        for i in range(1, n+1):\n",
    "            while i:\n",
    "                if i % 10 == 1:\n",
    "                    count += 1\n",
    "                i = i // 10\n",
    "        return count\n",
    "\n",
    "# method2:\n",
    "class Solution:\n",
    "    def NumberOf1Between1AndN_Solution(self, n):\n",
    "        # write code here\n",
    "        count = 0\n",
    "        for i in range(1, n+1):\n",
    "            for j in str(i):\n",
    "                if j == '1':\n",
    "                    count += 1\n",
    "        return count"
   ]
  },
  {
   "cell_type": "code",
   "execution_count": 5,
   "metadata": {},
   "outputs": [
    {
     "name": "stdout",
     "output_type": "stream",
     "text": [
      "23\n",
      "2\n",
      "3\n"
     ]
    }
   ],
   "source": [
    "# trick\n",
    "n = 23\n",
    "s = str(n)\n",
    "print(s)\n",
    "for i in s:\n",
    "    print(i)"
   ]
  },
  {
   "cell_type": "markdown",
   "metadata": {},
   "source": [
    "### 50.字符流中第一个不重复的字符\n",
    "题目描述\n",
    "请实现一个函数用来找出字符流中第一个只出现一次的字符。例如，当从字符流中只读出前两个字符\"go\"时，第一个只出现一次的字符是\"g\"。当从该字符流中读出前六个字符“google\"时，第一个只出现一次的字符是\"l\"。  \n",
    "输出描述:\n",
    "如果当前字符流没有存在出现一次的字符，返回#字符。"
   ]
  },
  {
   "cell_type": "code",
   "execution_count": null,
   "metadata": {},
   "outputs": [],
   "source": [
    "# -*- coding:utf-8 -*-\n",
    "class Solution:\n",
    "    # 返回对应char\n",
    "    def __init__(self):\n",
    "        # alist存储当前读入字符流的字符（按顺序）\n",
    "        # char_dict存储字符出现的次数，如果字符出现大于1次，为简单起见，统一记为2次。\n",
    "        self.alist = []\n",
    "        self.char_dict = {}\n",
    "        \n",
    "    def FirstAppearingOnce(self):\n",
    "        # write code here\n",
    "        while len(self.alist)>0 and self.char_dict[self.alist[0]]>1:\n",
    "            self.alist.pop(0)\n",
    "        if len(self.alist)>0:\n",
    "            return self.alist[0]\n",
    "        return '#'\n",
    "    \n",
    "    def Insert(self, char):\n",
    "        # write code here\n",
    "        if char not in self.char_dict.keys():\n",
    "            self.alist.append(char)\n",
    "            self.char_dict[char] = 1\n",
    "        else:\n",
    "            self.char_dict[char] = 2"
   ]
  },
  {
   "cell_type": "markdown",
   "metadata": {},
   "source": [
    "### 54.二叉搜索树的第K大节点\n",
    "给定一颗二叉搜索树，请找出其中的第k小的结点。例如， 5 （5，3，7，2，4，6，8）    中，按结点数值大小顺序第三小结点的值为4。\n",
    "\n",
    "解题思路：中序遍历"
   ]
  },
  {
   "cell_type": "code",
   "execution_count": null,
   "metadata": {},
   "outputs": [],
   "source": [
    "# -*- coding:utf-8 -*-\n",
    "# class TreeNode:\n",
    "#     def __init__(self, x):\n",
    "#         self.val = x\n",
    "#         self.left = None\n",
    "#         self.right = None\n",
    "class Solution:\n",
    "    # 返回对应节点TreeNode\n",
    "    def KthNode(self, pRoot, k):\n",
    "        # write code here\n",
    "        if not pRoot or k<=0:\n",
    "            return None\n",
    "        self.res = []\n",
    "        self.inorder(pRoot)\n",
    "        return self.res[k-1] if 0<k<=len(self.res) else None\n",
    "    \n",
    "    def inorder(self,pRoot):\n",
    "        if not pRoot:\n",
    "            return\n",
    "        self.inorder(pRoot.left)\n",
    "        self.res.append(pRoot)\n",
    "        self.inorder(pRoot.right)"
   ]
  },
  {
   "cell_type": "markdown",
   "metadata": {},
   "source": [
    "### 55.二叉树的深度\n",
    "输入一棵二叉树，求该树的深度。从根结点到叶结点依次经过的结点（含根、叶结点）形成树的一条路径，最长路径的长度为树的深度。  \n",
    "思路：二叉树的高度为左、右子树高度的最大值加1"
   ]
  },
  {
   "cell_type": "code",
   "execution_count": null,
   "metadata": {},
   "outputs": [],
   "source": [
    "# -*- coding:utf-8 -*-\n",
    "# class TreeNode:\n",
    "#     def __init__(self, x):\n",
    "#         self.val = x\n",
    "#         self.left = None\n",
    "#         self.right = None\n",
    "class Solution:\n",
    "    def TreeDepth(self, pRoot):\n",
    "        # write code here\n",
    "        if not pRoot:\n",
    "            return 0\n",
    "        left = self.TreeDepth(pRoot.left)\n",
    "        right = self.TreeDepth(pRoot.right)\n",
    "        return max(left, right) + 1"
   ]
  },
  {
   "cell_type": "markdown",
   "metadata": {},
   "source": [
    "### 平衡二叉树\n",
    "输入一棵二叉树，判断该二叉树是否是平衡二叉树。"
   ]
  },
  {
   "cell_type": "code",
   "execution_count": null,
   "metadata": {},
   "outputs": [],
   "source": [
    "# -*- coding:utf-8 -*-\n",
    "# class TreeNode:\n",
    "#     def __init__(self, x):\n",
    "#         self.val = x\n",
    "#         self.left = None\n",
    "#         self.right = None\n",
    "class Solution:\n",
    "    def IsBalanced_Solution(self, pRoot):\n",
    "        # write code here"
   ]
  },
  {
   "cell_type": "markdown",
   "metadata": {},
   "source": [
    "### 57.和为s的数字\n",
    "输入一个递增排序的数组和一个数字S，在数组中查找两个数，是的他们的和正好是S，如果有多对数字的和等于S，输出两个数的乘积最小的。\n",
    "\n",
    "输出描述:\n",
    "对应每个测试案例，输出两个数，小的先输出"
   ]
  },
  {
   "cell_type": "code",
   "execution_count": 17,
   "metadata": {},
   "outputs": [
    {
     "name": "stdout",
     "output_type": "stream",
     "text": [
      "[1, 6]\n"
     ]
    }
   ],
   "source": [
    "# -*- coding:utf-8 -*-\n",
    "# O(n)\n",
    "class Solution:\n",
    "    def FindNumbersWithSum(self, array, tsum):\n",
    "        # write code here\n",
    "        if len(array)<2:\n",
    "            return []\n",
    "        ahead = 0\n",
    "        behind = len(array) - 1\n",
    "        while ahead < behind:\n",
    "            cur_sum = array[ahead] + array[behind]\n",
    "            if cur_sum == tsum:\n",
    "                return [array[ahead], array[behind]]\n",
    "            elif cur_sum < tsum:\n",
    "                ahead += 1\n",
    "            else:\n",
    "                behind -= 1\n",
    "        return []\n",
    "    \n",
    "array = [1,2,3,4,5,6]\n",
    "tsum = 7\n",
    "res = Solution().FindNumbersWithSum(array, tsum)\n",
    "print(res)"
   ]
  },
  {
   "cell_type": "markdown",
   "metadata": {},
   "source": [
    "### 拓展：和为S的连续正数序列\n",
    "输出所有和为S的连续正数序列。序列内按照从小至大的顺序，序列间按照开始数字从小到大的顺序"
   ]
  },
  {
   "cell_type": "code",
   "execution_count": 20,
   "metadata": {},
   "outputs": [
    {
     "name": "stdout",
     "output_type": "stream",
     "text": [
      "[[9, 10, 11, 12, 13, 14, 15, 16], [18, 19, 20, 21, 22]]\n"
     ]
    }
   ],
   "source": [
    "# O(n)\n",
    "class Solution:\n",
    "    def FindContinuousSequence(self, tsum):\n",
    "        # write code here\n",
    "        if tsum<3:\n",
    "            return []\n",
    "        small, big = 1, 2\n",
    "        middle = (tsum+1)//2\n",
    "        curSum = small + big\n",
    "        res = []\n",
    "        \n",
    "        while small<middle:\n",
    "            if curSum == tsum:\n",
    "                res.append(list(range(small, big+1)))\n",
    "            while curSum>tsum and small<middle:\n",
    "                curSum -= small\n",
    "                small += 1\n",
    "                if curSum == tsum:\n",
    "                    res.append(list(range(small, big+1)))\n",
    "            big += 1\n",
    "            curSum += big\n",
    "        return res\n",
    "                \n",
    "tsum = 100\n",
    "res = Solution().FindContinuousSequence(tsum)\n",
    "print(res)           "
   ]
  },
  {
   "cell_type": "markdown",
   "metadata": {},
   "source": [
    "### 58.翻转字符串\n",
    "牛客最近来了一个新员工Fish，每天早晨总是会拿着一本英文杂志，写些句子在本子上。同事Cat对Fish写的内容颇感兴趣，有一天他向Fish借来翻看，但却读不懂它的意思。例如，“student. a am I”。后来才意识到，这家伙原来把句子单词的顺序翻转了，正确的句子应该是“I am a student.”。Cat对一一的翻转这些单词顺序可不在行，你能帮助他么？"
   ]
  },
  {
   "cell_type": "code",
   "execution_count": 14,
   "metadata": {},
   "outputs": [
    {
     "data": {
      "text/plain": [
       "'happyareWe'"
      ]
     },
     "execution_count": 14,
     "metadata": {},
     "output_type": "execute_result"
    }
   ],
   "source": [
    "# -*- coding:utf-8 -*-\n",
    "class Solution:\n",
    "    def ReverseSentence(self, s):\n",
    "        # write code here\n",
    "        res = []\n",
    "        stack = s.split(' ')\n",
    "        for i in range(len(stack)):\n",
    "            res.append(stack.pop())\n",
    "        return ''.join(res)\n",
    "a = 'We are happy'\n",
    "b = ' '\n",
    "Solution().ReverseSentence(a)"
   ]
  },
  {
   "cell_type": "code",
   "execution_count": 9,
   "metadata": {},
   "outputs": [
    {
     "name": "stdout",
     "output_type": "stream",
     "text": [
      "['We', 'are', 'happy']\n"
     ]
    }
   ],
   "source": [
    "# trick\n",
    "a = 'We are happy'\n",
    "print(a.split(' '))"
   ]
  },
  {
   "cell_type": "markdown",
   "metadata": {},
   "source": [
    "### 扩展：左旋转字符串\n",
    "题：汇编语言中有一种移位指令叫做循环左移（ROL），现在有个简单的任务，就是用字符串模拟这个指令的运算结果。对于一个给定的字符序列S，请你把其循环左移K位后的序列输出。例如，字符序列S=”abcXYZdef”,要求输出循环左移3位后的结果，即“XYZdefabc”。是不是很简单？OK，搞定它！"
   ]
  },
  {
   "cell_type": "code",
   "execution_count": 12,
   "metadata": {},
   "outputs": [
    {
     "data": {
      "text/plain": [
       "'abc'"
      ]
     },
     "execution_count": 12,
     "metadata": {},
     "output_type": "execute_result"
    }
   ],
   "source": [
    "# -*- coding:utf-8 -*-\n",
    "class Solution:\n",
    "    def LeftRotateString(self, s, n):\n",
    "        # write code here\n",
    "        if not s:\n",
    "            return ''\n",
    "        if n < 1:\n",
    "            return s\n",
    "        slist = list(s)\n",
    "        left = []\n",
    "        for i in range(n):\n",
    "            left.append(slist.pop(0))\n",
    "        for n in left:\n",
    "            slist.append(n)\n",
    "        return ''.join(slist)\n",
    "        # method2:利用python特性\n",
    "        # return s[n:]+s[:n]"
   ]
  },
  {
   "cell_type": "markdown",
   "metadata": {},
   "source": [
    "### 64.求1+2+3+...+n\n",
    "求1+2+3+...+n，要求不能使用乘除法、for、while、if、else、switch、case等关键字及条件判断语句（A?B:C）。"
   ]
  },
  {
   "cell_type": "code",
   "execution_count": 1,
   "metadata": {},
   "outputs": [
    {
     "data": {
      "text/plain": [
       "6"
      ]
     },
     "execution_count": 1,
     "metadata": {},
     "output_type": "execute_result"
    }
   ],
   "source": [
    "# -*- coding:utf-8 -*-\n",
    "method1\n",
    "class Solution:\n",
    "    def Sum_Solution(self, n):\n",
    "        # write code here\n",
    "        if n == 1:\n",
    "            return 1\n",
    "        else:\n",
    "            return n + self.Sum_Solution(n-1)\n",
    "\n",
    "# method2\n",
    "class Solution:\n",
    "    def Sum_Solution(self, n):\n",
    "        # write code here\n",
    "        return sum(list(range(1,n+1)))\n",
    "\n",
    "# method3\n",
    "class Solution:\n",
    "    def Sum_Solution(self, n):\n",
    "        # write code here\n",
    "        return n and n + self.Sum_Solution(n-1)"
   ]
  },
  {
   "cell_type": "code",
   "execution_count": 4,
   "metadata": {},
   "outputs": [
    {
     "name": "stdout",
     "output_type": "stream",
     "text": [
      "[1, 2, 3]\n",
      "0\n"
     ]
    }
   ],
   "source": [
    "# trik\n",
    "# a and b, a 为 False，返回a，a为True，就返回b \n",
    "a = 'Hellow'\n",
    "b = [1,2,3]\n",
    "print(a and b)\n",
    "a = 0\n",
    "print(a and b)"
   ]
  },
  {
   "cell_type": "markdown",
   "metadata": {},
   "source": [
    "### 67.把字符串转换成整数\n",
    "将一个字符串转换成一个整数(实现Integer.valueOf(string)的功能，但是string不符合数字要求时返回0)，要求不能使用字符串转换整数的库函数。 数值为0或者字符串不是一个合法的数值则返回0。  \n",
    "输入描述:  \n",
    "输入一个字符串,包括数字字母符号,可以为空  \n",
    "输出描述:  \n",
    "如果是合法的数值表达则返回该数字，否则返回0  \n",
    "示例1   \n",
    "输入  \n",
    "+2147483647  \n",
    "    1a33  \n",
    "输出  \n",
    "2147483647  \n",
    "    0  "
   ]
  },
  {
   "cell_type": "code",
   "execution_count": 80,
   "metadata": {},
   "outputs": [
    {
     "name": "stdout",
     "output_type": "stream",
     "text": [
      "0\n"
     ]
    },
    {
     "data": {
      "text/plain": [
       "-2147483647"
      ]
     },
     "execution_count": 80,
     "metadata": {},
     "output_type": "execute_result"
    }
   ],
   "source": [
    "# -*- coding:utf-8 -*-\n",
    "class Solution:\n",
    "    def StrToInt(self, s):\n",
    "        # write code here\n",
    "        if s == '':\n",
    "            return 0 \n",
    "        allow_number = ['0', '1', '2', '3', '4', '5', '6', '7', '8', '9']\n",
    "        label = 1\n",
    "        int_num = 0\n",
    "        for i in range(len(s)):\n",
    "            if i == 0:\n",
    "                if s[i] == '-':\n",
    "                    label = -1\n",
    "                    continue\n",
    "                if s[i] == '+':\n",
    "                    continue\n",
    "            if s[i] not in allow_number:\n",
    "                return 0\n",
    "            int_num = int_num * 10 + allow_number.index(s[i]) # 字符s[i]在allow_number中的index\n",
    "        return int_num * label\n",
    "s = '1a33'\n",
    "print(Solution().StrToInt(s))\n",
    "s = '-2147483647'\n",
    "Solution().StrToInt(s)"
   ]
  },
  {
   "cell_type": "code",
   "execution_count": 75,
   "metadata": {},
   "outputs": [
    {
     "name": "stdout",
     "output_type": "stream",
     "text": [
      "3\n",
      "1\n",
      "2\n",
      "3\n"
     ]
    },
    {
     "data": {
      "text/plain": [
       "1"
      ]
     },
     "execution_count": 75,
     "metadata": {},
     "output_type": "execute_result"
    }
   ],
   "source": [
    "s = '123'\n",
    "print(len(s))\n",
    "for n in s:\n",
    "    print(n)\n",
    "allow_number = ['0', '10', '2', '3', '4', '5', '6', '7', '8', '9']\n",
    "allow_number.index('10')"
   ]
  },
  {
   "cell_type": "code",
   "execution_count": null,
   "metadata": {},
   "outputs": [],
   "source": []
  }
 ],
 "metadata": {
  "kernelspec": {
   "display_name": "Python 3",
   "language": "python",
   "name": "python3"
  },
  "language_info": {
   "codemirror_mode": {
    "name": "ipython",
    "version": 3
   },
   "file_extension": ".py",
   "mimetype": "text/x-python",
   "name": "python",
   "nbconvert_exporter": "python",
   "pygments_lexer": "ipython3",
   "version": "3.7.1"
  }
 },
 "nbformat": 4,
 "nbformat_minor": 2
}
