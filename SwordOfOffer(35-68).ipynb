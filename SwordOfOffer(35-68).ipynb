{
 "cells": [
  {
   "cell_type": "markdown",
   "metadata": {},
   "source": [
    "### 43.1~n整数中1出现的次数\n",
    "求出1~13的整数中1出现的次数,并算出100~1300的整数中1出现的次数？为此他特别数了一下1~13中包含1的数字有1、10、11、12、13因此共出现6次,但是对于后面问题他就没辙了。ACMer希望你们帮帮他,并把问题更加普遍化,可以很快的求出任意非负整数区间中1出现的次数（从1 到 n 中1出现的次数）。"
   ]
  },
  {
   "cell_type": "code",
   "execution_count": null,
   "metadata": {},
   "outputs": [],
   "source": [
    "# -*- coding:utf-8 -*-\n",
    "# method1:\n",
    "class Solution:\n",
    "    def NumberOf1Between1AndN_Solution(self, n):\n",
    "        # write code here\n",
    "        count = 0\n",
    "        for i in range(1, n+1):\n",
    "            while i:\n",
    "                if i % 10 == 1:\n",
    "                    count += 1\n",
    "                i = i // 10\n",
    "        return count\n",
    "\n",
    "# method2:\n",
    "class Solution:\n",
    "    def NumberOf1Between1AndN_Solution(self, n):\n",
    "        # write code here\n",
    "        count = 0\n",
    "        for i in range(1, n+1):\n",
    "            for j in str(i):\n",
    "                if j == '1':\n",
    "                    count += 1\n",
    "        return count"
   ]
  },
  {
   "cell_type": "code",
   "execution_count": 5,
   "metadata": {},
   "outputs": [
    {
     "name": "stdout",
     "output_type": "stream",
     "text": [
      "23\n",
      "2\n",
      "3\n"
     ]
    }
   ],
   "source": [
    "# trick\n",
    "n = 23\n",
    "s = str(n)\n",
    "print(s)\n",
    "for i in s:\n",
    "    print(i)"
   ]
  },
  {
   "cell_type": "markdown",
   "metadata": {},
   "source": [
    "### 55.二叉树的深度\n",
    "输入一棵二叉树，求该树的深度。从根结点到叶结点依次经过的结点（含根、叶结点）形成树的一条路径，最长路径的长度为树的深度。  \n",
    "思路：二叉树的高度为左、右子树高度的最大值加1"
   ]
  },
  {
   "cell_type": "code",
   "execution_count": null,
   "metadata": {},
   "outputs": [],
   "source": [
    "# -*- coding:utf-8 -*-\n",
    "# class TreeNode:\n",
    "#     def __init__(self, x):\n",
    "#         self.val = x\n",
    "#         self.left = None\n",
    "#         self.right = None\n",
    "class Solution:\n",
    "    def TreeDepth(self, pRoot):\n",
    "        # write code here\n",
    "        if not pRoot:\n",
    "            return 0\n",
    "        left = self.TreeDepth(pRoot.left)\n",
    "        right = self.TreeDepth(pRoot.right)\n",
    "        return max(left, right) + 1"
   ]
  },
  {
   "cell_type": "markdown",
   "metadata": {},
   "source": [
    "### 58.翻转字符串\n",
    "牛客最近来了一个新员工Fish，每天早晨总是会拿着一本英文杂志，写些句子在本子上。同事Cat对Fish写的内容颇感兴趣，有一天他向Fish借来翻看，但却读不懂它的意思。例如，“student. a am I”。后来才意识到，这家伙原来把句子单词的顺序翻转了，正确的句子应该是“I am a student.”。Cat对一一的翻转这些单词顺序可不在行，你能帮助他么？"
   ]
  },
  {
   "cell_type": "code",
   "execution_count": 14,
   "metadata": {},
   "outputs": [
    {
     "data": {
      "text/plain": [
       "'happyareWe'"
      ]
     },
     "execution_count": 14,
     "metadata": {},
     "output_type": "execute_result"
    }
   ],
   "source": [
    "# -*- coding:utf-8 -*-\n",
    "class Solution:\n",
    "    def ReverseSentence(self, s):\n",
    "        # write code here\n",
    "        res = []\n",
    "        stack = s.split(' ')\n",
    "        for i in range(len(stack)):\n",
    "            res.append(stack.pop())\n",
    "        return ''.join(res)\n",
    "a = 'We are happy'\n",
    "b = ' '\n",
    "Solution().ReverseSentence(a)"
   ]
  },
  {
   "cell_type": "code",
   "execution_count": 9,
   "metadata": {},
   "outputs": [
    {
     "name": "stdout",
     "output_type": "stream",
     "text": [
      "['We', 'are', 'happy']\n"
     ]
    }
   ],
   "source": [
    "# trick\n",
    "a = 'We are happy'\n",
    "print(a.split(' '))"
   ]
  },
  {
   "cell_type": "markdown",
   "metadata": {},
   "source": [
    "### 64.求1+2+3+...+n\n",
    "求1+2+3+...+n，要求不能使用乘除法、for、while、if、else、switch、case等关键字及条件判断语句（A?B:C）。"
   ]
  },
  {
   "cell_type": "code",
   "execution_count": 1,
   "metadata": {},
   "outputs": [
    {
     "data": {
      "text/plain": [
       "6"
      ]
     },
     "execution_count": 1,
     "metadata": {},
     "output_type": "execute_result"
    }
   ],
   "source": [
    "# -*- coding:utf-8 -*-\n",
    "method1\n",
    "class Solution:\n",
    "    def Sum_Solution(self, n):\n",
    "        # write code here\n",
    "        if n == 1:\n",
    "            return 1\n",
    "        else:\n",
    "            return n + self.Sum_Solution(n-1)\n",
    "\n",
    "# method2\n",
    "class Solution:\n",
    "    def Sum_Solution(self, n):\n",
    "        # write code here\n",
    "        return sum(list(range(1,n+1)))\n",
    "\n",
    "# method3\n",
    "class Solution:\n",
    "    def Sum_Solution(self, n):\n",
    "        # write code here\n",
    "        return n and n + self.Sum_Solution(n-1)"
   ]
  },
  {
   "cell_type": "code",
   "execution_count": 4,
   "metadata": {},
   "outputs": [
    {
     "name": "stdout",
     "output_type": "stream",
     "text": [
      "[1, 2, 3]\n",
      "0\n"
     ]
    }
   ],
   "source": [
    "# trik\n",
    "# a and b, a 为 False，返回a，a为True，就返回b \n",
    "a = 'Hellow'\n",
    "b = [1,2,3]\n",
    "print(a and b)\n",
    "a = 0\n",
    "print(a and b)"
   ]
  },
  {
   "cell_type": "code",
   "execution_count": null,
   "metadata": {},
   "outputs": [],
   "source": []
  }
 ],
 "metadata": {
  "kernelspec": {
   "display_name": "Python 3",
   "language": "python",
   "name": "python3"
  },
  "language_info": {
   "codemirror_mode": {
    "name": "ipython",
    "version": 3
   },
   "file_extension": ".py",
   "mimetype": "text/x-python",
   "name": "python",
   "nbconvert_exporter": "python",
   "pygments_lexer": "ipython3",
   "version": "3.7.1"
  }
 },
 "nbformat": 4,
 "nbformat_minor": 2
}
