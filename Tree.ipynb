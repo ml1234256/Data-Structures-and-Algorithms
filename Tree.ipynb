{
 "cells": [
  {
   "cell_type": "markdown",
   "metadata": {},
   "source": [
    "### 二叉树（Tree)\n",
    "https://mp.weixin.qq.com/s/uRH_X_6tgYTbUQ7wwr5kUA\n",
    "每个结点最多只有两个子树的树结构，称为左子树（left subtree)和右子树（right subtree)<br>"
   ]
  },
  {
   "cell_type": "markdown",
   "metadata": {},
   "source": [
    "#### 1.二叉树的类型\n",
    "- 完全二叉树：若设二叉树的高度为h，除第 h 层外，其它各层 (1～h-1) 的结点数都达到最大个数，第h层有叶子节点，并且叶子结点都是从左到右依次排布。\n",
    "- 满二叉树：除了叶结点外每一个结点都有左右子叶且叶子结点都处在最底层的二叉树。\n",
    "- 平衡二叉树：又被称为AVL树（区别于AVL算法），它是一棵二叉排序树，且具有以下性质：它是一棵空树或它的左右两个子树的高度差的绝对值不超过1，并且左右两个子树都是一棵平衡二叉树。\n",
    "\n",
    "#### 2.二叉树与树的区别\n",
    "（1） 树中结点的最大度数没有限制，而二叉树结点的最大度数为2<br>\n",
    "（2） 树的结点无左、右之分，而二叉树的结点有左、右之分\n",
    "\n",
    "### 3.二叉树的遍历\n",
    "以下图二叉树为例进行遍历\n",
    "![](./img/tree1.jpg)\n",
    "\n",
    "#### (1)前序遍历\n",
    "先访问树的根节点，再以类似方式分别遍历左子树和右子树。\n",
    "\n",
    "遍历顺序：ABDCEF\n",
    "\n",
    "#### (2)中序遍历\n",
    "先遍历左子树，再访问根节点，最后遍历右子树，这个算法先尽量地移动到树的最左边。\n",
    "\n",
    "遍历顺序：DBAECF\n",
    "\n",
    "#### (3)后序遍历\n",
    "先遍历左子树，再遍历右子树，最后访问根节点。\n",
    "\n",
    "遍历顺序：DBEFCA\n",
    "\n",
    "#### (4)层序遍历\n",
    "先从0层级开始，在每一个层级按照从左到右的顺序访问节点。\n",
    "\n",
    "遍历顺序：ABCDEF\n",
    "\n",
    "### 4.Python 实现\n",
    "代码参考：https://www.cnblogs.com/PrettyTom/p/6677993.html"
   ]
  },
  {
   "cell_type": "code",
   "execution_count": 16,
   "metadata": {},
   "outputs": [
    {
     "name": "stdout",
     "output_type": "stream",
     "text": [
      "层序遍历: [0, 1, 2, 3, 4, 5, 6, 7, 8, 9]\n",
      "先序遍历: [0, 1, 3, 7, 8, 4, 9, 2, 5, 6]\n",
      "中序遍历: [7, 3, 8, 1, 9, 4, 0, 5, 2, 6]\n",
      "后序遍历: [7, 8, 3, 9, 4, 1, 5, 6, 2, 0]\n"
     ]
    }
   ],
   "source": [
    "class TreeNode:\n",
    "    def __init__(self, item):\n",
    "        self.item = item\n",
    "        self.child1 = None\n",
    "        self.child2 = None\n",
    "\n",
    "class Tree:\n",
    "    def __init__(self):\n",
    "        self.root = None\n",
    "    \n",
    "    def add(self, item):\n",
    "        node = TreeNode(item)\n",
    "        if self.root is None:\n",
    "            self.root = node\n",
    "        else:\n",
    "            q = [self.root]\n",
    "            while True:\n",
    "                pop_node = q.pop(0)\n",
    "                if pop_node.child1 is None:\n",
    "                    pop_node.child1 = node\n",
    "                    return\n",
    "                elif pop_node.child2 is None:\n",
    "                    pop_node.child2 = node\n",
    "                    return\n",
    "                else:\n",
    "                    q.append(pop_node.child1)\n",
    "                    q.append(pop_node.child2)\n",
    "    # 层序遍历\n",
    "    def traverse(self):\n",
    "        if self.root is None:\n",
    "            return None\n",
    "        q = [self.root]\n",
    "        res = [self.root.item]\n",
    "        while q != []:\n",
    "            pop_node = q.pop(0)\n",
    "            if pop_node.child1 is not None:\n",
    "                q.append(pop_node.child1)\n",
    "                res.append(pop_node.child1.item)\n",
    "            \n",
    "            if pop_node.child2 is not None:\n",
    "                q.append(pop_node.child2)\n",
    "                res.append(pop_node.child2.item)\n",
    "        return res\n",
    "            \n",
    "    # 前序遍历    \n",
    "    def preorder(self, root):\n",
    "        if root is None:\n",
    "            return []\n",
    "        res = [root.item]\n",
    "        left_item = self.preorder(root.child1)\n",
    "        right_item = self.preorder(root.child2)\n",
    "        return res + left_item + right_item\n",
    "    \n",
    "    # 中序遍历\n",
    "    def inorder(self, root):\n",
    "        if root is None:\n",
    "            return []\n",
    "        res = [root.item]\n",
    "        left_item = self.inorder(root.child1)\n",
    "        right_item = self.inorder(root.child2)\n",
    "        return left_item + res + right_item\n",
    "    \n",
    "    # 后序遍历\n",
    "    def postorder(self, root):\n",
    "        if root is None:\n",
    "            return []\n",
    "        res = [root.item]\n",
    "        left_item = self.postorder(root.child1)\n",
    "        right_item = self.postorder(root.child2)\n",
    "        return left_item + right_item + res\n",
    "    \n",
    "t = Tree()\n",
    "for i in range(10):\n",
    "    t.add(i)\n",
    "print('层序遍历:',t.traverse())\n",
    "print('先序遍历:',t.preorder(t.root))\n",
    "print('中序遍历:',t.inorder(t.root))\n",
    "print('后序遍历:',t.postorder(t.root))"
   ]
  },
  {
   "cell_type": "markdown",
   "metadata": {},
   "source": [
    "### 5.二叉搜索树\n",
    "在一个二叉搜索树（Binary Search Tree）中，给定节点的左子树中的节点要小于它，其右子树中的节点要大于它，它的左、右子树也分别为二叉搜索树。"
   ]
  },
  {
   "cell_type": "code",
   "execution_count": null,
   "metadata": {},
   "outputs": [],
   "source": []
  }
 ],
 "metadata": {
  "kernelspec": {
   "display_name": "Python 3",
   "language": "python",
   "name": "python3"
  },
  "language_info": {
   "codemirror_mode": {
    "name": "ipython",
    "version": 3
   },
   "file_extension": ".py",
   "mimetype": "text/x-python",
   "name": "python",
   "nbconvert_exporter": "python",
   "pygments_lexer": "ipython3",
   "version": "3.7.1"
  }
 },
 "nbformat": 4,
 "nbformat_minor": 2
}
