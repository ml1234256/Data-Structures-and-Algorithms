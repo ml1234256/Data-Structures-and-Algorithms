{
 "cells": [
  {
   "cell_type": "markdown",
   "metadata": {},
   "source": [
    "参考资料：https://www.jianshu.com/p/53f6bf6f8d50"
   ]
  },
  {
   "cell_type": "markdown",
   "metadata": {},
   "source": [
    "####  (1) 二维数组中的查找\n",
    "在一个二维数组中（每个一维数组的长度相同），每一行都按照从左到右递增的顺序排序，每一列都按照从上到下递增的顺序排序。请完成一个函数，输入这样的一个二维数组和一个整数，判断数组中是否含有该整数。\n"
   ]
  },
  {
   "cell_type": "markdown",
   "metadata": {},
   "source": [
    "思路：从二维数组右上角开始对比，若target更大，则向下走一格，删除一行，若target更小，则向左走一格，删除一列"
   ]
  },
  {
   "cell_type": "code",
   "execution_count": 16,
   "metadata": {},
   "outputs": [],
   "source": [
    "# -*- coding:utf-8 -*-\n",
    "class Solution(object):\n",
    "    # array 二维列表\n",
    "    def Find(self, target, array):\n",
    "        # write code here\n",
    "        exis = False\n",
    "        if array ==[[]]:\n",
    "            return exis\n",
    "        \n",
    "        m = len(array)\n",
    "        n = len(array[0])\n",
    "        row = 0\n",
    "        col = n-1\n",
    "        while(row < m and col >= 0):\n",
    "            if target > array[row][col]:\n",
    "                row += 1\n",
    "            elif target < array[row][col]:\n",
    "                col -= 1\n",
    "            else:\n",
    "                exis = True\n",
    "                break\n",
    "        return exis"
   ]
  },
  {
   "cell_type": "code",
   "execution_count": 17,
   "metadata": {},
   "outputs": [
    {
     "name": "stdout",
     "output_type": "stream",
     "text": [
      "[[1, 2, 8, 9], [2, 4, 9, 12], [4, 7, 10, 13]]\n",
      "4\n",
      "[1, 2, 8, 9]\n"
     ]
    },
    {
     "data": {
      "text/plain": [
       "False"
      ]
     },
     "execution_count": 17,
     "metadata": {},
     "output_type": "execute_result"
    }
   ],
   "source": [
    "import numpy as np\n",
    "array = [[1,2,8,9],[2,4,9,12],[4,7,10,13]]\n",
    "print(array)\n",
    "print(len(array[0]))\n",
    "#array = array[1:, :]\n",
    "print(array[0])\n",
    "m = Solution()\n",
    "target = 15\n",
    "m.Find(target, array)"
   ]
  },
  {
   "cell_type": "markdown",
   "metadata": {},
   "source": [
    "#### (2) 调整数组顺序使奇数位于偶数前面\n",
    "输入一个整数数组，实现一个函数来调整该数组中数字的顺序，使得所有的奇数位于数组的前半部分，所有的偶数位于数组的后半部分，并保证奇数和奇数，偶数和偶数之间的相对位置不变。"
   ]
  },
  {
   "cell_type": "code",
   "execution_count": 1,
   "metadata": {},
   "outputs": [],
   "source": [
    "# -*- coding:utf-8 -*-\n",
    "class Solution:\n",
    "    def reOrderArray(self, array):\n",
    "        # write code here\n",
    "        a1 = []\n",
    "        a2 = []\n",
    "        for num in array:\n",
    "            if num%2 == 1:\n",
    "                a1.append(num)\n",
    "            else:\n",
    "                a2.append(num)\n",
    "        return a1 + a2"
   ]
  },
  {
   "cell_type": "code",
   "execution_count": 2,
   "metadata": {},
   "outputs": [
    {
     "data": {
      "text/plain": [
       "[1, 3, 5, 7, 2, 4, 6, 8]"
      ]
     },
     "execution_count": 2,
     "metadata": {},
     "output_type": "execute_result"
    }
   ],
   "source": [
    "a1 = [1,2,3,4,5,6,7,8]\n",
    "Solution().reOrderArray(a1)"
   ]
  },
  {
   "cell_type": "markdown",
   "metadata": {},
   "source": [
    "#### (3)和为S的两个数\n",
    "输入一个递增排序的数组和一个数字S，在数组中查找两个数，使得他们的和正好是S，如果有多对数字的和等于S，输出两个数的乘积最小的。  \n",
    "对应每个测试案例，输出两个数，小的先输出。"
   ]
  },
  {
   "cell_type": "code",
   "execution_count": 3,
   "metadata": {},
   "outputs": [],
   "source": [
    "# -*- coding:utf-8 -*-\n",
    "class Solution:\n",
    "    def FindNumbersWithSum(self, array, tsum):\n",
    "        # write code here\n",
    "        hashMap = {}\n",
    "        res = []\n",
    "        for num in array:\n",
    "                            \n",
    "            if num >= tsum:\n",
    "                break\n",
    "           # print(num)\n",
    "            if num in hashMap:\n",
    "                if res == []:\n",
    "                    res = [hashMap[num], num]\n",
    "                elif res[0]*res[1] > hashMap[num] * num:\n",
    "                    res = [hashMap[num], num]        \n",
    "            else:\n",
    "                hashMap[tsum-num] = num\n",
    "\n",
    "        return res"
   ]
  },
  {
   "cell_type": "code",
   "execution_count": 4,
   "metadata": {},
   "outputs": [
    {
     "name": "stdout",
     "output_type": "stream",
     "text": [
      "1\n",
      "2\n",
      "3\n",
      "4\n",
      "5\n",
      "6\n",
      "7\n",
      "8\n",
      "9\n"
     ]
    },
    {
     "data": {
      "text/plain": [
       "[1, 9]"
      ]
     },
     "execution_count": 4,
     "metadata": {},
     "output_type": "execute_result"
    }
   ],
   "source": [
    "a = [1,2,3,4,5,6,7,8,9,10,11,12]\n",
    "b = 10\n",
    "Solution().FindNumbersWithSum(a, b)"
   ]
  },
  {
   "cell_type": "markdown",
   "metadata": {},
   "source": [
    "#### (4)数组中出现次数超过一半的数字\n",
    "数组中有一个数字出现的次数超过数组长度的一半，请找出这个数字。例如输入一个长度为9的数组{1,2,3,2,2,2,5,4,2}。由于数字2在数组中出现了5次，超过数组长度的一半，因此输出2。如果不存在则输出0。"
   ]
  },
  {
   "cell_type": "code",
   "execution_count": 5,
   "metadata": {},
   "outputs": [],
   "source": [
    "# -*- coding:utf-8 -*-\n",
    "class Solution:\n",
    "    def MoreThanHalfNum_Solution(self, numbers):\n",
    "        # write code here\n",
    "        hashMap = {}\n",
    "        for num in numbers:\n",
    "            if num in hashMap:\n",
    "                hashMap[num] += 1\n",
    "            else:\n",
    "                hashMap[num] = 1\n",
    "            \n",
    "        res = 0\n",
    "        for k in hashMap.keys():\n",
    "            if hashMap[k] > len(numbers)//2:\n",
    "                res = k\n",
    "        return res"
   ]
  },
  {
   "cell_type": "code",
   "execution_count": 6,
   "metadata": {},
   "outputs": [
    {
     "data": {
      "text/plain": [
       "0"
      ]
     },
     "execution_count": 6,
     "metadata": {},
     "output_type": "execute_result"
    }
   ],
   "source": [
    "a = []\n",
    "Solution().MoreThanHalfNum_Solution(a)"
   ]
  },
  {
   "cell_type": "markdown",
   "metadata": {},
   "source": [
    "#### (4) 数组中只出现一次的数字\n",
    "一个整型数组里除了两个数字之外，其他的数字都出现了两次。请写程序找出这两个只出现一次的数字。"
   ]
  },
  {
   "cell_type": "markdown",
   "metadata": {},
   "source": [
    "#### 方法1 异或法：\n",
    "0与数字n异或等于n,n与n异或等于0： 0^n = n, n^n = 0  \n",
    "(1)令eO=0,将其与所有数字异或，如果只有一个数字出现奇次，则最终结果一定为这个数，题目中有两个数字出现一次，所以最终结果为两个只出现一次的数字的异或  \n",
    "(2)找出eO的二进制表示中为1的位置k，通过位置k是1还是0将所有数字分成两组  \n",
    "(3)分别用0去异或两组数组中的数字，最后得出的两个数字即为所求  "
   ]
  },
  {
   "cell_type": "code",
   "execution_count": 7,
   "metadata": {},
   "outputs": [],
   "source": [
    "# -*- coding:utf-8 -*-\n",
    "class Solution:\n",
    "    # 返回[a,b] 其中ab是出现一次的两个数字\n",
    "    def FindNumsAppearOnce(self, array):\n",
    "        # write code here\n",
    "        eO = 0\n",
    "        eOne = 0\n",
    "        for num in array:\n",
    "            eO ^= num\n",
    "            \n",
    "        # 取eO中为1的最低位置\n",
    "        idx = 0\n",
    "        while (eO&1==0 and idx < 32):\n",
    "            eO >>= 1\n",
    "            idx += 1\n",
    "        \n",
    "        res1 = 0\n",
    "        res2 = 0\n",
    "        \n",
    "        for num in array:\n",
    "            if self.isBit(num, idx):\n",
    "                res1 ^= num\n",
    "            else:\n",
    "                res2 ^=num\n",
    "        return [res1, res2]\n",
    "        \n",
    "            \n",
    "    def isBit(self, num, idx): \n",
    "        # 判断num的二进制表示中从右到左第idx位是否为1\n",
    "        num >>= idx\n",
    "        return (num&1)"
   ]
  },
  {
   "cell_type": "markdown",
   "metadata": {},
   "source": [
    "#### 方法2 list法：\n",
    "将array遍历一遍，存入list或set中，如果数字存在list中，则从list中删除，如果数字不在，则添加，最后list中剩下的就是所要找的数字  \n",
    "set()，可进行关系测试，删除重复数据，还可以计算交集、差集、并集等。"
   ]
  },
  {
   "cell_type": "code",
   "execution_count": 8,
   "metadata": {},
   "outputs": [],
   "source": [
    "# -*- coding:utf-8 -*-\n",
    "class Solution:\n",
    "    # 返回[a,b] 其中ab是出现一次的两个数字\n",
    "    def FindNumsAppearOnce(self, array):\n",
    "        # write code here\n",
    "        #  data = []\n",
    "        data = set()\n",
    "        for num in array:\n",
    "            if num in data:\n",
    "                data.remove(num)\n",
    "            else:\n",
    "                data.add(num)\n",
    "        return list(data)"
   ]
  },
  {
   "cell_type": "code",
   "execution_count": 9,
   "metadata": {},
   "outputs": [
    {
     "data": {
      "text/plain": [
       "[2, 7]"
      ]
     },
     "execution_count": 9,
     "metadata": {},
     "output_type": "execute_result"
    }
   ],
   "source": [
    "a = [3,6,8,2,4,3,8,7,6,4]\n",
    "Solution().FindNumsAppearOnce(a)"
   ]
  },
  {
   "cell_type": "markdown",
   "metadata": {},
   "source": [
    "#### 方法3 Hash表法："
   ]
  },
  {
   "cell_type": "code",
   "execution_count": 11,
   "metadata": {},
   "outputs": [],
   "source": [
    "# -*- coding:utf-8 -*-\n",
    "class Solution:\n",
    "    # 返回[a,b] 其中ab是出现一次的两个数字\n",
    "    def FindNumsAppearOnce(self, array):\n",
    "        # write code here\n",
    "        hashMap = {}\n",
    "        for num in array:\n",
    "            if num in hashMap:\n",
    "                hashMap[num] += 1\n",
    "            else:\n",
    "                hashMap[num] = 1\n",
    "        res = []\n",
    "        for num in hashMap.keys():\n",
    "            if hashMap[num] == 1:\n",
    "                res.append(num)\n",
    "        return res   "
   ]
  },
  {
   "cell_type": "markdown",
   "metadata": {},
   "source": [
    "#### (6) 旋转数组中的最小数字\n",
    "把一个数组最开始的若干个元素搬到数组的末尾，我们称之为数组的旋转。 输入一个非减排序的数组的一个旋转，输出旋转数组的最小元素。 例如数组{3,4,5,1,2}为{1,2,3,4,5}的一个旋转，该数组的最小值为1。 NOTE：给出的所有元素都大于0，若数组大小为0，请返回0"
   ]
  },
  {
   "cell_type": "code",
   "execution_count": 23,
   "metadata": {},
   "outputs": [],
   "source": [
    "# -*- coding:utf-8 -*-\n",
    "class Solution:\n",
    "    def minNumberInRotateArray(self, rotateArray):\n",
    "        # write code here\n",
    "        length = len(rotateArray)\n",
    "        res = 0\n",
    "        if length == 0:\n",
    "            return res\n",
    "        if length == 1:\n",
    "            return rotateArray[0]\n",
    "        for i in range(length-1):\n",
    "            if rotateArray[i] > rotateArray[i+1]:\n",
    "                res = rotateArray[i+1]\n",
    "                break\n",
    "        return res\n",
    "            "
   ]
  },
  {
   "cell_type": "code",
   "execution_count": 24,
   "metadata": {},
   "outputs": [
    {
     "name": "stdout",
     "output_type": "stream",
     "text": [
      "1\n"
     ]
    }
   ],
   "source": [
    "a = [3,4,5,1,2]\n",
    "res = Solution().minNumberInRotateArray(a)\n",
    "print(res)"
   ]
  },
  {
   "cell_type": "markdown",
   "metadata": {},
   "source": [
    "#### (7)斐波那契数列\n",
    "斐波那契数列（Fibonacci sequence）指的是这样一个数列：1、1、2、3、5、8、13、21、34、……,以如下被以递推的方法定义：F(1)=1，F(2)=1, F(n)=F(n-1)+F(n-2)（n>=3，n∈N*），现在要求输入一个整数n，请你输出斐波那契数列的第n项（从0开始，第0项为0）。 \n",
    "n<=39 "
   ]
  },
  {
   "cell_type": "code",
   "execution_count": 2,
   "metadata": {},
   "outputs": [],
   "source": [
    "# -*- coding:utf-8 -*-\n",
    "class Solution:\n",
    "    def Fibonacci(self, n):\n",
    "        # write code here\n",
    "        fibo = [0,1]\n",
    "        while(len(fibo)<=n):\n",
    "            fibo.append(fibo[-1]+fibo[-2])\n",
    "        return fibo[n]"
   ]
  },
  {
   "cell_type": "code",
   "execution_count": 5,
   "metadata": {},
   "outputs": [
    {
     "name": "stdout",
     "output_type": "stream",
     "text": [
      "3\n"
     ]
    }
   ],
   "source": [
    "a = Solution().Fibonacci(4)\n",
    "print(a)"
   ]
  },
  {
   "cell_type": "markdown",
   "metadata": {},
   "source": [
    "#### (8)把数组排成最小的数 \n",
    "输入一个正整数数组，把数组里所有数字拼接起来排成一个数，打印能拼接出的所有数字中最小的一个。例如输入数组{3，32，321}，则打印出这三个数字能排成的最小数字为321323"
   ]
  },
  {
   "cell_type": "code",
   "execution_count": 51,
   "metadata": {},
   "outputs": [
    {
     "data": {
      "text/plain": [
       "'321323'"
      ]
     },
     "execution_count": 51,
     "metadata": {},
     "output_type": "execute_result"
    }
   ],
   "source": [
    "# -*- coding:utf-8 -*-\n",
    "class Solution:\n",
    "    def PrintMinNumber(self, numbers):\n",
    "        # write code here\n",
    "        if not numbers:\n",
    "            return ''\n",
    "        if len(numbers)==1:\n",
    "            return numbers[0]\n",
    "            \n",
    "        def compare(str1, str2):\n",
    "            if str1+str2 > str2+str1:\n",
    "                return 1\n",
    "            if str1+str2 == str2+str1:\n",
    "                return 0\n",
    "            else:\n",
    "                return -1\n",
    "            \n",
    "        import functools\n",
    "        strNum = [str(i) for i in numbers]\n",
    "        strNum = sorted(strNum, key=functools.cmp_to_key(compare))\n",
    "        return ''.join(strNum)\n",
    "\n",
    "\n",
    "a = [3, 32, 321]\n",
    "Solution().PrintMinNumber(a)"
   ]
  },
  {
   "cell_type": "markdown",
   "metadata": {},
   "source": [
    "#### (9)连续子数组的最大和\n",
    "HZ偶尔会拿些专业问题来忽悠那些非计算机专业的同学。今天测试组开完会后,他又发话了:在古老的一维模式识别中,常常需要计算连续子向量的最大和,当向量全为正数的时候,问题很好解决。但是,如果向量中包含负数,是否应该包含某个负数,并期望旁边的正数会弥补它呢？例如:{6,-3,-2,7,-15,1,2,2},连续子向量的最大和为8(从第0个开始,到第3个为止)。给一个数组，返回它的最大连续子序列的和，你会不会被他忽悠住？(子向量的长度至少是1)"
   ]
  },
  {
   "cell_type": "code",
   "execution_count": 1,
   "metadata": {},
   "outputs": [],
   "source": [
    "# -*- coding:utf-8 -*-\n",
    "class Solution:\n",
    "    def FindGreatestSumOfSubArray(self, array):\n",
    "        # write code here\n",
    "        if not array:\n",
    "            return 0\n",
    "        sum = 0\n",
    "        maxsum = array[0]\n",
    "        for num in array:\n",
    "            sum += num\n",
    "            if sum > maxsum:\n",
    "                maxsum = sum\n",
    "            if sum < 0:\n",
    "                sum = 0\n",
    "        return maxsum"
   ]
  },
  {
   "cell_type": "code",
   "execution_count": 2,
   "metadata": {},
   "outputs": [
    {
     "data": {
      "text/plain": [
       "8"
      ]
     },
     "execution_count": 2,
     "metadata": {},
     "output_type": "execute_result"
    }
   ],
   "source": [
    "a = [6,-3,-2,7,-15,1,2,2]\n",
    "Solution().FindGreatestSumOfSubArray(a)"
   ]
  },
  {
   "cell_type": "markdown",
   "metadata": {},
   "source": [
    "#### (9)顺时针打印矩阵\n",
    "输入一个矩阵，按照从外向里以顺时针的顺序依次打印出每一个数字，例如，如果输入如下4 X 4矩阵： \n",
    "$$\\begin{bmatrix}1 & 2 & 3 & 4 \\\\ 5 & 6 & 7 &8 \\\\ 9 & 10 & 11 & 12 \\\\ 13 & 14 & 15 & 16\\end{bmatrix}$$\n",
    "则依次打印出数字1,2,3,4,8,12,16,15,14,13,9,5,6,7,11,10."
   ]
  },
  {
   "cell_type": "code",
   "execution_count": 69,
   "metadata": {},
   "outputs": [
    {
     "data": {
      "text/plain": [
       "[1, 2, 3, 4, 8, 12, 16, 15, 14, 13, 9, 5, 6, 7, 11, 10]"
      ]
     },
     "execution_count": 69,
     "metadata": {},
     "output_type": "execute_result"
    }
   ],
   "source": [
    "# -*- coding:utf-8 -*-\n",
    "class Solution:\n",
    "    # matrix类型为二维列表，需要返回列表\n",
    "    def printMatrix(self, matrix):\n",
    "        # write code here\n",
    "        res = []\n",
    "        while matrix:\n",
    "            res += matrix.pop(0)\n",
    "            if matrix:\n",
    "                matrix = self.rotate(matrix)\n",
    "        return res\n",
    "    \n",
    "    def rotate(self, matrix):\n",
    "        row = len(matrix)\n",
    "        col = len(matrix[0])\n",
    "        rotate_matrix = []\n",
    "        for i in range(col-1, -1, -1):\n",
    "            r = []\n",
    "            for j in range(row):\n",
    "                r.append(matrix[j][i])\n",
    "            rotate_matrix.append(r)\n",
    "        return rotate_matrix\n",
    "    \n",
    "a = [[1,2,3,4],\n",
    "    [5,6,7,8],\n",
    "    [9,10,11,12],\n",
    "    [13,14,15,16]]\n",
    "Solution().printMatrix(a)"
   ]
  },
  {
   "cell_type": "code",
   "execution_count": 67,
   "metadata": {},
   "outputs": [
    {
     "data": {
      "text/plain": [
       "[[8, 12, 16], [7, 11, 15], [6, 10, 14], [5, 9, 13]]"
      ]
     },
     "execution_count": 67,
     "metadata": {},
     "output_type": "execute_result"
    }
   ],
   "source": [
    "import numpy as np\n",
    "a = [[1,2,3,4],\n",
    "    [5,6,7,8],\n",
    "    [9,10,11,12],\n",
    "    [13,14,15,16]]\n",
    "a.pop(0)\n",
    "\n",
    "\n",
    "    \n",
    "def rotate( matrix):\n",
    "    row = len(matrix)\n",
    "    col = len(matrix[0])\n",
    "    rotate_matrix = []\n",
    "    for i in range(col-1, -1, -1):\n",
    "        r = []\n",
    "        for j in range(row):\n",
    "            r.append(matrix[j][i])\n",
    "        rotate_matrix.append(r)\n",
    "    return rotate_matrix\n",
    "n = rotate(a)\n",
    "n"
   ]
  },
  {
   "cell_type": "markdown",
   "metadata": {},
   "source": [
    "#### （10）回文数组\n",
    "https://www.nowcoder.com/practice/00fccaa8e30d414ab86b9bb229bd8e68 <br>\n",
    "题目描述\n",
    "对于一个给定的正整数组成的数组 a[] ，如果将 a 倒序后数字的排列与 a 完全相同，我们称这个数组为“回文”的。\n",
    "例如， [1, 2, 3, 2, 1] 的倒序是他自己，所以是一个回文的数组；而 [1, 2, 3, 1, 2] 的倒序是 [2, 1, 3, 2, 1] ，所以不是一个回文的数组。\n",
    "对于任意一个正整数数组，如果我们向其中某些特定的位置插入一些正整数，那么我们总是能构造出一个回文的数组。\n",
    "\n",
    "输入一个正整数组成的数组，要求你插入一些数字，使其变为回文的数组，且数组中所有数字的和尽可能小。输出这个插入后数组中元素的和。\n",
    "\n",
    "例如，对于数组 [1, 2, 3, 1, 2] 我们可以插入两个 1 将其变为回文的数组 [1, 2, 1, 3, 1, 2, 1] ，这种变换方式数组的总和最小，为 11 ，所以输出为 11 。\n",
    "输入描述:\n",
    "\n",
    "输入数据由两行组成： 第一行包含一个正整数 L ，表示数组 a 的长度。 第二行包含 L 个正整数，表示数组 a 。  对于 40% 的数据： 1 < L <= 100 达成条件时需要插入的数字数量不多于 2 个。  对于 100% 的数据： 1 < L <= 1,000 0 < a[i] <= 1,000,000 达成条件时需要插入的数字数量没有限制。\n",
    "\n",
    "输出描述:\n",
    "\n",
    "输出一个整数，表示通过插入若干个正整数使数组 a 回文后，数组 a 的数字和的最小值。"
   ]
  },
  {
   "cell_type": "code",
   "execution_count": null,
   "metadata": {},
   "outputs": [],
   "source": []
  },
  {
   "cell_type": "markdown",
   "metadata": {},
   "source": [
    "#### （11）中位数\n",
    "https://www.nowcoder.com/practice/47232470945644458213ddd07580e121 <br>\n",
    "题目描述\n",
    "\n",
    "小M给你一个长度为n的数组，我们定义median数为该数组从小到大排序后，下标为(n-1)/2的数字。下标从0开始，(n-1)/2表示整数除法，即向下取整。现在我们已经得到了一个初始的数组，我们希望这个数组的median数是一个给定数字x。所以我们需要加入一些数到数组中从而完成我们的目标。数组中的元素可以重复，请问，最少需要加入多少个数字才能达成这个目标。\n",
    "输入描述:\n",
    "\n",
    "第一行输入两个整数n x (1 <= n <= 500, 1 <= x <= 10^5)。\n",
    "\n",
    "接下来一行有n个正整数表示初始的数组，用空格分开，范围是[1, 10^5]。\n",
    "\n",
    "输出描述:\n",
    "\n",
    "输出需要加入最少的元素个数才能够使得新数组的median数成为x。"
   ]
  },
  {
   "cell_type": "code",
   "execution_count": null,
   "metadata": {},
   "outputs": [],
   "source": []
  }
 ],
 "metadata": {
  "kernelspec": {
   "display_name": "Python 3",
   "language": "python",
   "name": "python3"
  },
  "language_info": {
   "codemirror_mode": {
    "name": "ipython",
    "version": 3
   },
   "file_extension": ".py",
   "mimetype": "text/x-python",
   "name": "python",
   "nbconvert_exporter": "python",
   "pygments_lexer": "ipython3",
   "version": "3.7.1"
  }
 },
 "nbformat": 4,
 "nbformat_minor": 2
}
