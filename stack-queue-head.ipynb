{
 "cells": [
  {
   "cell_type": "markdown",
   "metadata": {},
   "source": [
    "参考资料：https://mp.weixin.qq.com/s/IyYjs4rLZxNLOJHbArPPHg\n",
    "### 1.栈（stark）\n",
    "后进先出（last-in first-out, LIFO）的线性集合，只能在一端(称为栈顶(top))对数据项进行插入和删除,从栈放入项和从栈删除项的操作分别叫作压入（push）和弹出（pop）\n",
    "![stack](./img/stack1.jpg)\n",
    "\n",
    "### 2.队列（queue)\n",
    "先进先出（first-in first-out, FIFO）的线性集合,允许在表的前端（front）进行删除操作，而在表的后端（rear）进行插入操作,队列有两种基本操作，add会在队尾添加一项，pop从队头删除一项\n",
    "\n",
    "### 3.堆（head)\n",
    "https://www.jianshu.com/p/6b526aa481b1  \n",
    "一颗完全二叉树，总是满足下列性质：\n",
    "- 堆中某个节点的值总是不大于或不小于其父节点的值\n",
    "- 堆总是一棵完全二叉树\n",
    "将根节点最大的堆叫做最大堆或大根堆，根节点最小的堆叫做最小堆或小根堆,下图是一个最大堆\n",
    "![heap](./img/heap.jpg)"
   ]
  },
  {
   "cell_type": "code",
   "execution_count": null,
   "metadata": {},
   "outputs": [],
   "source": []
  }
 ],
 "metadata": {
  "kernelspec": {
   "display_name": "Python 3",
   "language": "python",
   "name": "python3"
  },
  "language_info": {
   "codemirror_mode": {
    "name": "ipython",
    "version": 3
   },
   "file_extension": ".py",
   "mimetype": "text/x-python",
   "name": "python",
   "nbconvert_exporter": "python",
   "pygments_lexer": "ipython3",
   "version": "3.7.1"
  }
 },
 "nbformat": 4,
 "nbformat_minor": 2
}
