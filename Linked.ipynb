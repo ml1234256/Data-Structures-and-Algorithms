{
 "cells": [
  {
   "cell_type": "markdown",
   "metadata": {},
   "source": [
    "### 链表(Linked)\n",
    "链表是一种物理存储单元上非连续、非顺序的存储单元，数据元素的逻辑顺序是通过链表中的指针链接次序实现的。链表由一系列结点（链表中每一个元素称为结点）组成，结点可以在运行时动态生成。每个结点包括两个部分：一个是存储数据元素的数据域，另一个是存储下一个结点地址的指针域。\n",
    "![link](./img/link1.png)\n",
    "#### 链表的特点\n",
    "- 不要求逻辑上相连的两个元素物理上也相连\n",
    "- 读取查询操作比数组难，链表结构无法通过指定索引位置来立即访问\n",
    "- 插入、删除操作比数组简单，不需要移动元素，只需要修改“链”\n",
    "- 在每一次插入和删除过程中，链表结构会调整大小，不需要额外的内存代价，不需要复制数据项\n",
    "\n",
    "#### 单链表(single linked)\n",
    "链表结构的基本单位表示是节点，单链表的节点包括了：<br>\n",
    "1 一个数据项<br>\n",
    "2 到结构中下一个节点的一个链接<br>\n",
    "在单链表结构中，容易获取一个项的后继项，但不容易获取一个项的前驱项，用户通过沿着一个外部的头链接（head link）来访问第一个项，然后通过第一个项产生的、串联起来的、单个的链条，来访问其他项。<br>\n"
   ]
  },
  {
   "cell_type": "code",
   "execution_count": 21,
   "metadata": {},
   "outputs": [
    {
     "name": "stdout",
     "output_type": "stream",
     "text": [
      "4\n",
      "3\n",
      "2\n",
      "1\n",
      "0\n"
     ]
    }
   ],
   "source": [
    "# 用python定义一个简单的单链表节点类\n",
    "class Node(object):\n",
    "    def __init__(self, data, next=None):\n",
    "        self.data = data\n",
    "        self.next = next\n",
    "\n",
    "# 用Node类创建一个含有5个节点的单链表结构\n",
    "head = None # head:指向链表头部的指针\n",
    "for i in range(5):\n",
    "    head = Node(i, head)\n",
    "# Print the contents of the structure\n",
    "while head != None:\n",
    "    print(head.data)\n",
    "    head = head.next\n",
    "\n",
    "# 注：（1）指针head生成了链表结构，最近插入的项总是位于结构的开始处\n",
    "#    （2）Print数据时，按照插入顺序相反出现\n",
    "#    （3）Print数据时，head指针重新设置成下一个节点，直到变为None，所以这个过程后，节点从链表结构中删除，不可再用"
   ]
  },
  {
   "cell_type": "code",
   "execution_count": 23,
   "metadata": {},
   "outputs": [
    {
     "name": "stdout",
     "output_type": "stream",
     "text": [
      "(1）遍历（traversal)\n",
      "4\n",
      "3\n",
      "2\n",
      "1\n",
      "0\n",
      "(2)搜索\n",
      "targetItem 9 is not in the linked\n",
      "4\n",
      "(3)替换\n",
      "Success\n"
     ]
    }
   ],
   "source": [
    "# 单链表结构上的操作\n",
    "# Create a single linked\n",
    "head = None \n",
    "for i in range(5):\n",
    "    head = Node(i, head)\n",
    "\n",
    "# （1）遍历（traversal) O(n)\n",
    "print('(1）遍历（traversal)')\n",
    "# 访问每一个节点而不删除它们，使用一个临时指针变量prob\n",
    "prob = head\n",
    "while prob != None:\n",
    "    print(prob.data)\n",
    "    prob = prob.next\n",
    "    \n",
    "# (2)搜索\n",
    "print('(2)搜索')\n",
    "targetItem = 9\n",
    "prob = head\n",
    "while prob != None and targetItem != prob.data:\n",
    "    prob = prob.next\n",
    "if prob != None:\n",
    "    print(\"targetItem {} has been found\".format(prob.data))\n",
    "else:\n",
    "    print(\"targetItem {} is not in the linked\".format(targetItem))\n",
    "\n",
    "# 访问链表中第i项 O(n)\n",
    "# Assumes 0 <= index < n\n",
    "def read_data(head, index):\n",
    "    prob = head\n",
    "    while index > 0:\n",
    "        prob = prob.next\n",
    "        index -= 1\n",
    "    return prob.data\n",
    "print(read_data(head, 0))\n",
    "\n",
    "# (3)替换\n",
    "print('(3)替换')\n",
    "# 替换一个给定项 O(n)\n",
    "targetItem = 0\n",
    "newItem = 10\n",
    "prob = head\n",
    "while prob != None and targetItem != prob.data:\n",
    "    prob = prob.next\n",
    "if prob != None:\n",
    "    prob.data = newItem\n",
    "    print('Success')\n",
    "else:\n",
    "    print('False')\n",
    "    \n",
    "# 替换第i项 O(n)\n",
    "index = 1\n",
    "prob = head\n",
    "while index > 0:\n",
    "    prob = prob.next\n",
    "    index -= 1\n",
    "prob.data = newItem\n"
   ]
  },
  {
   "cell_type": "code",
   "execution_count": 38,
   "metadata": {},
   "outputs": [
    {
     "name": "stdout",
     "output_type": "stream",
     "text": [
      "4\n",
      "3\n",
      "2\n",
      "1\n",
      "0\n",
      "在开始出插入\n",
      "b\n",
      "4\n",
      "3\n",
      "2\n",
      "1\n",
      "0\n",
      "在末尾插入\n",
      "b\n",
      "4\n",
      "3\n",
      "2\n",
      "1\n",
      "0\n",
      "34\n",
      "在任何位置插入\n",
      "b\n",
      "4\n",
      "b\n",
      "3\n",
      "2\n",
      "1\n",
      "0\n",
      "34\n",
      "从开始处删除\n",
      "4\n",
      "b\n",
      "3\n",
      "2\n",
      "1\n",
      "0\n",
      "34\n"
     ]
    },
    {
     "data": {
      "text/plain": [
       "'b'"
      ]
     },
     "execution_count": 38,
     "metadata": {},
     "output_type": "execute_result"
    }
   ],
   "source": [
    "while head != None:\n",
    "    head = head.next\n",
    "for i in range(5):\n",
    "    head = Node(i, head)\n",
    "def print_linked(head):\n",
    "    prob = head\n",
    "    while prob != None:\n",
    "        print(prob.data)\n",
    "        prob = prob.next\n",
    "print_linked(head)\n",
    "# (4）插入\n",
    "print('在开始出插入') # O(1)\n",
    "head = Node(newItem, head)\n",
    "print_linked(head)\n",
    "\n",
    "print('在末尾插入') # O(n)\n",
    "newNode = Node(34)\n",
    "if head is None:\n",
    "    head = newNode\n",
    "else:\n",
    "    prob = head\n",
    "    while prob.next != None:\n",
    "        prob = prob.next\n",
    "    prob.next = newNode\n",
    "print_linked(head)\n",
    "\n",
    "print('在任何位置插入')\n",
    "idx = 2\n",
    "newItem = 'b'\n",
    "if head is None or idx <= 0:\n",
    "    head = Node(newItem, head)\n",
    "else:\n",
    "    prob = head\n",
    "    while idx>1 and prob.next != None:\n",
    "        prob = prob.next\n",
    "        idx -= 1\n",
    "    prob.next = Node(newItem, prob.next)\n",
    "print_linked(head)\n",
    "#（5）删除\n",
    "print('从开始处删除') # O（1）\n",
    "removeItem = head.data\n",
    "head = head.next\n",
    "print_linked(head)\n",
    "head.next.data"
   ]
  },
  {
   "cell_type": "markdown",
   "metadata": {},
   "source": [
    "#### 双链表结构(doubly linked structure)\n",
    "双链表结构的节点包括了：<br>\n",
    "1 一个数据项<br>\n",
    "2 到结构中下一个节点的一个链接<br>\n",
    "3 到结构中上一个节点的一个链接 <br>\n",
    "双链表节点包括了两个方向的节点，所以用户很容易移动到一个节点的后继项和前驱项<br>"
   ]
  },
  {
   "cell_type": "code",
   "execution_count": 7,
   "metadata": {},
   "outputs": [
    {
     "name": "stdout",
     "output_type": "stream",
     "text": [
      "4\n",
      "3\n",
      "2\n",
      "1\n",
      "0\n"
     ]
    }
   ],
   "source": [
    "# 双链表节点的python实现\n",
    "class TwoWayNode(Node):\n",
    "    def __init__(self, data, previous=None, next=None):\n",
    "        Node.__init__(self, data, next)\n",
    "        self.previous = previous\n",
    "\n",
    "# Create a double linked structure with one node\n",
    "head = TwoWayNode(0)\n",
    "tail = head # tail:指向尾部的指针\n",
    "\n",
    "# Add four nodes to the end of the double linked structure\n",
    "for i in range(1,5):\n",
    "    tail = TwoWayNode(i, tail) # previous=tail\n",
    "# Print the contents of the double linked structure in reverse order\n",
    "prob = tail\n",
    "while prob != None:\n",
    "    print(prob.data)\n",
    "    prob = prob.previous"
   ]
  },
  {
   "cell_type": "markdown",
   "metadata": {},
   "source": [
    "### 剑指offer: https://www.nowcoder.com/ta/coding-interviews\n",
    "#### （1）从尾到头打印链表\n",
    "输入一个链表，按链表值从尾到头的顺序返回一个ArrayList。"
   ]
  },
  {
   "cell_type": "code",
   "execution_count": 11,
   "metadata": {},
   "outputs": [],
   "source": [
    "# -*- coding:utf-8 -*-\n",
    "class ListNode:\n",
    "    def __init__(self, x):\n",
    "        self.val = x\n",
    "        self.next = None\n",
    "\n",
    "class Solution:\n",
    "    # 返回从尾部到头部的列表值序列，例如[1,2,3]\n",
    "    def printListFromTailToHead(self, listNode):\n",
    "        # write code here\n",
    "        temp = []\n",
    " #       temp_rev = []\n",
    "        prob = listNode\n",
    "        if listNode is None:\n",
    "            return temp\n",
    "        while prob != None:\n",
    "            temp.append(prob.val) \n",
    "            prob = prob.next\n",
    "#         for i in range(len(temp)):\n",
    "#             temp_rev.append(temp[len(temp)-i-1])  \n",
    "        return temp[::-1]  # return temp_rev "
   ]
  },
  {
   "cell_type": "code",
   "execution_count": 13,
   "metadata": {},
   "outputs": [
    {
     "name": "stdout",
     "output_type": "stream",
     "text": [
      "0\n",
      "1\n",
      "2\n",
      "3\n",
      "4\n"
     ]
    },
    {
     "data": {
      "text/plain": [
       "[4, 3, 2, 1, 0]"
      ]
     },
     "execution_count": 13,
     "metadata": {},
     "output_type": "execute_result"
    }
   ],
   "source": [
    "# 清空linked\n",
    "while head != None:\n",
    "    head = head.next\n",
    "# 创建linked\n",
    "head = ListNode(0)\n",
    "tail = head\n",
    "for i in range(1, 5):\n",
    "    tail.next = ListNode(i)\n",
    "    tail = tail.next\n",
    "prob = head\n",
    "while prob != None:\n",
    "    print(prob.val)\n",
    "    prob = prob.next\n",
    "Solution().printListFromTailToHead(head)"
   ]
  },
  {
   "cell_type": "markdown",
   "metadata": {},
   "source": [
    "#### (2) 链表中倒数第k个结点\n",
    "输入一个链表，输出该链表中倒数第k个结点。为了符合大多数人的习惯，本题从1开始计数，即链表的尾节点是倒数第一个节点。例如，一个链表有6个节点，从头结点开始，它们的值依次是1,2,3,4,5,6。这个链表的倒数第三个节点是值为4的节点。"
   ]
  },
  {
   "cell_type": "code",
   "execution_count": 17,
   "metadata": {},
   "outputs": [],
   "source": [
    "# 解题思路：为了实现只遍历链表一次就能找到倒数第k个节点，我们可以定义两个指针。让第一个指针先向前走k-1步，\n",
    "# 第二个指针保持不动；从第k步开始，第二个指针也开始从链表的头指针开始遍历。由于两个指针的距离保持在k-1,当\n",
    "# 第一个指针到达链表的尾节点时，第二个指针刚好到达倒数第k个节点。\n",
    "# -*- coding:utf-8 -*-\n",
    "class ListNode:\n",
    "    def __init__(self, x):\n",
    "        self.val = x\n",
    "        self.next = None\n",
    "\n",
    "class Solution:\n",
    "    def FindKthToTail(self, head, k):\n",
    "        # write code here\n",
    "        if head is None or k <= 0:\n",
    "            return None\n",
    "        pAhead = head\n",
    "        pBhead = head\n",
    "        for i in range(k-1):\n",
    "            if pAhead.next != None:\n",
    "                pAhead = pAhead.next\n",
    "            else:\n",
    "                return None\n",
    "        while pAhead.next != None:\n",
    "            pAhead = pAhead.next\n",
    "            pBhead = pBhead.next\n",
    "        return pBhead\n",
    "    "
   ]
  },
  {
   "cell_type": "code",
   "execution_count": 19,
   "metadata": {},
   "outputs": [
    {
     "name": "stdout",
     "output_type": "stream",
     "text": [
      "0\n",
      "1\n",
      "2\n",
      "3\n",
      "4\n"
     ]
    },
    {
     "data": {
      "text/plain": [
       "2"
      ]
     },
     "execution_count": 19,
     "metadata": {},
     "output_type": "execute_result"
    }
   ],
   "source": [
    "while head != None:\n",
    "    head = head.next\n",
    "# 创建linked\n",
    "head = ListNode(0)\n",
    "tail = head\n",
    "for i in range(1, 5):\n",
    "    tail.next = ListNode(i)\n",
    "    tail = tail.next\n",
    "prob = head\n",
    "while prob != None:\n",
    "    print(prob.val)\n",
    "    prob = prob.next\n",
    "a = Solution().FindKthToTail(head, 3)\n",
    "a.val"
   ]
  },
  {
   "cell_type": "markdown",
   "metadata": {},
   "source": [
    "#### （3）反转链表\n",
    "输入一个链表，反转链表后，输出新链表的表头。"
   ]
  },
  {
   "cell_type": "code",
   "execution_count": 38,
   "metadata": {},
   "outputs": [
    {
     "data": {
      "text/plain": [
       "[10, 1, 2, 10, 4]"
      ]
     },
     "execution_count": 38,
     "metadata": {},
     "output_type": "execute_result"
    }
   ],
   "source": [
    "# -*- coding:utf-8 -*-\n",
    "class ListNode:\n",
    "    def __init__(self, x):\n",
    "        self.val = x\n",
    "        self.next = None\n",
    "        \n",
    "class Solution:\n",
    "    # 返回ListNode\n",
    "    def ReverseList(self, pHead):\n",
    "        # write code here\n",
    "        pReverseHead = None\n",
    "        pPrev = None\n",
    "        pNode = pHead\n",
    "        while pNode:\n",
    "            pNext = pNode.next\n",
    "            if pNext is None:\n",
    "                pReverseHead = pNode\n",
    "            pNode.next = pPrev\n",
    "            pPrev = pNode\n",
    "            pNode = pNext\n",
    "        return pReverseHead\n",
    "            \n",
    "Solution().ReverseList(head)                       "
   ]
  },
  {
   "cell_type": "markdown",
   "metadata": {},
   "source": [
    "#### （4）合并两个排序的链表\n",
    "输入两个单调递增的链表，输出两个链表合成后的链表，当然我们需要合成后的链表满足单调不减规则"
   ]
  },
  {
   "cell_type": "code",
   "execution_count": 4,
   "metadata": {},
   "outputs": [
    {
     "ename": "SyntaxError",
     "evalue": "unexpected EOF while parsing (<ipython-input-4-086d0aec924f>, line 9)",
     "output_type": "error",
     "traceback": [
      "\u001b[0;36m  File \u001b[0;32m\"<ipython-input-4-086d0aec924f>\"\u001b[0;36m, line \u001b[0;32m9\u001b[0m\n\u001b[0;31m    # write code here\u001b[0m\n\u001b[0m                     ^\u001b[0m\n\u001b[0;31mSyntaxError\u001b[0m\u001b[0;31m:\u001b[0m unexpected EOF while parsing\n"
     ]
    }
   ],
   "source": [
    "# -*- coding:utf-8 -*-\n",
    "# class ListNode:\n",
    "#     def __init__(self, x):\n",
    "#         self.val = x\n",
    "#         self.next = None\n",
    "class Solution:\n",
    "    # 返回合并后列表\n",
    "    def Merge(self, pHead1, pHead2):\n",
    "        # write code here"
   ]
  },
  {
   "cell_type": "markdown",
   "metadata": {},
   "source": [
    "#### （5）链表中环的入口节点\n",
    "题目：如果一个链表中包含环，如何找出环的入口节点？例如在如图3.8所示的链表中，环的入口节点是3  \n",
    "1->2->3->4->5->6 and 6->3"
   ]
  },
  {
   "cell_type": "code",
   "execution_count": null,
   "metadata": {},
   "outputs": [],
   "source": [
    "# -*- coding:utf-8 -*-\n",
    "# class ListNode:\n",
    "#     def __init__(self, x):\n",
    "#         self.val = x\n",
    "#         self.next = None\n",
    "\n",
    "# 方法1：快慢指针法\n",
    "class Solution:\n",
    "    def EntryNodeOfLoop(self, pHead):\n",
    "        # write code here\n",
    "        if pHead is None or pHead.next is None:\n",
    "            return None\n",
    "        pFast = pHead\n",
    "        pSlow = pHead\n",
    "        while pFast and pFast.next:\n",
    "            pFast = pFast.next.next\n",
    "            pSlow = pSlow.next\n",
    "            if pFast == pSlow:\n",
    "                prob = pHead\n",
    "                while pFast != prob:\n",
    "                    prob = prob.next\n",
    "                    pFast = pFast.next\n",
    "                return prob\n",
    "        return None\n",
    "\n",
    "# 方法2：哈希表法\n",
    "class Solution:\n",
    "    def EntryNodeOfLoop(self, pHead):\n",
    "        # write code here\n",
    "        hash_list = set()\n",
    "        prob = pHead\n",
    "        while prob:\n",
    "            if prob in hash_list:\n",
    "                return prob\n",
    "            hash_list.add(prob)\n",
    "            prob = prob.next\n",
    "        return None"
   ]
  },
  {
   "cell_type": "markdown",
   "metadata": {},
   "source": [
    "#### (6) 删除链表中重复的结点\n",
    "在一个排序的链表中，存在重复的结点，请删除该链表中重复的结点，重复的结点不保留，返回链表头指针。 例如，链表1->2->3->3->4->4->5 <br>处理后为1->2->5"
   ]
  },
  {
   "cell_type": "code",
   "execution_count": 60,
   "metadata": {},
   "outputs": [],
   "source": [
    "# -*- coding:utf-8 -*-\n",
    "# class ListNode:\n",
    "#     def __init__(self, x):\n",
    "#         self.val = x\n",
    "#         self.next = None\n",
    "class Solution:\n",
    "    def deleteDuplication(self, pHead):\n",
    "        # write code here\n",
    "        prob = pHead\n"
   ]
  },
  {
   "cell_type": "markdown",
   "metadata": {},
   "source": [
    "#### (7) 两个链表的第一个公共结点\n",
    "输入两个链表，找出它们的第一个公共结点"
   ]
  },
  {
   "cell_type": "code",
   "execution_count": null,
   "metadata": {},
   "outputs": [],
   "source": [
    "# -*- coding:utf-8 -*-\n",
    "# class ListNode:\n",
    "#     def __init__(self, x):\n",
    "#         self.val = x\n",
    "#         self.next = None\n",
    "class Solution:\n",
    "    def FindFirstCommonNode(self, pHead1, pHead2):\n",
    "        # write code here"
   ]
  },
  {
   "cell_type": "markdown",
   "metadata": {},
   "source": [
    "#### (8)复杂链表的复制\n",
    "输入一个复杂链表（每个节点中有节点值，以及两个指针，一个指向下一个节点，另一个特殊指针指向任意一个节点），返回结果为复制后复杂链表的head。（注意，输出结果中请不要返回参数中的节点引用，否则判题程序会直接返回空）"
   ]
  },
  {
   "cell_type": "code",
   "execution_count": null,
   "metadata": {},
   "outputs": [],
   "source": [
    "# -*- coding:utf-8 -*-\n",
    "# class RandomListNode:\n",
    "#     def __init__(self, x):\n",
    "#         self.label = x\n",
    "#         self.next = None\n",
    "#         self.random = None\n",
    "class Solution:\n",
    "    # 返回 RandomListNode\n",
    "    def Clone(self, pHead):\n",
    "        # write code here"
   ]
  }
 ],
 "metadata": {
  "kernelspec": {
   "display_name": "Python 3",
   "language": "python",
   "name": "python3"
  },
  "language_info": {
   "codemirror_mode": {
    "name": "ipython",
    "version": 3
   },
   "file_extension": ".py",
   "mimetype": "text/x-python",
   "name": "python",
   "nbconvert_exporter": "python",
   "pygments_lexer": "ipython3",
   "version": "3.7.1"
  }
 },
 "nbformat": 4,
 "nbformat_minor": 2
}
